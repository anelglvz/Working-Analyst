{
  "nbformat": 4,
  "nbformat_minor": 0,
  "metadata": {
    "colab": {
      "provenance": [],
      "include_colab_link": true
    },
    "kernelspec": {
      "name": "python3",
      "display_name": "Python 3"
    },
    "language_info": {
      "name": "python"
    }
  },
  "cells": [
    {
      "cell_type": "markdown",
      "metadata": {
        "id": "view-in-github",
        "colab_type": "text"
      },
      "source": [
        "<a href=\"https://colab.research.google.com/github/anelglvz/Working-Analyst/blob/main/Matem%C3%A1ticas_CD/Calculo_Opt_Problema_del_Viajante.ipynb\" target=\"_parent\"><img src=\"https://colab.research.google.com/assets/colab-badge.svg\" alt=\"Open In Colab\"/></a>"
      ]
    },
    {
      "cell_type": "markdown",
      "source": [
        "# Introducción"
      ],
      "metadata": {
        "id": "mCVD1U5RG7fk"
      }
    },
    {
      "cell_type": "markdown",
      "metadata": {
        "id": "mEH70AWcz_q4"
      },
      "source": [
        "Utilizaremos programación lineal para resolver el **Problema del Viajante** (Travel Salesman Problem).\n",
        "\n",
        "El problema es encontrar la **ruta más corta que conecta a todas las ciudades**, con las restricciones de que debe ser una única ruta (i.e. no puede haber sub rutas) y sólo se puede entrar y salir de cada ciudad una sola vez.\n",
        "\n",
        "Se crearán las \"coordenadas\" de ciudades ficticias y para medir su distancia se usará la distancia euclideana. "
      ]
    },
    {
      "cell_type": "markdown",
      "metadata": {
        "id": "hDsNCo_xz-AN"
      },
      "source": [
        "# Dependencias"
      ]
    },
    {
      "cell_type": "code",
      "source": [
        "!pip install mip"
      ],
      "metadata": {
        "id": "K73usFBCU4Bt"
      },
      "execution_count": null,
      "outputs": []
    },
    {
      "cell_type": "code",
      "source": [
        "### That will kill the current Python runtime process\n",
        "import os\n",
        "os.kill(os.getpid(), 9)"
      ],
      "metadata": {
        "id": "R-ZvVjioYYJs"
      },
      "execution_count": null,
      "outputs": []
    },
    {
      "cell_type": "code",
      "metadata": {
        "id": "XEmr366AXhWk"
      },
      "source": [
        "!pip install -U plotly"
      ],
      "execution_count": null,
      "outputs": []
    },
    {
      "cell_type": "code",
      "metadata": {
        "id": "tZajVv1NXSXl"
      },
      "source": [
        "import pandas as pd\n",
        "import numpy as np\n",
        "import matplotlib.pyplot as plt\n",
        "\n",
        "\n",
        "from scipy.spatial import distance_matrix\n",
        "\n",
        "from itertools import product\n",
        "from mip import Model, xsum, minimize, BINARY\n",
        "\n",
        "import plotly.express as px\n",
        "import plotly.io as pio"
      ],
      "execution_count": null,
      "outputs": []
    },
    {
      "cell_type": "code",
      "metadata": {
        "id": "ybQYQteqaJ8e"
      },
      "source": [
        "pio.templates.default = \"plotly_white\""
      ],
      "execution_count": null,
      "outputs": []
    },
    {
      "cell_type": "markdown",
      "metadata": {
        "id": "1IENwnBL2O2e"
      },
      "source": [
        "# Funciones para la visualización de los datos"
      ]
    },
    {
      "cell_type": "code",
      "metadata": {
        "id": "lUN7M8d_Z67I"
      },
      "source": [
        "def plot_cities(coords):\n",
        "    fig = px.scatter(coords.reset_index(), 'x', 'y', hover_name='index')\n",
        "    fig.update_traces(marker=dict(size=15,\n",
        "                                line=dict(width=2,\n",
        "                                            color='DarkSlateGrey')),\n",
        "                    selector=dict(mode='markers')\n",
        "                    )\n",
        "    return fig\n",
        "\n",
        "def plot_cities_and_route(points, edges):\n",
        "    fig = plot_cities(points)\n",
        "    for edge in edges:\n",
        "        fig.add_shape(\n",
        "            type = 'line', \n",
        "            x0 = points.loc[f'ciudad_{edge[0]}', 'x'], \n",
        "            x1 = points.loc[f'ciudad_{edge[1]}', 'x'], \n",
        "            y0 = points.loc[f'ciudad_{edge[0]}', 'y'], \n",
        "            y1 = points.loc[f'ciudad_{edge[1]}', 'y'], \n",
        "            line = dict(color = 'rgb(0, 0, 0)'), \n",
        "            opacity = .09,\n",
        "            )\n",
        "        fig.add_scatter(x = [mid_points[edge[0]][edge[1]][0]], y = [mid_points[edge[0]][edge[1]][1]], text = [d[edge[0]][edge[1]]], mode='text')\n",
        "    fig.update_traces(texttemplate='%{text:.2s}', textposition='top right')\n",
        "    fig.update_layout(uniformtext_minsize=8, uniformtext_mode='hide', showlegend=False)\n",
        "    fig.show()"
      ],
      "execution_count": null,
      "outputs": []
    },
    {
      "cell_type": "code",
      "metadata": {
        "id": "zqYLNhWL3TKd"
      },
      "source": [
        "def get_middle_points(coords):\n",
        "    return [[((x[0]+y[0])/2, (x[1]+y[1])/2) for _, y in coords.iterrows()] for _, x in coords.iterrows()]"
      ],
      "execution_count": null,
      "outputs": []
    },
    {
      "cell_type": "markdown",
      "metadata": {
        "id": "rzHE8IMz2AqW"
      },
      "source": [
        "# Datos"
      ]
    },
    {
      "cell_type": "markdown",
      "metadata": {
        "id": "YhQfYSMh5IAR"
      },
      "source": [
        "Primero crearemos las ciudades y sus coordenadas"
      ]
    },
    {
      "cell_type": "code",
      "metadata": {
        "id": "SqomUA2cYbrb"
      },
      "source": [
        "np.random.seed(10)\n",
        "\n",
        "n = 10 # número de ciudades\n",
        "\n",
        "points = pd.DataFrame(np.random.randint(0, 30, (n, 2)), columns = ['x', 'y'], index = [f'ciudad_{i}' for i in range(n)])  # coordenadas en el plano cartesiano de cada ciudad\n",
        "points"
      ],
      "execution_count": null,
      "outputs": []
    },
    {
      "cell_type": "markdown",
      "metadata": {
        "id": "JVSBoy055MXq"
      },
      "source": [
        "Obtenemos el punto medio entre cada ciudad"
      ]
    },
    {
      "cell_type": "code",
      "metadata": {
        "id": "Op7Pz7Qk3V5M"
      },
      "source": [
        "mid_points = get_middle_points(points)"
      ],
      "execution_count": null,
      "outputs": []
    },
    {
      "cell_type": "code",
      "source": [
        "mid_points"
      ],
      "metadata": {
        "id": "JhxoKGEGroe5"
      },
      "execution_count": null,
      "outputs": []
    },
    {
      "cell_type": "markdown",
      "metadata": {
        "id": "DBet8zI45QK8"
      },
      "source": [
        "Creamos la matriz de distancias"
      ]
    },
    {
      "cell_type": "code",
      "metadata": {
        "id": "rqEtFqajZ3VL"
      },
      "source": [
        "d = distance_matrix(points, points)  # Distancia entre las ciudades\n",
        "d"
      ],
      "execution_count": null,
      "outputs": []
    },
    {
      "cell_type": "markdown",
      "metadata": {
        "id": "_HTrxK-V49WA"
      },
      "source": [
        "## Visualización de los datos"
      ]
    },
    {
      "cell_type": "code",
      "metadata": {
        "id": "3zIfF-pE2d1R"
      },
      "source": [
        "plot_cities_and_route(points, product(range(n), range(n))) # Visualización de las ciudades"
      ],
      "execution_count": null,
      "outputs": []
    },
    {
      "cell_type": "markdown",
      "source": [
        "6 -> 5 -> 2 -> 1 -> ...."
      ],
      "metadata": {
        "id": "0Tn68uAaw47d"
      }
    },
    {
      "cell_type": "markdown",
      "metadata": {
        "id": "0xRnmV6S5g6a"
      },
      "source": [
        "## TSP (Travelling salesman problem) con programación lineal"
      ]
    },
    {
      "cell_type": "markdown",
      "metadata": {
        "id": "r1W3Lf7G5loM"
      },
      "source": [
        "Considere $n$ puntos, $V = \\left\\{0, 1, \\dots, n-1 \\right\\}$, y la matriz de distancia $D_{n\\times n}$ con entradas $d_{i, j} \\in \\mathbb{R^+}$.\n",
        "\n",
        "La variable $x_{i,j}$ es tal que \n",
        "$$  x_{i,j} = \\begin{cases} 1 & \\text{ el camino va de la ciudad } i \\text{ a la ciudad } j\\text{,} \\\\ 0 & \\text{caso contrario.} \\end{cases} $$\n",
        "\n",
        "Tomando una variable dummy $y_i$ que guarda información del orden en que se visitan las ciudades, a partir de la ciudad $0$. Esto se escribe como $ y_i < y_j$ si la ciudad $i$ se visita antes que la ciudad $j$.\n",
        "\n",
        "Programación lineal favorece la desigualdades no-estrictas respecto a la estrictas, por lo que se puede imponer una condición parecida a la siguiente\n",
        "\n",
        "$$ y_j \\geqslant y_i + x_{i,j} $$ \n",
        "\n",
        "cuando $x_{i,j} = 1$ (NOTESE que no es lo mismo que tomar solo $ y_j \\geqslant y_i + x_{i,j}$ en el caso general de $x_{i,j}$)\n"
      ]
    },
    {
      "cell_type": "markdown",
      "source": [
        "La solución es un conjunto de $n$ pares de puntos indicando la ciudad de salida y ciudad de llegada. Considerando las restricciones que se mencionaron al inicio, tenemos que\n",
        "\n",
        "Minimizar:\n",
        "$$\\sum_{i\\in V, j\\in V} d_{i, j}x_{i, j}$$\n",
        "Sujeto a:\n",
        "\\begin{align}\n",
        "\\sum_{i\\in V\\setminus \\{j\\}} x_{i, j} = 1 && \\forall j \\in V \\\\\n",
        "\\sum_{j\\in V\\setminus \\{i\\}} x_{i, j} = 1 && \\forall i \\in V \\\\\n",
        "y_j - (n-1)x_{i, j} \\geq y_i - (n-2) && \\forall i \\in V \\setminus \\{0\\}, j\\in V\\setminus \\{0, i\\} \\\\\n",
        "x_{i, j} \\in \\{0, 1\\} && \\forall i\\in V, j \\in V \\\\\n",
        "y_i \\geq 0 && \\forall i \\in V\n",
        "\\end{align}"
      ],
      "metadata": {
        "id": "O0CCd0M4M07T"
      }
    },
    {
      "cell_type": "code",
      "metadata": {
        "id": "qi7wIe6QXxN0"
      },
      "source": [
        "# Número de nodos y vértices\n",
        "n, V = len(points), set(range(len(points)))\n",
        "print(f'Número de nodos:\\tn = {n}\\nVértices:\\tV = {V}')"
      ],
      "execution_count": null,
      "outputs": []
    },
    {
      "cell_type": "code",
      "metadata": {
        "id": "XAxDjOJZXzST"
      },
      "source": [
        "model = Model()\n",
        "\n",
        "# Variables binarias que indican si se toma el camino de la ciudad i a la j\n",
        "x = [[model.add_var(var_type=BINARY) for j in V] for i in V]\n",
        "\n",
        "# Variables continuas para evitar subrutas\n",
        "y = [model.add_var() for i in V]"
      ],
      "execution_count": null,
      "outputs": []
    },
    {
      "cell_type": "markdown",
      "metadata": {
        "id": "FgF0eoZFAhDo"
      },
      "source": [
        "$$\\sum_{i\\in V, j\\in V} d_{i, j}x_{i, j}$$\n"
      ]
    },
    {
      "cell_type": "code",
      "metadata": {
        "id": "pPC4JFo-_9B3"
      },
      "source": [
        "# Función objetivo: \n",
        "model.objective = minimize(xsum(d[i][j]*x[i][j] for i in V for j in V))"
      ],
      "execution_count": null,
      "outputs": []
    },
    {
      "cell_type": "markdown",
      "metadata": {
        "id": "N6LNXjn8A3xj"
      },
      "source": [
        "$$\\sum_{j\\in V\\setminus \\{i\\}} x_{i, j} = 1 \\text{, } \\forall i \\in V$$"
      ]
    },
    {
      "cell_type": "code",
      "metadata": {
        "id": "ROs_e4P9__Vv"
      },
      "source": [
        "# Restricción : Sal de cada ciudad una única vez\n",
        "for i in V:\n",
        "    model += xsum(x[i][j] for j in V - {i}) == 1"
      ],
      "execution_count": null,
      "outputs": []
    },
    {
      "cell_type": "markdown",
      "metadata": {
        "id": "eyG_IucKAjLf"
      },
      "source": [
        "$$\\sum_{i\\in V\\setminus \\{j\\}} x_{i, j} = 1 \\text{, } \\forall j \\in V$$"
      ]
    },
    {
      "cell_type": "code",
      "metadata": {
        "id": "OTaKu8GdAA9g"
      },
      "source": [
        "# Restricción : Entra a cada ciudad una única vez\n",
        "for j in V:\n",
        "    model += xsum(x[i][j] for i in V - {j}) == 1"
      ],
      "execution_count": null,
      "outputs": []
    },
    {
      "cell_type": "markdown",
      "metadata": {
        "id": "sy6IPGajB22Z"
      },
      "source": [
        "$$y_j - (n-1)x_{i, j} \\geq y_i - (n-2) \\text{, } \\forall i \\in V \\setminus \\{0\\}, j\\in V\\setminus \\{0, i\\}$$"
      ]
    },
    {
      "cell_type": "code",
      "metadata": {
        "id": "Iakx3SpIACpL"
      },
      "source": [
        "# Elimina subrutas\n",
        "for (i, j) in product(V - {0}, V - {0}):\n",
        "    if i != j:\n",
        "        model += y[j] - (n-1)*x[i][j] >= y[i]-(n-2)"
      ],
      "execution_count": null,
      "outputs": []
    },
    {
      "cell_type": "code",
      "metadata": {
        "id": "s8FQC88QAECs"
      },
      "source": [
        "# Optimizar\n",
        "model.optimize()\n",
        "\n",
        "# Revisar si se encontró una solución\n",
        "edges = []\n",
        "if model.num_solutions:\n",
        "    print('Ruta con distancia total %g encontrada: %s'\n",
        "              % (model.objective_value, points.index[0]))\n",
        "    nc = 0 # Indice de la ciudad actual\n",
        "    while True:\n",
        "        oc = nc \n",
        "        nc = [i for i in V if x[nc][i].x >= 0.99][0] # Indice de la ciudad a la que se siguió\n",
        "        edges.append((oc, nc)) # Guardamos el camino a tomar\n",
        "        print(' -> %s' % points.index[nc]) # Imprimimos el siguiente paso de la ruta\n",
        "        if nc == 0:  # Si regresa al inicio terminamos el ciclo\n",
        "            break\n",
        "    print('\\n')"
      ],
      "execution_count": null,
      "outputs": []
    },
    {
      "cell_type": "code",
      "metadata": {
        "id": "o1ZP922Azyrh"
      },
      "source": [
        "plot_cities_and_route(points, edges)"
      ],
      "execution_count": null,
      "outputs": []
    },
    {
      "cell_type": "markdown",
      "source": [
        "## Datos Reales"
      ],
      "metadata": {
        "id": "WPQbrkoQzQ8u"
      }
    },
    {
      "cell_type": "code",
      "source": [
        "!pip install geopandas"
      ],
      "metadata": {
        "id": "Wk8ETU_qzUyx"
      },
      "execution_count": null,
      "outputs": []
    },
    {
      "cell_type": "code",
      "source": [
        "import geopandas as gpd\n",
        "from shapely.geometry import Point "
      ],
      "metadata": {
        "id": "-fbu8seXzgSR"
      },
      "execution_count": null,
      "outputs": []
    },
    {
      "cell_type": "code",
      "source": [
        "#import data from file\n",
        "url = 'https://www.ncbi.nlm.nih.gov/pmc/articles/PMC5780421/bin/41598_2018_19772_MOESM3_ESM.xlsx'\n",
        "data = pd.read_excel(url)\n",
        "print(data.shape)\n",
        "data.head()"
      ],
      "metadata": {
        "id": "Hv0oWmMgzjUi"
      },
      "execution_count": null,
      "outputs": []
    },
    {
      "cell_type": "code",
      "source": [
        "geometry = [Point(xy) for xy in zip(data['Longitude'],data['Latitude'])]\n",
        "crs = {'init' : 'epsg:4326'}\n",
        "geo_df = gpd.GeoDataFrame(data, crs = crs, geometry = geometry)\n",
        "\n",
        "world = gpd.read_file(gpd.datasets.get_path('naturalearth_lowres'))\n",
        "conts = world.loc[world.continent.isin(['Asia','Europe'])]\n",
        "boundaries = conts['geometry']\n",
        "\n",
        "fig , ax = plt.subplots(figsize=(15,15))\n",
        "boundaries.plot(ax=ax, alpha=0.8)\n",
        "geo_df[geo_df['Longitude'] > 90 ].plot(ax=ax, marker='o', color='red', markersize=50);\n",
        "geo_df[geo_df['Longitude'] <= 90 ].plot(ax=ax, marker='o', color='green', markersize=50);\n",
        "plt.xlim(-25,150)"
      ],
      "metadata": {
        "id": "fs4EJoaQzm_v"
      },
      "execution_count": null,
      "outputs": []
    },
    {
      "cell_type": "code",
      "source": [
        "def Haversine(A,B):\n",
        "    \"\"\"\n",
        "    This uses the ‘haversine’ formula to calculate the great-circle distance between two points – that is, \n",
        "    the shortest distance over the earth’s surface – giving an ‘as-the-crow-flies’ distance between the points \n",
        "    (ignoring any hills they fly over, of course!).\n",
        "    Haversine\n",
        "    formula:    a = sin²(Δφ/2) + cos φ1 ⋅ cos φ2 ⋅ sin²(Δλ/2)\n",
        "    c = 2 ⋅ atan2( √a, √(1−a) )\n",
        "    d = R ⋅ c\n",
        "    where   φ is latitude, λ is longitude, R is earth’s radius (mean radius = 6,371km);\n",
        "    note that angles need to be in radians to pass to trig functions!\n",
        "    \"\"\"\n",
        "    lat1,lon1,lat2,lon2 = A[0],A[1],B[0],B[1]\n",
        "    \n",
        "    R = 6378.0088\n",
        "    lat1,lon1,lat2,lon2 = map(np.radians, [lat1,lon1,lat2,lon2])\n",
        "\n",
        "    dlat = lat2 - lat1\n",
        "    dlon = lon2 - lon1\n",
        "    a = np.sin(dlat/2)**2 + np.cos(lat1) * np.cos(lat2) * np.sin(dlon/2) **2\n",
        "    c = 2 * np.arctan2(a**0.5, (1-a)**0.5)\n",
        "    d = R * c\n",
        "    return round(d,4)"
      ],
      "metadata": {
        "id": "3lYqrUGlz4x0"
      },
      "execution_count": null,
      "outputs": []
    },
    {
      "cell_type": "code",
      "source": [
        "location = data[['Latitude','Longitude']].drop_duplicates(subset=['Latitude','Longitude'])\n",
        "location = location[location['Longitude'] <= 90].copy()\n",
        "location.columns = ['x', 'y']\n",
        "n = location.shape[0] #number of locations\n",
        "print(n)\n",
        "location.index = [f'ciudad_{i}' for i in range(n)]\n",
        "print(location)"
      ],
      "metadata": {
        "id": "1lYDS9ir0Iy1"
      },
      "execution_count": null,
      "outputs": []
    },
    {
      "cell_type": "code",
      "source": [
        "mid_points = get_middle_points(location)\n",
        "mid_points"
      ],
      "metadata": {
        "id": "kXrS_qzV1jT6"
      },
      "execution_count": null,
      "outputs": []
    },
    {
      "cell_type": "code",
      "source": [
        "d = np.zeros((n,n))  # Distancia entre las ciudades\n",
        "for i in range(n):\n",
        "  for j in range(n):\n",
        "    d[i,j] = Haversine(location.iloc[i], location.iloc[j])\n",
        "\n",
        "d[:5, :5]"
      ],
      "metadata": {
        "id": "aP4pSvEd1plW"
      },
      "execution_count": null,
      "outputs": []
    },
    {
      "cell_type": "markdown",
      "source": [
        "## Visualización de los datos"
      ],
      "metadata": {
        "id": "zApQ8Nj22npC"
      }
    },
    {
      "cell_type": "code",
      "source": [
        "plot_cities_and_route(location, product(range(n), range(n))) # Visualización de las ciudades"
      ],
      "metadata": {
        "id": "Q-2iFhHq2vNi"
      },
      "execution_count": null,
      "outputs": []
    },
    {
      "cell_type": "markdown",
      "source": [
        "## TSP (Travelling salesman problem) con programación lineal"
      ],
      "metadata": {
        "id": "ddUsNvBc4bYy"
      }
    },
    {
      "cell_type": "code",
      "source": [
        "# Número de nodos y vértices\n",
        "n, V = len(location), set(range(len(location)))\n",
        "print(f'Número de nodos:\\tn = {n}\\nVértices:\\tV = {V}')"
      ],
      "metadata": {
        "id": "G0qBpC4A4k9D"
      },
      "execution_count": null,
      "outputs": []
    },
    {
      "cell_type": "code",
      "source": [
        "model = Model()\n",
        "\n",
        "# Variables binarias que indican si se toma el camino de la ciudad i a la j\n",
        "x = [[model.add_var(var_type=BINARY) for j in V] for i in V]\n",
        "\n",
        "# Variables continuas para evitar subrutas\n",
        "y = [model.add_var() for i in V]"
      ],
      "metadata": {
        "id": "bD1GjEWa4qac"
      },
      "execution_count": null,
      "outputs": []
    },
    {
      "cell_type": "code",
      "source": [
        "# Función objetivo: \n",
        "model.objective = minimize(xsum(d[i][j]*x[i][j] for i in V for j in V))"
      ],
      "metadata": {
        "id": "aVLsv8zA4zAM"
      },
      "execution_count": null,
      "outputs": []
    },
    {
      "cell_type": "code",
      "source": [
        "# Restricción : Sal de cada ciudad una única vez\n",
        "for i in V:\n",
        "    model += xsum(x[i][j] for j in V - {i}) == 1"
      ],
      "metadata": {
        "id": "-LGQSUGk42Q6"
      },
      "execution_count": null,
      "outputs": []
    },
    {
      "cell_type": "code",
      "source": [
        "# Restricción : Entra a cada ciudad una única vez\n",
        "for j in V:\n",
        "    model += xsum(x[i][j] for i in V - {j}) == 1"
      ],
      "metadata": {
        "id": "VYrV5A0Y46Po"
      },
      "execution_count": null,
      "outputs": []
    },
    {
      "cell_type": "code",
      "source": [
        "# Elimina subrutas\n",
        "for (i, j) in product(V - {0}, V - {0}):\n",
        "    if i != j:\n",
        "        model += y[j] - (n-1)*x[i][j] >= y[i]-(n-2)"
      ],
      "metadata": {
        "id": "gZo-UWQV4-Zn"
      },
      "execution_count": null,
      "outputs": []
    },
    {
      "cell_type": "code",
      "source": [
        "# Optimizar\n",
        "model.optimize()\n",
        "\n",
        "# Revisar si se encontró una solución\n",
        "edges = []\n",
        "if model.num_solutions:\n",
        "    print('Ruta con distancia total %g encontrada: %s'\n",
        "              % (model.objective_value, location.index[0]))\n",
        "    nc = 0 # Indice de la ciudad actual\n",
        "    while True:\n",
        "        oc = nc \n",
        "        nc = [i for i in V if x[nc][i].x >= 0.99][0] # Indice de la ciudad a la que se siguió\n",
        "        edges.append((oc, nc)) # Guardamos el camino a tomar\n",
        "        print(' -> %s' % location.index[nc]) # Imprimimos el siguiente paso de la ruta\n",
        "        if nc == 0:  # Si regresa al inicio terminamos el ciclo\n",
        "            break\n",
        "    print('\\n')"
      ],
      "metadata": {
        "id": "O9F6giTQ4_Zy"
      },
      "execution_count": null,
      "outputs": []
    },
    {
      "cell_type": "code",
      "source": [
        "plot_cities_and_route(location, edges)"
      ],
      "metadata": {
        "id": "nFtwi7KT5HT9"
      },
      "execution_count": null,
      "outputs": []
    },
    {
      "cell_type": "markdown",
      "source": [
        "# Tarea\n",
        "\n",
        "*   Hacer lo anterior en una sola función. El input es los puntos de localización y el output la ruta con distancia mínima\n",
        "\n",
        "*   Utilizar la función para obtener una ruta para los datos con longitud mayor a 90\n",
        "\n",
        "\n"
      ],
      "metadata": {
        "id": "l-PitZhE50R2"
      }
    }
  ]
}