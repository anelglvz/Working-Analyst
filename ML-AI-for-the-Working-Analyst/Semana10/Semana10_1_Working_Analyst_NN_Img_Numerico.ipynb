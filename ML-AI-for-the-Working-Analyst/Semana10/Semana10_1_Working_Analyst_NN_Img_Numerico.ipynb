{
  "nbformat": 4,
  "nbformat_minor": 0,
  "metadata": {
    "colab": {
      "provenance": [],
      "include_colab_link": true
    },
    "kernelspec": {
      "name": "python3",
      "display_name": "Python 3"
    },
    "language_info": {
      "name": "python"
    },
    "accelerator": "GPU",
    "gpuClass": "standard"
  },
  "cells": [
    {
      "cell_type": "markdown",
      "metadata": {
        "id": "view-in-github",
        "colab_type": "text"
      },
      "source": [
        "<a href=\"https://colab.research.google.com/github/anelglvz/Working-Analyst/blob/main/ML-AI-for-the-Working-Analyst/Semana10/Semana10_1_Working_Analyst_NN_Img_Numerico.ipynb\" target=\"_parent\"><img src=\"https://colab.research.google.com/assets/colab-badge.svg\" alt=\"Open In Colab\"/></a>"
      ]
    },
    {
      "cell_type": "markdown",
      "source": [
        "IMPORTANTE: Antes de iniciar cambiar entorno de ejecución a GPU"
      ],
      "metadata": {
        "id": "iokcee1kRXkX"
      }
    },
    {
      "cell_type": "markdown",
      "source": [
        "# Introducción\n",
        "\n",
        "Los datos que utilizaremos combinan 2 tipos de datos que hemos usado previamente pero no en conjunto: Imágenes y Características.\n",
        "\n",
        "El dataset se compone de datos de propiedades en Francia. En los datos tenemos variables predictoras como el tamaño del inmueble, el tamaño de terreno que incluye, número de baños, etc. Además, cada inmueble cuenta con imágenes, que serán vectorizadas para tratar de obtener una buena predicción del precio de los mismos."
      ],
      "metadata": {
        "id": "ekQmiTrOMWsC"
      }
    },
    {
      "cell_type": "markdown",
      "source": [
        "Datos en el siguiente [enlace](https://challengedata.ens.fr/participants/challenges/68/)."
      ],
      "metadata": {
        "id": "cUzAE8g0Q8pn"
      }
    },
    {
      "cell_type": "code",
      "execution_count": null,
      "metadata": {
        "id": "E_Bwny4UMKjc"
      },
      "outputs": [],
      "source": [
        "import pandas as pd\n",
        "import numpy as np"
      ]
    },
    {
      "cell_type": "code",
      "source": [
        "from google.colab import drive\n",
        "drive.mount('/content/drive')"
      ],
      "metadata": {
        "id": "yvkdgUytPfR5"
      },
      "execution_count": null,
      "outputs": []
    },
    {
      "cell_type": "code",
      "source": [
        "features = pd.read_csv('/content/drive/MyDrive/Curso-WorkingAnalyst/semana10/X_train_J01Z4CN.csv', index_col='id_annonce')"
      ],
      "metadata": {
        "id": "FNO7nYJgDtg6"
      },
      "execution_count": null,
      "outputs": []
    },
    {
      "cell_type": "code",
      "source": [
        "targets = pd.read_csv('/content/drive/MyDrive/Curso-WorkingAnalyst/semana10/y_train_OXxrJt1.csv', index_col='id_annonce')"
      ],
      "metadata": {
        "id": "6pMYIDs6Dted"
      },
      "execution_count": null,
      "outputs": []
    },
    {
      "cell_type": "code",
      "source": [
        "features"
      ],
      "metadata": {
        "id": "UYmWv1IJDtcB"
      },
      "execution_count": null,
      "outputs": []
    },
    {
      "cell_type": "code",
      "source": [
        "targets"
      ],
      "metadata": {
        "id": "-crkogmBMRAo"
      },
      "execution_count": null,
      "outputs": []
    },
    {
      "cell_type": "code",
      "source": [
        "# Ver en que tipo de dato se guardan los índices\n",
        "\n",
        "targets.index.dtype"
      ],
      "metadata": {
        "id": "86tqUgysP8RM"
      },
      "execution_count": null,
      "outputs": []
    },
    {
      "cell_type": "code",
      "source": [
        "# Revisar cantidad de datos nulos (bruto o porcentual)\n",
        "\n",
        "to_drop = features.isnull().sum()/len(features)\n",
        "to_drop"
      ],
      "metadata": {
        "id": "K7ukKILKQWdD"
      },
      "execution_count": null,
      "outputs": []
    },
    {
      "cell_type": "code",
      "source": [
        "to_drop[to_drop > .40]"
      ],
      "metadata": {
        "id": "FMHGgHeBXFHN"
      },
      "execution_count": null,
      "outputs": []
    },
    {
      "cell_type": "code",
      "source": [
        "index_to_drop = to_drop[to_drop > .40].index.drop('land_size')"
      ],
      "metadata": {
        "id": "cY6awsoyXUr5"
      },
      "execution_count": null,
      "outputs": []
    },
    {
      "cell_type": "code",
      "source": [
        "index_to_drop"
      ],
      "metadata": {
        "id": "EoAvHMb4YCgu"
      },
      "execution_count": null,
      "outputs": []
    },
    {
      "cell_type": "code",
      "source": [
        "features.drop(columns=index_to_drop, inplace=True)\n",
        "features"
      ],
      "metadata": {
        "id": "8aplKVHdX4Ho"
      },
      "execution_count": null,
      "outputs": []
    },
    {
      "cell_type": "code",
      "source": [
        "# Imprimir la cantidad de Columnas que nos quedan\n",
        "features.columns"
      ],
      "metadata": {
        "id": "q79FvU1PYTKo"
      },
      "execution_count": null,
      "outputs": []
    },
    {
      "cell_type": "markdown",
      "source": [
        "¿Que datos sugieres tomar y porqué?"
      ],
      "metadata": {
        "id": "LuqQ_5UkQp1Q"
      }
    },
    {
      "cell_type": "code",
      "source": [
        "# Limpieza de valores nulos por filas\n",
        "features = features.dropna(axis=0)\n"
      ],
      "metadata": {
        "id": "6AmrycwIQuwr"
      },
      "execution_count": null,
      "outputs": []
    },
    {
      "cell_type": "code",
      "source": [
        "features.property_type.unique()"
      ],
      "metadata": {
        "id": "FDRTwwK6mX9v"
      },
      "execution_count": null,
      "outputs": []
    },
    {
      "cell_type": "code",
      "source": [
        "features.property_type.value_counts()"
      ],
      "metadata": {
        "id": "bELGYxZPmw5N"
      },
      "execution_count": null,
      "outputs": []
    },
    {
      "cell_type": "code",
      "source": [
        "# Tipo de propiedades que casi no aparecen\n",
        "to_drop_2 = features.property_type.value_counts()[4:].index\n",
        "to_drop_2"
      ],
      "metadata": {
        "id": "5wexBz07Q0hM"
      },
      "execution_count": null,
      "outputs": []
    },
    {
      "cell_type": "code",
      "source": [
        "features = features[~features.property_type.isin(to_drop_2)]\n",
        "features"
      ],
      "metadata": {
        "id": "j9R1S7lEaH4q"
      },
      "execution_count": null,
      "outputs": []
    },
    {
      "cell_type": "markdown",
      "source": [
        "¿Vale la pena tomar datos geográficos? ¿Bajo que condiciones?"
      ],
      "metadata": {
        "id": "bOH5p4gcbzZE"
      }
    },
    {
      "cell_type": "code",
      "source": [
        "# Drop de las columnas 'approximate_latitude', 'approximate_longitude', 'city', 'postal_code'\n",
        "\n",
        "features = features.drop(columns=['approximate_latitude', 'approximate_longitude', 'city', 'postal_code'])"
      ],
      "metadata": {
        "id": "03q8454Vb-DE"
      },
      "execution_count": null,
      "outputs": []
    },
    {
      "cell_type": "code",
      "source": [
        "features.property_type.value_counts()"
      ],
      "metadata": {
        "id": "6sdHGR6oLkbh"
      },
      "execution_count": null,
      "outputs": []
    },
    {
      "cell_type": "code",
      "source": [
        "# Dummies\n",
        "\n",
        "features = pd.get_dummies(features)"
      ],
      "metadata": {
        "id": "44AW_0WudQpG"
      },
      "execution_count": null,
      "outputs": []
    },
    {
      "cell_type": "code",
      "source": [
        "features"
      ],
      "metadata": {
        "id": "MhhM3pO0MLRV"
      },
      "execution_count": null,
      "outputs": []
    },
    {
      "cell_type": "code",
      "source": [
        "features.columns"
      ],
      "metadata": {
        "id": "2jac_HbtLpNi"
      },
      "execution_count": null,
      "outputs": []
    },
    {
      "cell_type": "code",
      "source": [
        "# Eliminamos bastante, pero nos quedan 10,000 datos para trabajar con imágenes, un número decente\n",
        "features.isnull().sum().sum()"
      ],
      "metadata": {
        "id": "wmNiMhCyd0bJ"
      },
      "execution_count": null,
      "outputs": []
    },
    {
      "cell_type": "markdown",
      "source": [
        "# Carga de imágenes\n",
        "\n",
        "Aquí utilizaremos los ID de los features, para extraer las imágenes que nos convengan del archivo zip, por ahora solo extraremos una imagen por cada índice"
      ],
      "metadata": {
        "id": "-BGZ1u6xPl2e"
      }
    },
    {
      "cell_type": "code",
      "source": [
        "import zipfile\n",
        "import os\n",
        "\n",
        "from skimage import io\n",
        "from skimage.transform import resize\n",
        "\n",
        "from matplotlib import image\n",
        "import matplotlib.pyplot as plt"
      ],
      "metadata": {
        "id": "C3DNLKlCeJPY"
      },
      "execution_count": null,
      "outputs": []
    },
    {
      "cell_type": "code",
      "source": [
        "archive = zipfile.ZipFile('/content/drive/MyDrive/Curso-WorkingAnalyst/semana10/reduced_images_ILB.zip', 'r')"
      ],
      "metadata": {
        "id": "UUehDUe_eXyA"
      },
      "execution_count": null,
      "outputs": []
    },
    {
      "cell_type": "code",
      "source": [
        "# Extrae todo lo que hay en el .zip. Es temporal, a menos que a \".extractall\" le pasen como argumento\n",
        "# alguna dirección donde quieren guardar sus archivos en Drive.\n",
        "# Ejemplo: archive.extractall('/content/drive/su_carpeta')\n",
        "\n",
        "# 1 min 7 seg\n",
        "archive.extractall()"
      ],
      "metadata": {
        "id": "ALULJR9VeeQq"
      },
      "execution_count": null,
      "outputs": []
    },
    {
      "cell_type": "code",
      "source": [
        "# Lista de los nombres de carpetas, para relacionarlo con los ID de los csv cargados al principio\n",
        "carpetas_imgs = features.index"
      ],
      "metadata": {
        "id": "SlzRozEYDtOX"
      },
      "execution_count": null,
      "outputs": []
    },
    {
      "cell_type": "code",
      "source": [
        "# Cargamos las imagenes (46s) TENER CUIDADO DE USARLO CON NO TANTAS IMAGENES\n",
        "\n",
        "indexs = []\n",
        "list_imgs = []\n",
        "for image_id in carpetas_imgs:\n",
        "  path = '/content/reduced_images/train/' + 'ann_' + str(image_id)\n",
        "  \n",
        "  # Obtiene todas las imagenes dentro del path dado\n",
        "  img_names = os.listdir(path)\n",
        "\n",
        "  indexs.append(image_id)\n",
        "\n",
        "  image_array = image.imread(path + '/' + img_names[0])\n",
        "  #image_array = resize(image_array, (160, 120)) # En general esta linea puede dar problemas de RAM, dependiendo hay que decidir como reescalar\n",
        "\n",
        "\n",
        "  list_imgs.append([image_array])"
      ],
      "metadata": {
        "id": "Dt5cHBY7Sppf"
      },
      "execution_count": null,
      "outputs": []
    },
    {
      "cell_type": "code",
      "source": [
        "print(len(list_imgs))\n",
        "print('-------')\n",
        "print(len(indexs))"
      ],
      "metadata": {
        "id": "n6u3EFFGf2N4"
      },
      "execution_count": null,
      "outputs": []
    },
    {
      "cell_type": "code",
      "source": [
        "df_images = pd.DataFrame(list_imgs, index=indexs, columns=['image_array'])"
      ],
      "metadata": {
        "id": "aIpMKFcLl-P0"
      },
      "execution_count": null,
      "outputs": []
    },
    {
      "cell_type": "code",
      "source": [
        "df_images"
      ],
      "metadata": {
        "id": "seL_8CZ4gBOs"
      },
      "execution_count": null,
      "outputs": []
    },
    {
      "cell_type": "code",
      "source": [
        "df_images.iloc[0,0].shape"
      ],
      "metadata": {
        "id": "Yz7DpbzygOiB"
      },
      "execution_count": null,
      "outputs": []
    },
    {
      "cell_type": "code",
      "source": [
        "# 58 seg\n",
        "df_images['image_array'] = df_images['image_array'].apply(lambda x: resize(x, (96,128)))"
      ],
      "metadata": {
        "id": "ocjKCv-918Vt"
      },
      "execution_count": null,
      "outputs": []
    },
    {
      "cell_type": "code",
      "source": [
        "df_images.iloc[0,0].shape"
      ],
      "metadata": {
        "id": "MfLWLeev6jWB"
      },
      "execution_count": null,
      "outputs": []
    },
    {
      "cell_type": "code",
      "source": [
        "plt.imshow(df_images.iloc[0,0])"
      ],
      "metadata": {
        "id": "uxA7X6DhzJI1"
      },
      "execution_count": null,
      "outputs": []
    },
    {
      "cell_type": "markdown",
      "source": [
        "¿Porqué no concatenar los DataFrames?"
      ],
      "metadata": {
        "id": "3dhN9Cl1g3zv"
      }
    },
    {
      "cell_type": "code",
      "source": [
        "from sklearn.model_selection import train_test_split\n",
        "import tensorflow as tf\n",
        "from tensorflow import keras"
      ],
      "metadata": {
        "id": "jlIVkPsWl-K_"
      },
      "execution_count": null,
      "outputs": []
    },
    {
      "cell_type": "code",
      "source": [
        "train_id, test_id= train_test_split(indexs, train_size=0.75, random_state=0)"
      ],
      "metadata": {
        "id": "jK6us1fCl-Ji"
      },
      "execution_count": null,
      "outputs": []
    },
    {
      "cell_type": "code",
      "source": [
        "len(train_id)"
      ],
      "metadata": {
        "id": "l6a52OE3l-H3"
      },
      "execution_count": null,
      "outputs": []
    },
    {
      "cell_type": "code",
      "source": [
        "len(test_id)"
      ],
      "metadata": {
        "id": "0RWG5C5jqVB9"
      },
      "execution_count": null,
      "outputs": []
    },
    {
      "cell_type": "code",
      "source": [
        "train_imgs = df_images.loc[train_id, :]\n",
        "test_imgs = df_images.loc[test_id, :]"
      ],
      "metadata": {
        "id": "KvHTZS_069fL"
      },
      "execution_count": null,
      "outputs": []
    },
    {
      "cell_type": "code",
      "source": [
        "test_imgs"
      ],
      "metadata": {
        "id": "vz2Eicn86-0J"
      },
      "execution_count": null,
      "outputs": []
    },
    {
      "cell_type": "code",
      "source": [
        "train_targets = targets.loc[train_id, :]\n",
        "test_targets = targets.loc[test_id, :]"
      ],
      "metadata": {
        "id": "w_kKgW-19R0l"
      },
      "execution_count": null,
      "outputs": []
    },
    {
      "cell_type": "code",
      "source": [
        "test_targets"
      ],
      "metadata": {
        "id": "ofk4f0TLq3t5"
      },
      "execution_count": null,
      "outputs": []
    },
    {
      "cell_type": "markdown",
      "source": [
        "A veces hay problemas para utilizar estos datos para alimentar modelos, convirtamos los datos a array"
      ],
      "metadata": {
        "id": "7Ju0WZXCh4v4"
      }
    },
    {
      "cell_type": "code",
      "source": [
        "train_imgs_to_use = np.array([array for array in train_imgs['image_array']])"
      ],
      "metadata": {
        "id": "82DX9_c2q3gn"
      },
      "execution_count": null,
      "outputs": []
    },
    {
      "cell_type": "code",
      "source": [
        "test_imgs_to_use = np.array([array for array in test_imgs['image_array']])"
      ],
      "metadata": {
        "id": "5aGXFabUSo2o"
      },
      "execution_count": null,
      "outputs": []
    },
    {
      "cell_type": "code",
      "source": [
        "train_imgs_to_use.shape"
      ],
      "metadata": {
        "id": "KkpCb6oTi056"
      },
      "execution_count": null,
      "outputs": []
    },
    {
      "cell_type": "markdown",
      "source": [
        "# Creación de una red neuronal que usaremos"
      ],
      "metadata": {
        "id": "6LxJX2U8iT-c"
      }
    },
    {
      "cell_type": "code",
      "source": [
        "model = keras.Sequential([\n",
        "                             \n",
        "    keras.layers.BatchNormalization(),\n",
        "    #filter = the dimensionality of the output space\n",
        "    #kernel_size = specifying the height and width of the 2D convolution window\n",
        "    keras.layers.Conv2D(filters=16, input_shape = (96, 128, 3), kernel_size=(3,3), activation=\"relu\", use_bias=False),\n",
        "    keras.layers.BatchNormalization(),\n",
        "    keras.layers.MaxPooling2D(pool_size=(2,2)),  #Downsamples the input along its spatial dimensions by taking the maximum value over a window (size defined by pool_size) for each channel.\n",
        "\n",
        "    keras.layers.Conv2D(filters=32, kernel_size=(3,3), activation=\"relu\", use_bias=False),\n",
        "    keras.layers.BatchNormalization(),\n",
        "    keras.layers.MaxPooling2D(pool_size=(2,2)),\n",
        "\n",
        "    keras.layers.Flatten(),\n",
        "    keras.layers.Dense(120, activation='relu', name='dense_1', use_bias=False),\n",
        "    keras.layers.BatchNormalization(),\n",
        "    keras.layers.Dense(84, activation='relu', name='dense_2', use_bias=False),\n",
        "    keras.layers.BatchNormalization(),\n",
        "    keras.layers.Dropout(rate=0.10),\n",
        "    keras.layers.Dense(1, activation='linear', name='dense_3')\n",
        "\n",
        "])"
      ],
      "metadata": {
        "id": "YnKxzoiyiGWg"
      },
      "execution_count": null,
      "outputs": []
    },
    {
      "cell_type": "code",
      "source": [
        "model.compile(loss='mae', optimizer=tf.keras.optimizers.Adam(learning_rate=0.1))  #'rmsprop'"
      ],
      "metadata": {
        "id": "cfQfzkeD9_fZ"
      },
      "execution_count": null,
      "outputs": []
    },
    {
      "cell_type": "code",
      "source": [
        "model.fit(train_imgs_to_use, np.array(train_targets), epochs=200)"
      ],
      "metadata": {
        "id": "T0meGnTtq3sT"
      },
      "execution_count": null,
      "outputs": []
    },
    {
      "cell_type": "code",
      "source": [
        "model.save('/content/drive/MyDrive/Curso-WorkingAnalyst/semana10')"
      ],
      "metadata": {
        "id": "fbR-3_KJjs7V"
      },
      "execution_count": null,
      "outputs": []
    },
    {
      "cell_type": "markdown",
      "source": [
        "En lugar de arreglos, también podríamos haber utilizado \"tensores\" para alimentar nuestro modelo. A veces pueden ser mas útiles unos que otros."
      ],
      "metadata": {
        "id": "D546blcEif0U"
      }
    },
    {
      "cell_type": "code",
      "source": [
        "tensor_train = tf.convert_to_tensor(train_imgs_to_use)"
      ],
      "metadata": {
        "id": "Fv8xYMblIteO"
      },
      "execution_count": null,
      "outputs": []
    },
    {
      "cell_type": "code",
      "source": [
        "tensor_test = tf.convert_to_tensor(test_imgs_to_use)"
      ],
      "metadata": {
        "id": "ZQqIHM2iItVJ"
      },
      "execution_count": null,
      "outputs": []
    },
    {
      "cell_type": "code",
      "source": [
        "type(tensor_train)"
      ],
      "metadata": {
        "id": "0GV6MAlvItXk"
      },
      "execution_count": null,
      "outputs": []
    },
    {
      "cell_type": "code",
      "source": [
        "tensor_train.shape"
      ],
      "metadata": {
        "id": "kp0BQyn0NSw9"
      },
      "execution_count": null,
      "outputs": []
    },
    {
      "cell_type": "markdown",
      "source": [
        "# Cargado de los pesos de un modelo ya entrenado"
      ],
      "metadata": {
        "id": "ixu5aRWcrbfx"
      }
    },
    {
      "cell_type": "code",
      "source": [
        "model.load_weights('/content/drive/MyDrive/Curso-WorkingAnalyst/semana10')"
      ],
      "metadata": {
        "id": "WySfCPPH0RF9"
      },
      "execution_count": null,
      "outputs": []
    },
    {
      "cell_type": "code",
      "source": [
        "np.array(train_targets[0:20])"
      ],
      "metadata": {
        "id": "kU-uKp360c0g"
      },
      "execution_count": null,
      "outputs": []
    },
    {
      "cell_type": "code",
      "source": [
        "model.predict(test_imgs_to_use)[:20]"
      ],
      "metadata": {
        "id": "27Sz3P7-0XJd"
      },
      "execution_count": null,
      "outputs": []
    },
    {
      "cell_type": "code",
      "source": [
        "plt.plot(range(20), np.array(test_targets)[:20], c='r')\n",
        "plt.plot(range(20), model.predict(test_imgs_to_use)[:20])"
      ],
      "metadata": {
        "id": "3LI-sMCB0vcm"
      },
      "execution_count": null,
      "outputs": []
    },
    {
      "cell_type": "code",
      "source": [
        "train_pred = model.predict(tensor_train)"
      ],
      "metadata": {
        "id": "uVZfX_Leq3eo"
      },
      "execution_count": null,
      "outputs": []
    },
    {
      "cell_type": "code",
      "source": [
        "train_targets['price']"
      ],
      "metadata": {
        "id": "sjfTSO62Z91s"
      },
      "execution_count": null,
      "outputs": []
    },
    {
      "cell_type": "code",
      "source": [
        "train_pred"
      ],
      "metadata": {
        "id": "zmZNh81zZ9we"
      },
      "execution_count": null,
      "outputs": []
    },
    {
      "cell_type": "code",
      "source": [
        "plt.plot(range(100),train_targets['price'][1100:1200]) #range(len(train_targets))\n",
        "plt.plot(range(100),train_pred[1100:1200])"
      ],
      "metadata": {
        "id": "iQ7nb-C0q3bO"
      },
      "execution_count": null,
      "outputs": []
    },
    {
      "cell_type": "code",
      "source": [
        "keras.utils.plot_model( \n",
        "    model,\n",
        "    to_file=\"model.png\",\n",
        "    show_shapes=True,\n",
        "    show_dtype=False,\n",
        "    show_layer_names=True,\n",
        "    rankdir=\"TD\",\n",
        "    dpi=50,\n",
        ")"
      ],
      "metadata": {
        "id": "-LP7_ispTjid"
      },
      "execution_count": null,
      "outputs": []
    }
  ]
}