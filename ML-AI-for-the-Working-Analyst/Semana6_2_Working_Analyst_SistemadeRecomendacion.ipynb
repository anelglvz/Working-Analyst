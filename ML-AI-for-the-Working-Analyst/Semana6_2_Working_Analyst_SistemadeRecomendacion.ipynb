{
  "nbformat": 4,
  "nbformat_minor": 0,
  "metadata": {
    "colab": {
      "provenance": [],
      "collapsed_sections": [],
      "include_colab_link": true
    },
    "kernelspec": {
      "name": "python3",
      "display_name": "Python 3"
    },
    "language_info": {
      "name": "python"
    }
  },
  "cells": [
    {
      "cell_type": "markdown",
      "metadata": {
        "id": "view-in-github",
        "colab_type": "text"
      },
      "source": [
        "<a href=\"https://colab.research.google.com/github/anelglvz/Working-Analyst/blob/main/ML-AI-for-the-Working-Analyst/Semana6_2_Working_Analyst_SistemadeRecomendacion.ipynb\" target=\"_parent\"><img src=\"https://colab.research.google.com/assets/colab-badge.svg\" alt=\"Open In Colab\"/></a>"
      ]
    },
    {
      "cell_type": "code",
      "metadata": {
        "id": "U6vDKazEn53P"
      },
      "source": [
        "from google.colab import drive\n",
        "drive.mount('/content/drive')"
      ],
      "execution_count": null,
      "outputs": []
    },
    {
      "cell_type": "code",
      "metadata": {
        "id": "AFFkb4ckuvqj"
      },
      "source": [
        "!pip install surprise"
      ],
      "execution_count": null,
      "outputs": []
    },
    {
      "cell_type": "markdown",
      "source": [
        "Consultar para mas detalles:\n",
        "https://surprise.readthedocs.io/en/stable/index.html"
      ],
      "metadata": {
        "id": "ZsMv3TIa1eg-"
      }
    },
    {
      "cell_type": "markdown",
      "metadata": {
        "id": "rzwKE50VnhWD"
      },
      "source": [
        "### Introducción"
      ]
    },
    {
      "cell_type": "markdown",
      "metadata": {
        "id": "wiK6D6Yqnksc"
      },
      "source": [
        "En este ejemplo utilizaremos los datos de la [competencia de Netflix](https://www.kaggle.com/datasets/netflix-inc/netflix-prize-data?select=combined_data_1.txt) en Kaggle. El objetivo de esta competencia era mejorar el algoritmo de recomendación 10%. Nosotros no seremos tan avariciosos. Por lo que los objetivos de esta clase son: \n",
        "\n",
        "\n",
        "\n",
        "*   Análisis exploratorio de matriz y por qué es dispersa.\n",
        "*   Implementación de Singular Value Decomposition.\n",
        "*   Implementación de un modelo de sistema de recomendación de filtro colaborativo.\n",
        "*   Generar la predicción de recomendaciones con buen resultado y no."
      ]
    },
    {
      "cell_type": "code",
      "metadata": {
        "id": "ZKG5oiH9uVqD"
      },
      "source": [
        "import math \n",
        "\n",
        "import numpy as np \n",
        "import pandas as pd\n",
        "\n",
        "import matplotlib.pyplot as plt\n",
        "import seaborn as sns\n",
        "\n",
        "from scipy.sparse import csr_matrix\n",
        "from surprise import Reader, Dataset, SVD   # Simple Python RecommendatIon System Engine\n",
        "from surprise.model_selection import cross_validate\n",
        "from surprise.model_selection import train_test_split\n"
      ],
      "execution_count": null,
      "outputs": []
    },
    {
      "cell_type": "markdown",
      "metadata": {
        "id": "7TYrz9I3o-yu"
      },
      "source": [
        "En este caso cargar los datos nos llevará un rato por la gran cantidad de registros que tenemos. Sólo cargaremos un archivo, pero la competencia tiene un total de 3 archivos."
      ]
    },
    {
      "cell_type": "code",
      "metadata": {
        "id": "CVU93kE7sIHJ"
      },
      "source": [
        "# Recuerde, pueden conseguir la dirección del archivo en su Drive y copiarla en la dirección\n",
        "df = pd.read_csv('/content/drive/MyDrive/Curso-WorkingAnalyst/semana5/combined_data_1.txt', \n",
        "                 names=['Client_Id', 'Rating', 'Date'], low_memory=True, nrows=12*(10**6)) \n",
        "#df2 = pd.read_csv('/content/drive/MyDrive/Curso-WorkingAnalyst/semana5/combined_data_2.txt', \n",
        "#                 names=['Client_Id', 'Rating', 'Date'], low_memory=True) \n",
        "#df3 = pd.read_csv('/content/drive/MyDrive/Curso-WorkingAnalyst/semana5/combined_data_3.txt', \n",
        "#                 names=['Client_Id', 'Rating', 'Date'], low_memory=True) \n",
        "#df4 = pd.read_csv('/content/drive/MyDrive/Curso-WorkingAnalyst/semana5/combined_data_4.txt', \n",
        "#                 names=['Client_Id', 'Rating', 'Date'], low_memory=True) \n",
        "#                 nrows=12*(10**6))"
      ],
      "execution_count": null,
      "outputs": []
    },
    {
      "cell_type": "markdown",
      "metadata": {
        "id": "9Nbk2HaZpH9C"
      },
      "source": [
        "En este dataset tenemos sólo tres columnas "
      ]
    },
    {
      "cell_type": "code",
      "source": [
        "# df1.shape, df2.shape, df3.shape, df4.shape"
      ],
      "metadata": {
        "id": "GppgH-69F2mz"
      },
      "execution_count": null,
      "outputs": []
    },
    {
      "cell_type": "code",
      "source": [
        "# df = pd.concat([df1, df2, df3, df4])"
      ],
      "metadata": {
        "id": "1NrdTtztFi-o"
      },
      "execution_count": null,
      "outputs": []
    },
    {
      "cell_type": "code",
      "metadata": {
        "id": "di99RloCwVxM"
      },
      "source": [
        "df"
      ],
      "execution_count": null,
      "outputs": []
    },
    {
      "cell_type": "code",
      "metadata": {
        "id": "vVR_TP-mxvRy"
      },
      "source": [
        "df.info()"
      ],
      "execution_count": null,
      "outputs": []
    },
    {
      "cell_type": "code",
      "metadata": {
        "id": "U9AqZk4Ux6dI"
      },
      "source": [
        "# Revisamos los nulos. \n",
        "\n",
        "df.isnull().sum()"
      ],
      "execution_count": null,
      "outputs": []
    },
    {
      "cell_type": "markdown",
      "metadata": {
        "id": "WitjZlKzpwTB"
      },
      "source": [
        "En este caso los registros que tenemos con valores nulos corresponden al Id de las películas. Si observamos los registros nulos están ordenados del 1 al 2,340."
      ]
    },
    {
      "cell_type": "code",
      "metadata": {
        "id": "NsUbxRh-2zWb"
      },
      "source": [
        "df[df['Rating'].isnull()].shape"
      ],
      "execution_count": null,
      "outputs": []
    },
    {
      "cell_type": "code",
      "metadata": {
        "id": "8HXymoc-2n6I"
      },
      "source": [
        "df[df['Rating'].isnull()].head()"
      ],
      "execution_count": null,
      "outputs": []
    },
    {
      "cell_type": "code",
      "metadata": {
        "id": "2lfgyTUltlM4"
      },
      "source": [
        "movies = df['Rating'].isnull().sum()\n",
        "print(f'Este es el número de películas que tenemos en este archivo: {movies}')"
      ],
      "execution_count": null,
      "outputs": []
    },
    {
      "cell_type": "code",
      "metadata": {
        "id": "uMdjYPTGsk1h"
      },
      "source": [
        "reviews = df[df['Rating'].isnull()==False]['Client_Id'].count()\n",
        "print(f'Este es el número de calificaciones: {reviews}')"
      ],
      "execution_count": null,
      "outputs": []
    },
    {
      "cell_type": "code",
      "metadata": {
        "id": "OCDMu35Js1xh"
      },
      "source": [
        "users = df['Client_Id'].nunique() - movies\n",
        "print(f'Esta es la cantidad de usuarios que tenemos: {users}')"
      ],
      "execution_count": null,
      "outputs": []
    },
    {
      "cell_type": "markdown",
      "metadata": {
        "id": "EQ-zljpEvE56"
      },
      "source": [
        "En este caso no estaremos trabajando con las fechas. Por lo tanto haremos un subconjunto de nuestro DF original. "
      ]
    },
    {
      "cell_type": "code",
      "metadata": {
        "id": "YGk9bj0PuzvR"
      },
      "source": [
        "df_sub = df[['Client_Id', 'Rating']]"
      ],
      "execution_count": null,
      "outputs": []
    },
    {
      "cell_type": "markdown",
      "metadata": {
        "id": "_EO4wSbpvbJ_"
      },
      "source": [
        "Ahora observemos como se distribuye la frecuencia para la columna de rating."
      ]
    },
    {
      "cell_type": "code",
      "metadata": {
        "id": "u2d4FB8wvTeB"
      },
      "source": [
        "sns.countplot(y=df_sub['Rating'], orient='v', palette='Blues');"
      ],
      "execution_count": null,
      "outputs": []
    },
    {
      "cell_type": "code",
      "metadata": {
        "id": "ljIWZVF6vnQy"
      },
      "source": [
        "df_sub['Rating'].value_counts()/ df_sub['Rating'].count() * 100 "
      ],
      "execution_count": null,
      "outputs": []
    },
    {
      "cell_type": "markdown",
      "metadata": {
        "id": "AcEuWTQF0YlR"
      },
      "source": [
        "La mayor parte de nuestros valores se distribuyen en los ratings de 3 y 4 estrellas. La mayoría de los rating son positivos."
      ]
    },
    {
      "cell_type": "markdown",
      "metadata": {
        "id": "LHFOcjEr2SmR"
      },
      "source": [
        "### Hora de la limpieza"
      ]
    },
    {
      "cell_type": "code",
      "source": [
        "## Diferencia entre \"Series\" y \"DataFrame\"\n",
        "df_aux = df.iloc[:5,:]\n",
        "df_aux"
      ],
      "metadata": {
        "id": "ZGVe032X7Ihl"
      },
      "execution_count": null,
      "outputs": []
    },
    {
      "cell_type": "code",
      "source": [
        "## Continuacion del anterior\n",
        "# tipo DataFrame\n",
        "df_aux[['Client_Id']]"
      ],
      "metadata": {
        "id": "kNqwkErv7YlM"
      },
      "execution_count": null,
      "outputs": []
    },
    {
      "cell_type": "code",
      "source": [
        "# tipo Series\n",
        "df_aux['Client_Id']"
      ],
      "metadata": {
        "id": "kvrR-QFl7fPq"
      },
      "execution_count": null,
      "outputs": []
    },
    {
      "cell_type": "markdown",
      "metadata": {
        "id": "JasuhT_a2WaQ"
      },
      "source": [
        "En este caso los valores nulos que tenemos hacen referencia a **Id** de 'clientes' con rating vacíos. En realidad esta información es el **Id** de la película. Lo que debemos hacer ahora es quitar estos registros y añadir los **Id's** de película como una nueva columna. "
      ]
    },
    {
      "cell_type": "code",
      "metadata": {
        "id": "5uIg-NmE3WrD"
      },
      "source": [
        "# Generamos una serie con valores booleanos. Donde Verdadero será igual al lugar\n",
        "# donde hay un Id de película.\n",
        "pd.isnull(df_sub['Rating'][:100])"
      ],
      "execution_count": null,
      "outputs": []
    },
    {
      "cell_type": "code",
      "metadata": {
        "id": "y7d38-Dtyk0y"
      },
      "source": [
        "# Colocamos la serie como un DataFrame\n",
        "df_null = pd.DataFrame(pd.isnull(df_sub['Rating']))\n",
        "df_null.head()"
      ],
      "execution_count": null,
      "outputs": []
    },
    {
      "cell_type": "code",
      "metadata": {
        "id": "1hCwtVGx4hBo"
      },
      "source": [
        "# Obtenemos sólo los registros de películas junto con índice hasta donde llega \n",
        "# los rating para esa película.\n",
        "df_null = df_null[df_null['Rating'] == True]\n",
        "df_null.head()"
      ],
      "execution_count": null,
      "outputs": []
    },
    {
      "cell_type": "code",
      "metadata": {
        "id": "E7ecC_Lo4369"
      },
      "source": [
        "# Colocamos el índice como columna para tener la ubicación para hasta donde repe-\n",
        "# tir nuestros valores de Id para esa película.\n",
        "df_null = df_null.reset_index()\n",
        "df_null"
      ],
      "execution_count": null,
      "outputs": []
    },
    {
      "cell_type": "code",
      "metadata": {
        "id": "D7f9zMuI545k"
      },
      "source": [
        "movie_id_array = [] # Generamos una lista vacía donde colocaremos el Id de la película las veces que se repita.\n",
        "movie_id = 1 # Inicializamos un contador\n",
        "\n",
        "# En esta celda para saber cómo hace el proceso imprimo los distintos pasos.\n",
        "for i, j in zip(df_null['index'][1:], df_null['index'][:-1]): # Iteramos sobre los valores de la columna 'index'\n",
        "                                                               # empezando por el valor n+1 y en segundo lugar desde n hasta el penúltimo valor de la serie.\n",
        "  temporary = np.full((1, i-j-1), fill_value=movie_id) # Creamos una matriz llena de valores con la forma de 1x(la diferencia del valor (n+1)-n-1).\n",
        "                                                       # Esto nos da una matriz llena con el Id repetido el número de reviews para esa película.\n",
        "  movie_id_array = np.append(movie_id_array, temporary) # Lo añadimos a una lista. \n",
        "  movie_id += 1                                         # Aumentamos el Id para la siguiente película."
      ],
      "execution_count": null,
      "outputs": []
    },
    {
      "cell_type": "code",
      "metadata": {
        "id": "pNZFblX1A9EC"
      },
      "source": [
        "movie_id"
      ],
      "execution_count": null,
      "outputs": []
    },
    {
      "cell_type": "code",
      "metadata": {
        "id": "FwNO7EvuAUGD"
      },
      "source": [
        "# Generamos los Id's para la última película que no está contemplada en nuestro loop.\n",
        "last_movie = np.full((1, len(df_sub) - df_null.iloc[-1, 0] - 1), movie_id)\n",
        "movie_id_array = np.append(movie_id_array, last_movie)"
      ],
      "execution_count": null,
      "outputs": []
    },
    {
      "cell_type": "code",
      "metadata": {
        "id": "wqyZbsQmA0CZ"
      },
      "source": [
        "movie_id_array.shape # la cantidad de Id's corresponde con la cantidad de películas."
      ],
      "execution_count": null,
      "outputs": []
    },
    {
      "cell_type": "code",
      "source": [
        "movie_id_array"
      ],
      "metadata": {
        "id": "8TQkPe6dPQCx"
      },
      "execution_count": null,
      "outputs": []
    },
    {
      "cell_type": "markdown",
      "metadata": {
        "id": "yxcX00TXCSym"
      },
      "source": [
        "Ahora para tener todo en orden es necesario que quitemos los registros nulos de nuestro df y añadamos los Id's que generamos."
      ]
    },
    {
      "cell_type": "code",
      "metadata": {
        "id": "Qr_9t1ieAxR9"
      },
      "source": [
        "df_clean = df_sub[pd.notnull(df_sub['Rating'])].copy()"
      ],
      "execution_count": null,
      "outputs": []
    },
    {
      "cell_type": "code",
      "metadata": {
        "id": "uGfiai45C0L1"
      },
      "source": [
        "df_clean['Movie_Id'] = movie_id_array.astype('int16') "
      ],
      "execution_count": null,
      "outputs": []
    },
    {
      "cell_type": "code",
      "metadata": {
        "id": "M1-sR3-jDneA"
      },
      "source": [
        "df_clean['Client_Id'] = df_clean['Client_Id'].astype('int32')"
      ],
      "execution_count": null,
      "outputs": []
    },
    {
      "cell_type": "code",
      "metadata": {
        "id": "KrLl0IsRDG6n"
      },
      "source": [
        "df_clean.head()"
      ],
      "execution_count": null,
      "outputs": []
    },
    {
      "cell_type": "code",
      "metadata": {
        "id": "lvAUFHy6EgsA"
      },
      "source": [
        "df_clean.tail()"
      ],
      "execution_count": null,
      "outputs": []
    },
    {
      "cell_type": "code",
      "metadata": {
        "id": "owdAxOwADV73"
      },
      "source": [
        "df_clean.info()"
      ],
      "execution_count": null,
      "outputs": []
    },
    {
      "cell_type": "code",
      "source": [
        "df_clean.isnull().sum().sum()"
      ],
      "metadata": {
        "id": "b3au2B8t-bL3"
      },
      "execution_count": null,
      "outputs": []
    },
    {
      "cell_type": "markdown",
      "metadata": {
        "id": "511-0WxYJYsX"
      },
      "source": [
        "\n",
        "\n",
        "---\n",
        "\n",
        "\n",
        "\n",
        "---\n",
        "\n"
      ]
    },
    {
      "cell_type": "markdown",
      "metadata": {
        "id": "ejLMd_Q8GoEH"
      },
      "source": [
        "### Removiendo datos con poco valor informativo "
      ]
    },
    {
      "cell_type": "markdown",
      "metadata": {
        "id": "jRUs0Nj_E1SL"
      },
      "source": [
        "Nuestros datos se encuentran en el formato correcto. Sin embargo, existen muchos datos que no ayudan a nuestra predicción. ¿Por qué sucede esto? En esto momento no parece que tenemos valores nulos, sin embargo no todos los usuarios han calificado las 4,499 películas que tenemos. De aquí va a provenir nuestra matriz dispersa. \n",
        "\n",
        "Pero antes de pasar a la matriz intentemos reducir la cantidad de datos que tenemos removiendo dos casos de nuestro dataset:\n",
        "1. Las películas que tiene pocas calificaciones. \n",
        "2. Usuarios que han calificado muy pocas películas."
      ]
    },
    {
      "cell_type": "markdown",
      "source": [
        "Las películas que tiene pocas calificaciones."
      ],
      "metadata": {
        "id": "OYlsh8OKdg2S"
      }
    },
    {
      "cell_type": "code",
      "metadata": {
        "id": "wxJHrBRIDgzY"
      },
      "source": [
        "# Agregamos a nivel película para revisar el conteo y valor promedio para cada una.\n",
        "movie_agg = df_clean.groupby('Movie_Id').agg({'Rating': ['count', 'mean']})\n",
        "movie_agg"
      ],
      "execution_count": null,
      "outputs": []
    },
    {
      "cell_type": "code",
      "metadata": {
        "id": "P5ND1fTYHPuI"
      },
      "source": [
        "movie_agg.info()"
      ],
      "execution_count": null,
      "outputs": []
    },
    {
      "cell_type": "code",
      "metadata": {
        "id": "wpwEpULrHiV3"
      },
      "source": [
        "movie_agg.describe()"
      ],
      "execution_count": null,
      "outputs": []
    },
    {
      "cell_type": "markdown",
      "metadata": {
        "id": "ME_cGoxHJM3c"
      },
      "source": [
        "Observamos el comportamiento de la distribución del conteo."
      ]
    },
    {
      "cell_type": "code",
      "metadata": {
        "id": "c2-mr-u6Hvco"
      },
      "source": [
        "sns.boxplot(x=movie_agg[('Rating', 'count')]);"
      ],
      "execution_count": null,
      "outputs": []
    },
    {
      "cell_type": "code",
      "metadata": {
        "id": "d5ni37khH_sA"
      },
      "source": [
        "sns.displot(data=movie_agg, x=('Rating', 'count'), log_scale=True);"
      ],
      "execution_count": null,
      "outputs": []
    },
    {
      "cell_type": "markdown",
      "metadata": {
        "id": "fkrWh4UQJ6wU"
      },
      "source": [
        "Por el comportamiento de la distribución del conteo de nuestros ratings observamos que hay un número considerable de películas con un muy pocas calificaciones. Revisemos cuántas son."
      ]
    },
    {
      "cell_type": "code",
      "metadata": {
        "id": "8m0TPq5LIYtw"
      },
      "source": [
        "# Tomamos el valor del tercer cuartil.\n",
        "movies_low_rating = movie_agg[('Rating', 'count')].quantile(0.75)\n",
        "movies_low_rating"
      ],
      "execution_count": null,
      "outputs": []
    },
    {
      "cell_type": "code",
      "metadata": {
        "id": "VAWPADK0K2z4"
      },
      "source": [
        "# Seleccionamos todas las películas que están por debajo del valor del cuartil\n",
        "movies_to_drop = movie_agg[movie_agg[('Rating', 'count')] < movies_low_rating].index\n",
        "movies_to_drop.shape"
      ],
      "execution_count": null,
      "outputs": []
    },
    {
      "cell_type": "code",
      "source": [
        "movies_to_drop"
      ],
      "metadata": {
        "id": "TESYdRykC0En"
      },
      "execution_count": null,
      "outputs": []
    },
    {
      "cell_type": "markdown",
      "metadata": {
        "id": "NnUeR1NlRp3a"
      },
      "source": [
        "Ahora observemos el caso del conteo para los usuarios. Usuarios que han calificado muy pocas películas."
      ]
    },
    {
      "cell_type": "code",
      "metadata": {
        "id": "a_6QgrWKMYBI"
      },
      "source": [
        "user_agg = df_clean.groupby('Client_Id').agg({'Rating': ['count', 'mean']})['Rating']\n",
        "user_agg.head()"
      ],
      "execution_count": null,
      "outputs": []
    },
    {
      "cell_type": "code",
      "metadata": {
        "id": "kiZAoJdsSGYY"
      },
      "source": [
        "user_agg.info()"
      ],
      "execution_count": null,
      "outputs": []
    },
    {
      "cell_type": "code",
      "metadata": {
        "id": "SqVQm5msS-8S"
      },
      "source": [
        "user_agg.describe()"
      ],
      "execution_count": null,
      "outputs": []
    },
    {
      "cell_type": "code",
      "metadata": {
        "id": "ppr8ojFGSK97"
      },
      "source": [
        "sns.boxplot(x=user_agg['count']);"
      ],
      "execution_count": null,
      "outputs": []
    },
    {
      "cell_type": "code",
      "metadata": {
        "id": "E9RTv8WhSWN0"
      },
      "source": [
        "sns.displot(data=user_agg, x='count', log_scale=True);"
      ],
      "execution_count": null,
      "outputs": []
    },
    {
      "cell_type": "code",
      "metadata": {
        "id": "F31HD5iJSdTs"
      },
      "source": [
        "user_low_rating = user_agg['count'].quantile(0.75)\n",
        "user_low_rating"
      ],
      "execution_count": null,
      "outputs": []
    },
    {
      "cell_type": "code",
      "metadata": {
        "id": "57NN2stcTrj8"
      },
      "source": [
        "users_to_drop = user_agg[user_agg['count'] < user_low_rating].index\n",
        "users_to_drop.shape"
      ],
      "execution_count": null,
      "outputs": []
    },
    {
      "cell_type": "code",
      "source": [
        "users_to_drop"
      ],
      "metadata": {
        "id": "nYAmqdboWgMX"
      },
      "execution_count": null,
      "outputs": []
    },
    {
      "cell_type": "markdown",
      "metadata": {
        "id": "_6h1546mW6qr"
      },
      "source": [
        "Removamos las películas con bajo número de calificaciones y los usuarios con pocas películas calificadas."
      ]
    },
    {
      "cell_type": "code",
      "source": [
        "df_clean"
      ],
      "metadata": {
        "id": "nuunsKPVc3Mx"
      },
      "execution_count": null,
      "outputs": []
    },
    {
      "cell_type": "code",
      "metadata": {
        "id": "WRV5Th6ET8DA"
      },
      "source": [
        "df_trim = df_clean[~df_clean['Movie_Id'].isin(movies_to_drop)]"
      ],
      "execution_count": null,
      "outputs": []
    },
    {
      "cell_type": "code",
      "metadata": {
        "id": "ploVZf-QXoZ8"
      },
      "source": [
        "df_clean.shape, df_trim.shape"
      ],
      "execution_count": null,
      "outputs": []
    },
    {
      "cell_type": "code",
      "metadata": {
        "id": "Jl3qyWsNXsMV"
      },
      "source": [
        "df_trim = df_trim[~df_trim['Client_Id'].isin(users_to_drop)]"
      ],
      "execution_count": null,
      "outputs": []
    },
    {
      "cell_type": "code",
      "metadata": {
        "id": "_Ew_O7UlX8uV"
      },
      "source": [
        "df_clean.shape, df_trim.shape"
      ],
      "execution_count": null,
      "outputs": []
    },
    {
      "cell_type": "code",
      "metadata": {
        "id": "qMY9EkG2X9sd"
      },
      "source": [
        "df_trim.shape[0] / df_clean.shape[0]"
      ],
      "execution_count": null,
      "outputs": []
    },
    {
      "cell_type": "markdown",
      "metadata": {
        "id": "yyLex-G7YX_2"
      },
      "source": [
        "Eliminamos casi el 40% de nuestros datos. "
      ]
    },
    {
      "cell_type": "markdown",
      "metadata": {
        "id": "heGjQcN4Yqts"
      },
      "source": [
        "### Convirtiendo a matriz dispersa o generando nuestra tabla Usuario-Item"
      ]
    },
    {
      "cell_type": "code",
      "source": [
        "df_trim"
      ],
      "metadata": {
        "id": "dz41rTsPIlS7"
      },
      "execution_count": null,
      "outputs": []
    },
    {
      "cell_type": "code",
      "metadata": {
        "id": "BkMRoNovYHvt"
      },
      "source": [
        "# Por limitantes de la ramm, no podemos crearlo, pero en local o usando otras herramientas, podrían \n",
        "%%time\n",
        "pivot_user_item = df_trim.pivot(index='Client_Id', columns='Movie_Id', values='Rating').fillna(0)"
      ],
      "execution_count": null,
      "outputs": []
    },
    {
      "cell_type": "code",
      "metadata": {
        "id": "-BfopnnhZuLV"
      },
      "source": [
        "pivot_user_item.head()"
      ],
      "execution_count": null,
      "outputs": []
    },
    {
      "cell_type": "markdown",
      "metadata": {
        "id": "Sm_xLiZ6MS8D"
      },
      "source": [
        "#### Cargando dataset con información de películas."
      ]
    },
    {
      "cell_type": "markdown",
      "metadata": {
        "id": "0rjWQKcPPpcI"
      },
      "source": [
        "Hay que utilizar el mismo nombre para la columna del Id de película, esto nos servirá después para cruzar con nuestra recomendación."
      ]
    },
    {
      "cell_type": "code",
      "metadata": {
        "id": "A4u_zY_AJzsT"
      },
      "source": [
        "df_movies = pd.read_csv('/content/drive/MyDrive/Curso-WorkingAnalyst/semana5/movie_titles.csv', \n",
        "                        encoding='ISO-8859-1', names=['Movie_Id', 'Year', 'Title'])\n",
        "\n",
        "df_movies = df_movies[df_movies['Movie_Id'] < 2341]\n",
        "df_movies"
      ],
      "execution_count": null,
      "outputs": []
    },
    {
      "cell_type": "code",
      "metadata": {
        "id": "6zCRD3auPQLY"
      },
      "source": [
        "df_movies.set_index('Movie_Id', inplace=True) "
      ],
      "execution_count": null,
      "outputs": []
    },
    {
      "cell_type": "code",
      "metadata": {
        "id": "Dafhu2N1PkL5"
      },
      "source": [
        "df_movies.head()"
      ],
      "execution_count": null,
      "outputs": []
    },
    {
      "cell_type": "markdown",
      "metadata": {
        "id": "ldm-eFYBQnQs"
      },
      "source": [
        "### Haciendo una recomendación"
      ]
    },
    {
      "cell_type": "code",
      "metadata": {
        "id": "-wmGTNgSPlyn"
      },
      "source": [
        "# Obtengamos un usuario al azar\n",
        "np.random.seed(2)\n",
        "random_user_id = np.random.choice(df_trim['Client_Id'])\n",
        "random_user_id"
      ],
      "execution_count": null,
      "outputs": []
    },
    {
      "cell_type": "code",
      "metadata": {
        "id": "06o9y46MQWoY"
      },
      "source": [
        "# Veamos qué le ha gustado antes a este usuario o ha visto\n",
        "\n",
        "user = df_trim[(df_trim['Client_Id'] == random_user_id)].set_index('Movie_Id')\n",
        "user_rated_movies = user.join(df_movies)\n",
        "user_rated_movies "
      ],
      "execution_count": null,
      "outputs": []
    },
    {
      "cell_type": "code",
      "source": [
        "user_rated_movies['Rating'].value_counts()"
      ],
      "metadata": {
        "id": "PTHXXnMDgGbu"
      },
      "execution_count": null,
      "outputs": []
    },
    {
      "cell_type": "markdown",
      "metadata": {
        "id": "aNvIr2vQT1gV"
      },
      "source": [
        "Recordemos que eliminamos de nuestra matriz películas que no tenían una cantidad considerable de calificaciones, así que debemos eliminarlas también de este listado de películas que utilizaremos para recomendar."
      ]
    },
    {
      "cell_type": "code",
      "metadata": {
        "id": "6R0rOmGXgWE9"
      },
      "source": [
        "movies_to_not_considered = movies_to_drop.to_list() + user_rated_movies.index.to_list()"
      ],
      "execution_count": null,
      "outputs": []
    },
    {
      "cell_type": "code",
      "metadata": {
        "id": "FZGKWmpwRcYG"
      },
      "source": [
        "create_recom = df_movies.copy()\n",
        "create_recom = create_recom.reset_index()\n",
        "create_list_of_possible_movies_to_recommend = create_recom[(~create_recom['Movie_Id'].isin(movies_to_not_considered))] \n",
        "\n",
        "create_list_of_possible_movies_to_recommend"
      ],
      "execution_count": null,
      "outputs": []
    },
    {
      "cell_type": "markdown",
      "metadata": {
        "id": "1jaCrcVbCLhy"
      },
      "source": [
        "### Singular Value Decomposition (SVD)"
      ]
    },
    {
      "cell_type": "markdown",
      "metadata": {
        "id": "lTa69IslDTJC"
      },
      "source": [
        "La descomposición en valores singulares nos permite reducir las dimensiones de nuestra matriz a partir de su factorización. "
      ]
    },
    {
      "cell_type": "markdown",
      "metadata": {
        "id": "9hNTdUcCLmGm"
      },
      "source": [
        "Ahora ya tenemos nuestra matriz factorizada y lista para generar recomendaciones. Pero antes de eso es necesario traer el nombre de nuestras películas. "
      ]
    },
    {
      "cell_type": "code",
      "source": [
        "# Obtenemos un Id de una película para estimar su posible valor de calificación.\n",
        "np.random.seed(0)\n",
        "random_movie_id = create_list_of_possible_movies_to_recommend.sample()\n",
        "print(random_movie_id)\n",
        "random_movie_id = random_movie_id.loc[:, 'Movie_Id'].values[0]\n",
        "print(f'random_movie_id is {random_movie_id}')"
      ],
      "metadata": {
        "id": "algus8DmgP0J"
      },
      "execution_count": null,
      "outputs": []
    },
    {
      "cell_type": "markdown",
      "metadata": {
        "id": "RzDWHTtxdLFb"
      },
      "source": [
        "\n",
        "\n",
        "---\n",
        "\n",
        "\n",
        "\n",
        "---\n",
        "\n"
      ]
    },
    {
      "cell_type": "code",
      "metadata": {
        "id": "jaocOnqpTwah"
      },
      "source": [
        "%%time\n",
        "# Utilizamos las clases y funciones que importamos del módulo surprise (Reader, Dataset, SVD)\n",
        "reader = Reader(rating_scale=(1, 5))\n",
        "\n",
        "# The columns must correspond to user id, item id and ratings (in that order).\n",
        "data = Dataset.load_from_df(df_trim[['Client_Id', 'Movie_Id', 'Rating']], reader)\n",
        "\n",
        "trainset = data.build_full_trainset() # cargamos todos nuestros datos en un objeto tipo trainset\n",
        "\n",
        "\n",
        "svd = SVD(biased=False) \n",
        "svd.fit(trainset) # Ajustamos nuestros datos a la matriz que factorizamos. "
      ],
      "execution_count": null,
      "outputs": []
    },
    {
      "cell_type": "code",
      "source": [
        "# Hacemos la predicción y obtenemos el valor estimado de la calificación.\n",
        "prediction = svd.predict(random_user_id, random_movie_id)\n",
        "print(prediction)"
      ],
      "metadata": {
        "id": "lXqbmQWGgNOn"
      },
      "execution_count": null,
      "outputs": []
    },
    {
      "cell_type": "code",
      "metadata": {
        "id": "bQz870vXaVQy"
      },
      "source": [
        "user_recommendations = create_list_of_possible_movies_to_recommend.copy()\n",
        "user_recommendations['Estimated_Rating'] = user_recommendations['Movie_Id'].apply(lambda x: svd.predict(random_user_id, x).est)"
      ],
      "execution_count": null,
      "outputs": []
    },
    {
      "cell_type": "code",
      "metadata": {
        "id": "wruCtsGae0m0"
      },
      "source": [
        "user_recommendations.head()"
      ],
      "execution_count": null,
      "outputs": []
    },
    {
      "cell_type": "code",
      "metadata": {
        "id": "04AYnxhqe2FT"
      },
      "source": [
        "user_recommendations.sort_values('Estimated_Rating', ascending=False)"
      ],
      "execution_count": null,
      "outputs": []
    },
    {
      "cell_type": "markdown",
      "source": [
        "\n",
        "\n",
        "---\n",
        "\n",
        "\n",
        "\n",
        "---\n",
        "\n"
      ],
      "metadata": {
        "id": "FubfTTVxpXWG"
      }
    },
    {
      "cell_type": "markdown",
      "source": [
        "Hacemos lo anterior con datos train and test"
      ],
      "metadata": {
        "id": "xGAb0R_zqTNP"
      }
    },
    {
      "cell_type": "code",
      "source": [
        "%%time\n",
        "# Utilizamos las clases y funciones que importamos del módulo surprise (Reader, Dataset, SVD)\n",
        "reader = Reader(rating_scale=(1, 5))\n",
        "\n",
        "# The columns must correspond to user id, item id and ratings (in that order).\n",
        "data = Dataset.load_from_df(df_trim[['Client_Id', 'Movie_Id', 'Rating']], reader)\n",
        "\n",
        "# # test set is made of 25% of the ratings.\n",
        "trainset, testset = train_test_split(data, test_size=0.25)\n",
        "\n",
        "svd = SVD(biased=False) \n",
        "svd.fit(trainset) # Ajustamos nuestros datos a la matriz que factorizamos. "
      ],
      "metadata": {
        "id": "aOPgM3BnpZOQ"
      },
      "execution_count": null,
      "outputs": []
    },
    {
      "cell_type": "code",
      "metadata": {
        "id": "94PoYRYLXK3Z"
      },
      "source": [
        "# Hacemos la predicción y obtenemos el valor estimado de la calificación.\n",
        "prediction = svd.predict(random_user_id, random_movie_id)\n",
        "prediction"
      ],
      "execution_count": null,
      "outputs": []
    },
    {
      "cell_type": "code",
      "source": [
        "svd.test(testset)"
      ],
      "metadata": {
        "id": "eKPhfXWxXySu"
      },
      "execution_count": null,
      "outputs": []
    },
    {
      "cell_type": "markdown",
      "metadata": {
        "id": "7IdtOrHddPj4"
      },
      "source": [
        "\n",
        "\n",
        "---\n",
        "\n",
        "\n",
        "\n",
        "---\n",
        "\n"
      ]
    },
    {
      "cell_type": "markdown",
      "source": [
        "Hacemos lo anterior con `cross_validate` y datos de test"
      ],
      "metadata": {
        "id": "SiYCPz4RlLkW"
      }
    },
    {
      "cell_type": "code",
      "metadata": {
        "id": "scAm2b2BBWK7"
      },
      "source": [
        "%%time\n",
        "# Utilizamos las clases y funciones que importamos del módulo surprise (Reader, Dataset, SVD)\n",
        "reader = Reader(rating_scale=(1, 5))\n",
        "\n",
        "\n",
        "data = Dataset.load_from_df(df_trim[['Client_Id', 'Movie_Id', 'Rating']],\n",
        "                            reader) # Es necesario pasar en este orden las columnas\n",
        "\n",
        "svd = SVD(biased=False) \n",
        "cross_validate(svd, data, measures=['RMSE', 'MAE'], cv=3)"
      ],
      "execution_count": null,
      "outputs": []
    }
  ]
}