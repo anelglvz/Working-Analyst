{
  "nbformat": 4,
  "nbformat_minor": 0,
  "metadata": {
    "colab": {
      "provenance": [],
      "machine_shape": "hm",
      "include_colab_link": true
    },
    "kernelspec": {
      "display_name": "Python 3",
      "name": "python3"
    },
    "accelerator": "GPU",
    "gpuClass": "standard"
  },
  "cells": [
    {
      "cell_type": "markdown",
      "metadata": {
        "id": "view-in-github",
        "colab_type": "text"
      },
      "source": [
        "<a href=\"https://colab.research.google.com/github/anelglvz/Working-Analyst/blob/main/ML-AI-for-the-Working-Analyst/Semana11/Semana11_Resumen_de__textos_seq2seq_LSTM_w2v.ipynb\" target=\"_parent\"><img src=\"https://colab.research.google.com/assets/colab-badge.svg\" alt=\"Open In Colab\"/></a>"
      ]
    },
    {
      "cell_type": "markdown",
      "metadata": {
        "id": "JKYQ46ALfBIs"
      },
      "source": [
        "IMPORTANTE: Antes de iniciar cambiar entorno de ejecución a GPU"
      ]
    },
    {
      "cell_type": "markdown",
      "metadata": {
        "id": "6LQFoeNUuQb9"
      },
      "source": [
        "# Cargar bibliotecas y Embeddings preentrenados"
      ]
    },
    {
      "cell_type": "code",
      "metadata": {
        "colab": {
          "base_uri": "https://localhost:8080/"
        },
        "id": "ZQRhwth-WM5K",
        "outputId": "20341165-2c8d-4299-fd14-a8cef5d7f1e1"
      },
      "source": [
        "!pip install contractions"
      ],
      "execution_count": null,
      "outputs": [
        {
          "output_type": "stream",
          "name": "stdout",
          "text": [
            "Looking in indexes: https://pypi.org/simple, https://us-python.pkg.dev/colab-wheels/public/simple/\n",
            "Collecting contractions\n",
            "  Downloading contractions-0.1.73-py2.py3-none-any.whl (8.7 kB)\n",
            "Collecting textsearch>=0.0.21\n",
            "  Downloading textsearch-0.0.24-py2.py3-none-any.whl (7.6 kB)\n",
            "Collecting anyascii\n",
            "  Downloading anyascii-0.3.1-py3-none-any.whl (287 kB)\n",
            "\u001b[K     |████████████████████████████████| 287 kB 34.2 MB/s \n",
            "\u001b[?25hCollecting pyahocorasick\n",
            "  Downloading pyahocorasick-1.4.4-cp38-cp38-manylinux_2_17_x86_64.manylinux2014_x86_64.whl (110 kB)\n",
            "\u001b[K     |████████████████████████████████| 110 kB 61.2 MB/s \n",
            "\u001b[?25hInstalling collected packages: pyahocorasick, anyascii, textsearch, contractions\n",
            "Successfully installed anyascii-0.3.1 contractions-0.1.73 pyahocorasick-1.4.4 textsearch-0.0.24\n"
          ]
        }
      ]
    },
    {
      "cell_type": "markdown",
      "metadata": {
        "id": "fsL1dYVMBWfa"
      },
      "source": [
        "<h3>Bibliotecas<h3>"
      ]
    },
    {
      "cell_type": "code",
      "metadata": {
        "id": "xG0HBaeNShpT"
      },
      "source": [
        "import pandas as pd\n",
        "import numpy as np\n",
        "import gensim\n",
        "import contractions\n",
        "import re\n",
        "from sklearn.model_selection import train_test_split\n",
        "import tensorflow as tf\n",
        "\n",
        "from tensorflow import keras\n",
        "from tensorflow.data import Dataset  # Convierte conjuntos de datos de Python a tensores\n",
        "from tensorflow.keras.layers.experimental.preprocessing import TextVectorization  # Crear diccionario para convertir palabras a indices y vs.\n",
        "from tensorflow.keras.preprocessing.sequence import pad_sequences # Rellenar con cero los vectores de las secuencias hasta la longitud máxima\n",
        "from tensorflow.keras.layers import Embedding, Input\n",
        "from tensorflow.keras.layers import LSTM\n",
        "from tensorflow.keras.layers import Dense\n",
        "from tensorflow.keras.layers import Concatenate #, Attention\n",
        "from tensorflow.keras.layers import TimeDistributed\n",
        "from tensorflow.keras import backend as K\n",
        "from tensorflow.keras.models import Model\n",
        "from tensorflow.keras.callbacks import EarlyStopping\n",
        "\n",
        "import matplotlib.pyplot as plt"
      ],
      "execution_count": null,
      "outputs": []
    },
    {
      "cell_type": "code",
      "source": [
        "from google.colab import drive\n",
        "drive.mount('/content/drive')"
      ],
      "metadata": {
        "colab": {
          "base_uri": "https://localhost:8080/"
        },
        "id": "fAyQX2vKUp0I",
        "outputId": "d80cbc59-1f0c-4322-d8b1-fefd5ac79586"
      },
      "execution_count": null,
      "outputs": [
        {
          "output_type": "stream",
          "name": "stdout",
          "text": [
            "Mounted at /content/drive\n"
          ]
        }
      ]
    },
    {
      "cell_type": "markdown",
      "metadata": {
        "id": "iWhQtuDJRtBF"
      },
      "source": [
        "<h3>Modelo Preentrenado Word2Vec<h3>\n",
        "\n",
        "Utilizaremos los vectores word2vec preentrenados con el corpus GoogleNews.\n",
        "Cuenta con 3 millones vectores de 300 dimensiones correspondientes a 3  palabras y frases en inglés. \n",
        "Crea un acceso directo en tu drive del modelo preentrenado que está disponible en este [enlace](https://drive.google.com/file/d/0B7XkCwpI5KDYNlNUTTlSS21pQmM/edit?resourcekey=0-wjGZdNAUop6WykTtMip30g)\n"
      ]
    },
    {
      "cell_type": "code",
      "metadata": {
        "id": "lQ2NVan1FGVm"
      },
      "source": [
        "# asegurate de poner la ruta correcta en donde se ubica el archivo en tu drive\n",
        "file =  '/content/drive/MyDrive/Curso-WorkingAnalyst/semana11/GoogleNews-vectors-negative300.bin.gz'  \n",
        "w2v = gensim.models.KeyedVectors.load_word2vec_format(file,  binary=True)"
      ],
      "execution_count": null,
      "outputs": []
    },
    {
      "cell_type": "code",
      "metadata": {
        "colab": {
          "base_uri": "https://localhost:8080/"
        },
        "id": "yLNJNifkvKX2",
        "outputId": "66f37a4d-55bc-4727-e706-4b8ab3ccddef"
      },
      "source": [
        "print('Palabras en el modelo w2v: {:,} '.format(len(w2v.vocab)))\n",
        "print('Dimensiones por embedding: ', w2v.vector_size)"
      ],
      "execution_count": null,
      "outputs": [
        {
          "output_type": "stream",
          "name": "stdout",
          "text": [
            "Palabras en el modelo w2v: 3,000,000 \n",
            "Dimensiones por embedding:  300\n"
          ]
        }
      ]
    },
    {
      "cell_type": "code",
      "metadata": {
        "colab": {
          "base_uri": "https://localhost:8080/"
        },
        "id": "1n95jAmADwxV",
        "outputId": "eb5d5a53-3571-4b63-a32b-ebe0359aec75"
      },
      "source": [
        "%%time\n",
        "dic_embeddings_word2vec  = {palabra : w2v[palabra] for palabra in w2v.index2word}"
      ],
      "execution_count": null,
      "outputs": [
        {
          "output_type": "stream",
          "name": "stdout",
          "text": [
            "CPU times: user 5.02 s, sys: 237 ms, total: 5.26 s\n",
            "Wall time: 5.26 s\n"
          ]
        }
      ]
    },
    {
      "cell_type": "code",
      "source": [
        "dic_embeddings_word2vec['view'].shape"
      ],
      "metadata": {
        "colab": {
          "base_uri": "https://localhost:8080/"
        },
        "id": "imMuZfPa-9Rh",
        "outputId": "ae81d5e2-514c-42e6-f7b7-0b8361d214f6"
      },
      "execution_count": null,
      "outputs": [
        {
          "output_type": "execute_result",
          "data": {
            "text/plain": [
              "(300,)"
            ]
          },
          "metadata": {},
          "execution_count": 8
        }
      ]
    },
    {
      "cell_type": "markdown",
      "metadata": {
        "id": "jx-QIvETrv9R"
      },
      "source": [
        "# Funciones"
      ]
    },
    {
      "cell_type": "code",
      "metadata": {
        "id": "AJYwX4CPOT4P"
      },
      "source": [
        "def preprocesar(texto):\n",
        "    #quitar contracciones\n",
        "    texto = contractions.fix(texto)\n",
        "\n",
        "    #convertir en minúsculas\n",
        "    texto = texto.lower()\n",
        "\n",
        "    # eliminar texto no deseado\n",
        "    texto = re.sub(r'<br />', ' ', texto)\n",
        "\n",
        "    #texto = re.sub(r'https?:\\/\\/.*[\\r\\n]*', '', texto, flags=re.MULTILINE)\n",
        "    #texto = re.sub(r'\\<a href', ' ', texto)\n",
        "    #texto = re.sub(r'&amp;', '', texto) \n",
        "    #texto = re.sub(r'[_\"\\-;%()|+&=*%.,!?:#$@\\[\\]/]', ' ', texto)\n",
        "    #texto = re.sub(r'\\'', ' ', texto)\n",
        "\n",
        "    #dejar solo letras y números\n",
        "    texto = re.sub('[^A-ZÜÖÄa-z0-9]+', ' ', texto)\n",
        "    return(texto)"
      ],
      "execution_count": null,
      "outputs": []
    },
    {
      "cell_type": "code",
      "metadata": {
        "id": "Vh0JGfHAnaef"
      },
      "source": [
        "def Vectorizer(serie_pd, max_tokens= 20000):\n",
        "    '''Crear diccionario para convertir palabras en índices\n",
        "     '''\n",
        "    text_ds = Dataset.from_tensor_slices(serie_pd).batch(128)  # transforma la serie a tensores\n",
        "    vectorizer = TextVectorization(max_tokens = max_tokens  )  \n",
        "    vectorizer.adapt(text_ds)   #Computes a vocabulary of string terms from tokens in a dataset. \n",
        "    return  vectorizer"
      ],
      "execution_count": null,
      "outputs": []
    },
    {
      "cell_type": "code",
      "metadata": {
        "id": "J8D7JIWHxRRx"
      },
      "source": [
        "def vectores_palabras(dic_vocabulario, dic_embeddings_palabras, embedding_dim):\n",
        "    '''Obtiene una matriz donde cada renglón es el 'embedding vector' de una \n",
        "    palabra del vocabulario '''\n",
        "    num_tokens = len(dic_vocabulario.keys()) \n",
        "    encontradas = 0\n",
        "    # Inicializar matriz\n",
        "    embedding_matrix = np.zeros((num_tokens, embedding_dim))\n",
        "    for word, i in dic_vocabulario.items():\n",
        "        embedding_vector = dic_embeddings_palabras.get(word)\n",
        "        if embedding_vector is not None:\n",
        "            # los vectores no encontrados en el embeding se quedan en cero\n",
        "            embedding_matrix[i] = embedding_vector\n",
        "            encontradas += 1\n",
        "    proporcion = encontradas/len(dic_vocabulario) *100\n",
        "    print(\"{} palabras vectorizadas, que representan {:.1f}% de todas las palabras en el corpus\".format(encontradas, proporcion))\n",
        "    return embedding_matrix"
      ],
      "execution_count": null,
      "outputs": []
    },
    {
      "cell_type": "code",
      "metadata": {
        "id": "2aWrSipu8I13"
      },
      "source": [
        "def crea_resumen(input_seq):\n",
        "    # Codifica el texto como vectores de entrada\n",
        "    e_out, e_h, e_c = encoder_model.predict(input_seq)\n",
        "    # Genera una secuencia vacía de longitud 1.\n",
        "    target_seq = np.zeros((1,1))\n",
        "\n",
        "    # Identifica la palabra 'tokenstart' como la primera palabra de la secuencia objetivo\n",
        "    target_seq[0, 0] =  palabras_indices_resumen['tokenstart']\n",
        "    stop_condition = False\n",
        "    decoded_sentence = ''\n",
        "    t=0\n",
        "    sampled_token = ''\n",
        "    while stop_condition == False:\n",
        "        output_tokens, h, c = decoder_model.predict([target_seq] + [e_out, e_h, e_c])\n",
        "        # Escoje la próxima palabra para el resumen\n",
        "        sampled_token_index = np.argmax(output_tokens[0, -1, :])\n",
        "        sampled_token = indices_palabras_resumen[sampled_token_index]\n",
        "\n",
        "        # Mientras la palabra elejida no sea la final 'tokenend', anexa la palabra elejida al resumen\n",
        "        if sampled_token!='tokenend':\n",
        "            decoded_sentence += ' '+ sampled_token\n",
        "\n",
        "        # Sal del ciclo while si se alcanza la longitud máxima o si se encuentra 'tokenend'.\n",
        "        if (sampled_token == 'tokenend' or t >= (longitud_max_resumen-1)):\n",
        "            stop_condition = True\n",
        "\n",
        "        # Actualiza la secuencia objetivo (of length 1).\n",
        "        target_seq = np.zeros((1,1))\n",
        "        target_seq[0, 0] = sampled_token_index\n",
        "\n",
        "        # Actualiza los estados internos para predecir la siguiente palabra, igualandolos al estado del tiempo anterior\n",
        "        e_h, e_c = h, c\n",
        "        t+=1\n",
        "\n",
        "    return decoded_sentence"
      ],
      "execution_count": null,
      "outputs": []
    },
    {
      "cell_type": "code",
      "metadata": {
        "id": "t_WXRz5z0i4M"
      },
      "source": [
        "def seq2summary(input_seq):\n",
        "    '''obtiene el resumen, partiendo de los inidices correspondiente a cada palabra'''\n",
        "    newString = ''\n",
        "    for i in input_seq:\n",
        "      if((i != 0 and i != palabras_indices_resumen['tokenstart']) and i != palabras_indices_resumen['tokenend']):\n",
        "        newString = newString + indices_palabras_resumen[i]+' '\n",
        "    return newString\n",
        "\n",
        "def seq2text(input_seq):\n",
        "    '''obtiene la reseña, partiendo de los inidices correspondiente a cada palabra'''\n",
        "    newString = ''\n",
        "    for i in input_seq:\n",
        "      if(i != 0):\n",
        "        newString = newString + indices_palabras_reseña[i]+' '\n",
        "    return newString"
      ],
      "execution_count": null,
      "outputs": []
    },
    {
      "cell_type": "markdown",
      "metadata": {
        "id": "lpJf2DilUGHq"
      },
      "source": [
        "# Lectura de Datos y preparación de secuencias"
      ]
    },
    {
      "cell_type": "code",
      "metadata": {
        "colab": {
          "base_uri": "https://localhost:8080/",
          "height": 224
        },
        "id": "ut_zPB1nSkh0",
        "outputId": "a48bfd2d-8b72-4047-b5b7-edbed56dc541"
      },
      "source": [
        "df = pd.read_csv('/content/drive/MyDrive/Curso-WorkingAnalyst/semana11/Reviews.csv',\n",
        "                 nrows=500000, usecols=['Summary', 'Text'], )\n",
        "df = df.drop_duplicates(keep='first', ignore_index = True).dropna()\n",
        "print(df.shape)\n",
        "df.head()"
      ],
      "execution_count": null,
      "outputs": [
        {
          "output_type": "stream",
          "name": "stdout",
          "text": [
            "(353877, 2)\n"
          ]
        },
        {
          "output_type": "execute_result",
          "data": {
            "text/plain": [
              "                 Summary                                               Text\n",
              "0  Good Quality Dog Food  I have bought several of the Vitality canned d...\n",
              "1      Not as Advertised  Product arrived labeled as Jumbo Salted Peanut...\n",
              "2  \"Delight\" says it all  This is a confection that has been around a fe...\n",
              "3         Cough Medicine  If you are looking for the secret ingredient i...\n",
              "4            Great taffy  Great taffy at a great price.  There was a wid..."
            ],
            "text/html": [
              "\n",
              "  <div id=\"df-e54dc80e-0532-4140-9b96-2e289b8848d0\">\n",
              "    <div class=\"colab-df-container\">\n",
              "      <div>\n",
              "<style scoped>\n",
              "    .dataframe tbody tr th:only-of-type {\n",
              "        vertical-align: middle;\n",
              "    }\n",
              "\n",
              "    .dataframe tbody tr th {\n",
              "        vertical-align: top;\n",
              "    }\n",
              "\n",
              "    .dataframe thead th {\n",
              "        text-align: right;\n",
              "    }\n",
              "</style>\n",
              "<table border=\"1\" class=\"dataframe\">\n",
              "  <thead>\n",
              "    <tr style=\"text-align: right;\">\n",
              "      <th></th>\n",
              "      <th>Summary</th>\n",
              "      <th>Text</th>\n",
              "    </tr>\n",
              "  </thead>\n",
              "  <tbody>\n",
              "    <tr>\n",
              "      <th>0</th>\n",
              "      <td>Good Quality Dog Food</td>\n",
              "      <td>I have bought several of the Vitality canned d...</td>\n",
              "    </tr>\n",
              "    <tr>\n",
              "      <th>1</th>\n",
              "      <td>Not as Advertised</td>\n",
              "      <td>Product arrived labeled as Jumbo Salted Peanut...</td>\n",
              "    </tr>\n",
              "    <tr>\n",
              "      <th>2</th>\n",
              "      <td>\"Delight\" says it all</td>\n",
              "      <td>This is a confection that has been around a fe...</td>\n",
              "    </tr>\n",
              "    <tr>\n",
              "      <th>3</th>\n",
              "      <td>Cough Medicine</td>\n",
              "      <td>If you are looking for the secret ingredient i...</td>\n",
              "    </tr>\n",
              "    <tr>\n",
              "      <th>4</th>\n",
              "      <td>Great taffy</td>\n",
              "      <td>Great taffy at a great price.  There was a wid...</td>\n",
              "    </tr>\n",
              "  </tbody>\n",
              "</table>\n",
              "</div>\n",
              "      <button class=\"colab-df-convert\" onclick=\"convertToInteractive('df-e54dc80e-0532-4140-9b96-2e289b8848d0')\"\n",
              "              title=\"Convert this dataframe to an interactive table.\"\n",
              "              style=\"display:none;\">\n",
              "        \n",
              "  <svg xmlns=\"http://www.w3.org/2000/svg\" height=\"24px\"viewBox=\"0 0 24 24\"\n",
              "       width=\"24px\">\n",
              "    <path d=\"M0 0h24v24H0V0z\" fill=\"none\"/>\n",
              "    <path d=\"M18.56 5.44l.94 2.06.94-2.06 2.06-.94-2.06-.94-.94-2.06-.94 2.06-2.06.94zm-11 1L8.5 8.5l.94-2.06 2.06-.94-2.06-.94L8.5 2.5l-.94 2.06-2.06.94zm10 10l.94 2.06.94-2.06 2.06-.94-2.06-.94-.94-2.06-.94 2.06-2.06.94z\"/><path d=\"M17.41 7.96l-1.37-1.37c-.4-.4-.92-.59-1.43-.59-.52 0-1.04.2-1.43.59L10.3 9.45l-7.72 7.72c-.78.78-.78 2.05 0 2.83L4 21.41c.39.39.9.59 1.41.59.51 0 1.02-.2 1.41-.59l7.78-7.78 2.81-2.81c.8-.78.8-2.07 0-2.86zM5.41 20L4 18.59l7.72-7.72 1.47 1.35L5.41 20z\"/>\n",
              "  </svg>\n",
              "      </button>\n",
              "      \n",
              "  <style>\n",
              "    .colab-df-container {\n",
              "      display:flex;\n",
              "      flex-wrap:wrap;\n",
              "      gap: 12px;\n",
              "    }\n",
              "\n",
              "    .colab-df-convert {\n",
              "      background-color: #E8F0FE;\n",
              "      border: none;\n",
              "      border-radius: 50%;\n",
              "      cursor: pointer;\n",
              "      display: none;\n",
              "      fill: #1967D2;\n",
              "      height: 32px;\n",
              "      padding: 0 0 0 0;\n",
              "      width: 32px;\n",
              "    }\n",
              "\n",
              "    .colab-df-convert:hover {\n",
              "      background-color: #E2EBFA;\n",
              "      box-shadow: 0px 1px 2px rgba(60, 64, 67, 0.3), 0px 1px 3px 1px rgba(60, 64, 67, 0.15);\n",
              "      fill: #174EA6;\n",
              "    }\n",
              "\n",
              "    [theme=dark] .colab-df-convert {\n",
              "      background-color: #3B4455;\n",
              "      fill: #D2E3FC;\n",
              "    }\n",
              "\n",
              "    [theme=dark] .colab-df-convert:hover {\n",
              "      background-color: #434B5C;\n",
              "      box-shadow: 0px 1px 3px 1px rgba(0, 0, 0, 0.15);\n",
              "      filter: drop-shadow(0px 1px 2px rgba(0, 0, 0, 0.3));\n",
              "      fill: #FFFFFF;\n",
              "    }\n",
              "  </style>\n",
              "\n",
              "      <script>\n",
              "        const buttonEl =\n",
              "          document.querySelector('#df-e54dc80e-0532-4140-9b96-2e289b8848d0 button.colab-df-convert');\n",
              "        buttonEl.style.display =\n",
              "          google.colab.kernel.accessAllowed ? 'block' : 'none';\n",
              "\n",
              "        async function convertToInteractive(key) {\n",
              "          const element = document.querySelector('#df-e54dc80e-0532-4140-9b96-2e289b8848d0');\n",
              "          const dataTable =\n",
              "            await google.colab.kernel.invokeFunction('convertToInteractive',\n",
              "                                                     [key], {});\n",
              "          if (!dataTable) return;\n",
              "\n",
              "          const docLinkHtml = 'Like what you see? Visit the ' +\n",
              "            '<a target=\"_blank\" href=https://colab.research.google.com/notebooks/data_table.ipynb>data table notebook</a>'\n",
              "            + ' to learn more about interactive tables.';\n",
              "          element.innerHTML = '';\n",
              "          dataTable['output_type'] = 'display_data';\n",
              "          await google.colab.output.renderOutput(dataTable, element);\n",
              "          const docLink = document.createElement('div');\n",
              "          docLink.innerHTML = docLinkHtml;\n",
              "          element.appendChild(docLink);\n",
              "        }\n",
              "      </script>\n",
              "    </div>\n",
              "  </div>\n",
              "  "
            ]
          },
          "metadata": {},
          "execution_count": 14
        }
      ]
    },
    {
      "cell_type": "code",
      "metadata": {
        "colab": {
          "base_uri": "https://localhost:8080/"
        },
        "id": "XGZd0Sr8XlW6",
        "outputId": "5f4b71ea-d504-4926-e9fc-305fe2e2c8d5"
      },
      "source": [
        "np.random.seed = 15\n",
        "muestra = np.random.choice(range(len(df)), 5)\n",
        "for i in muestra:\n",
        "    print(\"\\nReview #\", i)\n",
        "    print(df.loc[i, 'Summary'])\n",
        "    print(df.loc[i,'Text'])    "
      ],
      "execution_count": null,
      "outputs": [
        {
          "output_type": "stream",
          "name": "stdout",
          "text": [
            "\n",
            "Review # 244521\n",
            "Great snack at a steep price\n",
            "As I become more health conscious, I continually look for snacks to satisfy my sweet and crunchy cravings. While on vacation in the US I found this in a store for much less than they are offering here, but if I want this I will have to pay the price. They taste great, not too sweet and the nuts are crunchy enough to satisfy me. 5 pieces are supposed to be about 170 calories, so I don't feel too guilty enjoying this.\n",
            "\n",
            "Review # 324431\n",
            "My moment of Zen\n",
            "I have always loved the flavor of peaches.  Maybe it's because there was a peach tree in my grandmother's back yard and the taste of peaches takes me back to the warm and cozy feelings of childhood memories.  Sipping this wonderfully peachy tea makes me think of simpler, less complicated times and let's me know that, at least for the moment, all is well.  The peach flavor is natural and true and the zing that's added by the hint of ginger compliments the peach flavor perfectly.  And it's calorie and caffeine free!  What more could you want?\n",
            "\n",
            "Review # 319171\n",
            "Best Dog Toy/Chewy/Snack EVER!!\n",
            "My dog has never been willing to play with toys, or chew on things he couldn't just eat (i.e. food items that he is given. That is, until we lucked out and found the Kong Busy Buddy (large). He loves the darn thing. His face lights up, his tail starts wagging, he opens his mouth wide, grabs his offered Busy Buddy, and goes to town. It's some work to get to the treats and he seems to enjoy working the bone as much as eating the treat. We have actually bought several of these - for two reasons - one for when we travel, and one home, one for vacation. It is expensive, I'll admit, but for the delight it brings him, I'd have to say it is well worth it. Don't expect it to last very long (not the treats - which are gone pretty fast regardless, but the Busy Bone itself - if your dog has a strong jaw, it will eventually start showing serious wear, and the bristle may start wearing off). You can control that by keeping an eye on your dog and removing the Busy Buddy when the treat is gone and he's just chewing on it, but frankly, I don't have the heart. I'm happy to let him have his way with his Busy Buddy, and replace it once in a while. Bet your dog loves it too!\n",
            "\n",
            "Review # 315501\n",
            "Just what we wanted\n",
            "I never write reviews.  Ever.  I had to write one for this product because I just ordered my second round we liked it so much! I read all the reviews prior to ordering, so I knew how the packaging would be.  Yes, it arrived all jumbled up in a box (tossed around, is more like it).  Didn't bother the coffee cups, so it didn't bother me.  Went through and noticed a few ciders which on the cooler days here I didn't end up minding at all.  Depending on how serious you are about your coffee, which we are, we enjoyed trying all the new brands and flavors.  It would become a joke to my husband and I as we'd text each other throughout the day to tell the other if we liked our kind for that day.  We'd race to get the last one if there were more than one!  Yes, there are a few repeats, but we liked that.  We felt the variety was very pleasing and it didn't bother us that we had three or four of one kind.  We're not fans of certain ones, but we'll drink them just because it's fun.  I think for the amount you're paying for this many k cups, you can't beat it!  Enjoy, know you'll get some ciders tossed in possibly and some doubles (triples even) of this mix.  I'll let you know what comes in my next \"variety\" pack!\n",
            "\n",
            "Review # 265877\n",
            "Superb!!!!\n",
            "I've been purchasing loose tea from the local shops, but they never carried any breakfast varieties. So I began checking out decaf teas while browsing Amazon.com, and came across this fabulous breakfast tea! Even as writing this review, I'm enjoying a steaming cup of T of H's breakfast tea(with milk and sugar). As someone mentioned in this forum, it really does stand up to milk and sugsr!. I wish T of H had the decaf Irish and Scottish breakfast teas; I would be first in line to buy a case each! Thanks, T of H!!!!\n"
          ]
        }
      ]
    },
    {
      "cell_type": "markdown",
      "metadata": {
        "id": "R_d912qROTu8"
      },
      "source": [
        "## Preprocesamiento de texto\n",
        "- convertir a minuscualas\n",
        "- expandir contracciones\n",
        "- eliminar puntuación\n"
      ]
    },
    {
      "cell_type": "code",
      "metadata": {
        "colab": {
          "base_uri": "https://localhost:8080/"
        },
        "id": "asQVDjYcikM6",
        "outputId": "1d441321-76c1-4c8f-f42e-2375b388a5d9"
      },
      "source": [
        "%%time\n",
        "for col in df.columns:\n",
        "  df[col] = df[col].apply(preprocesar)\n"
      ],
      "execution_count": null,
      "outputs": [
        {
          "output_type": "stream",
          "name": "stdout",
          "text": [
            "CPU times: user 24.9 s, sys: 134 ms, total: 25.1 s\n",
            "Wall time: 27.8 s\n"
          ]
        }
      ]
    },
    {
      "cell_type": "code",
      "source": [
        "df"
      ],
      "metadata": {
        "colab": {
          "base_uri": "https://localhost:8080/",
          "height": 424
        },
        "id": "vo3IXgC0dZXG",
        "outputId": "246ea96b-d525-4295-f102-96eb0c01b738"
      },
      "execution_count": null,
      "outputs": [
        {
          "output_type": "execute_result",
          "data": {
            "text/plain": [
              "                                                  Summary  \\\n",
              "0                                   good quality dog food   \n",
              "1                                       not as advertised   \n",
              "2                                     delight says it all   \n",
              "3                                          cough medicine   \n",
              "4                                             great taffy   \n",
              "...                                                   ...   \n",
              "353875                   best tasting of any peanutbutter   \n",
              "353876  though i eat the unsalted variety 120 mg of sa...   \n",
              "353877                                    lower the price   \n",
              "353878                     smuckers natural peanut butter   \n",
              "353879   how to stir the best peanut butter on the market   \n",
              "\n",
              "                                                     Text  \n",
              "0       i have bought several of the vitality canned d...  \n",
              "1       product arrived labeled as jumbo salted peanut...  \n",
              "2       this is a confection that has been around a fe...  \n",
              "3       if you are looking for the secret ingredient i...  \n",
              "4       great taffy at a great price there was a wide ...  \n",
              "...                                                   ...  \n",
              "353875  we have used smucker s natural sometimes organ...  \n",
              "353876  contents peanuts 120 mg salt still 100 natural...  \n",
              "353877  i can only eat sugar free pb and if amazon low...  \n",
              "353878  beware this is a 16oz jar not 26 oz jar a jar ...  \n",
              "353879  this is by far the best peanut butter i have e...  \n",
              "\n",
              "[353877 rows x 2 columns]"
            ],
            "text/html": [
              "\n",
              "  <div id=\"df-9309c826-7347-4fd0-8432-3d1c35eb1e86\">\n",
              "    <div class=\"colab-df-container\">\n",
              "      <div>\n",
              "<style scoped>\n",
              "    .dataframe tbody tr th:only-of-type {\n",
              "        vertical-align: middle;\n",
              "    }\n",
              "\n",
              "    .dataframe tbody tr th {\n",
              "        vertical-align: top;\n",
              "    }\n",
              "\n",
              "    .dataframe thead th {\n",
              "        text-align: right;\n",
              "    }\n",
              "</style>\n",
              "<table border=\"1\" class=\"dataframe\">\n",
              "  <thead>\n",
              "    <tr style=\"text-align: right;\">\n",
              "      <th></th>\n",
              "      <th>Summary</th>\n",
              "      <th>Text</th>\n",
              "    </tr>\n",
              "  </thead>\n",
              "  <tbody>\n",
              "    <tr>\n",
              "      <th>0</th>\n",
              "      <td>good quality dog food</td>\n",
              "      <td>i have bought several of the vitality canned d...</td>\n",
              "    </tr>\n",
              "    <tr>\n",
              "      <th>1</th>\n",
              "      <td>not as advertised</td>\n",
              "      <td>product arrived labeled as jumbo salted peanut...</td>\n",
              "    </tr>\n",
              "    <tr>\n",
              "      <th>2</th>\n",
              "      <td>delight says it all</td>\n",
              "      <td>this is a confection that has been around a fe...</td>\n",
              "    </tr>\n",
              "    <tr>\n",
              "      <th>3</th>\n",
              "      <td>cough medicine</td>\n",
              "      <td>if you are looking for the secret ingredient i...</td>\n",
              "    </tr>\n",
              "    <tr>\n",
              "      <th>4</th>\n",
              "      <td>great taffy</td>\n",
              "      <td>great taffy at a great price there was a wide ...</td>\n",
              "    </tr>\n",
              "    <tr>\n",
              "      <th>...</th>\n",
              "      <td>...</td>\n",
              "      <td>...</td>\n",
              "    </tr>\n",
              "    <tr>\n",
              "      <th>353875</th>\n",
              "      <td>best tasting of any peanutbutter</td>\n",
              "      <td>we have used smucker s natural sometimes organ...</td>\n",
              "    </tr>\n",
              "    <tr>\n",
              "      <th>353876</th>\n",
              "      <td>though i eat the unsalted variety 120 mg of sa...</td>\n",
              "      <td>contents peanuts 120 mg salt still 100 natural...</td>\n",
              "    </tr>\n",
              "    <tr>\n",
              "      <th>353877</th>\n",
              "      <td>lower the price</td>\n",
              "      <td>i can only eat sugar free pb and if amazon low...</td>\n",
              "    </tr>\n",
              "    <tr>\n",
              "      <th>353878</th>\n",
              "      <td>smuckers natural peanut butter</td>\n",
              "      <td>beware this is a 16oz jar not 26 oz jar a jar ...</td>\n",
              "    </tr>\n",
              "    <tr>\n",
              "      <th>353879</th>\n",
              "      <td>how to stir the best peanut butter on the market</td>\n",
              "      <td>this is by far the best peanut butter i have e...</td>\n",
              "    </tr>\n",
              "  </tbody>\n",
              "</table>\n",
              "<p>353877 rows × 2 columns</p>\n",
              "</div>\n",
              "      <button class=\"colab-df-convert\" onclick=\"convertToInteractive('df-9309c826-7347-4fd0-8432-3d1c35eb1e86')\"\n",
              "              title=\"Convert this dataframe to an interactive table.\"\n",
              "              style=\"display:none;\">\n",
              "        \n",
              "  <svg xmlns=\"http://www.w3.org/2000/svg\" height=\"24px\"viewBox=\"0 0 24 24\"\n",
              "       width=\"24px\">\n",
              "    <path d=\"M0 0h24v24H0V0z\" fill=\"none\"/>\n",
              "    <path d=\"M18.56 5.44l.94 2.06.94-2.06 2.06-.94-2.06-.94-.94-2.06-.94 2.06-2.06.94zm-11 1L8.5 8.5l.94-2.06 2.06-.94-2.06-.94L8.5 2.5l-.94 2.06-2.06.94zm10 10l.94 2.06.94-2.06 2.06-.94-2.06-.94-.94-2.06-.94 2.06-2.06.94z\"/><path d=\"M17.41 7.96l-1.37-1.37c-.4-.4-.92-.59-1.43-.59-.52 0-1.04.2-1.43.59L10.3 9.45l-7.72 7.72c-.78.78-.78 2.05 0 2.83L4 21.41c.39.39.9.59 1.41.59.51 0 1.02-.2 1.41-.59l7.78-7.78 2.81-2.81c.8-.78.8-2.07 0-2.86zM5.41 20L4 18.59l7.72-7.72 1.47 1.35L5.41 20z\"/>\n",
              "  </svg>\n",
              "      </button>\n",
              "      \n",
              "  <style>\n",
              "    .colab-df-container {\n",
              "      display:flex;\n",
              "      flex-wrap:wrap;\n",
              "      gap: 12px;\n",
              "    }\n",
              "\n",
              "    .colab-df-convert {\n",
              "      background-color: #E8F0FE;\n",
              "      border: none;\n",
              "      border-radius: 50%;\n",
              "      cursor: pointer;\n",
              "      display: none;\n",
              "      fill: #1967D2;\n",
              "      height: 32px;\n",
              "      padding: 0 0 0 0;\n",
              "      width: 32px;\n",
              "    }\n",
              "\n",
              "    .colab-df-convert:hover {\n",
              "      background-color: #E2EBFA;\n",
              "      box-shadow: 0px 1px 2px rgba(60, 64, 67, 0.3), 0px 1px 3px 1px rgba(60, 64, 67, 0.15);\n",
              "      fill: #174EA6;\n",
              "    }\n",
              "\n",
              "    [theme=dark] .colab-df-convert {\n",
              "      background-color: #3B4455;\n",
              "      fill: #D2E3FC;\n",
              "    }\n",
              "\n",
              "    [theme=dark] .colab-df-convert:hover {\n",
              "      background-color: #434B5C;\n",
              "      box-shadow: 0px 1px 3px 1px rgba(0, 0, 0, 0.15);\n",
              "      filter: drop-shadow(0px 1px 2px rgba(0, 0, 0, 0.3));\n",
              "      fill: #FFFFFF;\n",
              "    }\n",
              "  </style>\n",
              "\n",
              "      <script>\n",
              "        const buttonEl =\n",
              "          document.querySelector('#df-9309c826-7347-4fd0-8432-3d1c35eb1e86 button.colab-df-convert');\n",
              "        buttonEl.style.display =\n",
              "          google.colab.kernel.accessAllowed ? 'block' : 'none';\n",
              "\n",
              "        async function convertToInteractive(key) {\n",
              "          const element = document.querySelector('#df-9309c826-7347-4fd0-8432-3d1c35eb1e86');\n",
              "          const dataTable =\n",
              "            await google.colab.kernel.invokeFunction('convertToInteractive',\n",
              "                                                     [key], {});\n",
              "          if (!dataTable) return;\n",
              "\n",
              "          const docLinkHtml = 'Like what you see? Visit the ' +\n",
              "            '<a target=\"_blank\" href=https://colab.research.google.com/notebooks/data_table.ipynb>data table notebook</a>'\n",
              "            + ' to learn more about interactive tables.';\n",
              "          element.innerHTML = '';\n",
              "          dataTable['output_type'] = 'display_data';\n",
              "          await google.colab.output.renderOutput(dataTable, element);\n",
              "          const docLink = document.createElement('div');\n",
              "          docLink.innerHTML = docLinkHtml;\n",
              "          element.appendChild(docLink);\n",
              "        }\n",
              "      </script>\n",
              "    </div>\n",
              "  </div>\n",
              "  "
            ]
          },
          "metadata": {},
          "execution_count": 17
        }
      ]
    },
    {
      "cell_type": "markdown",
      "metadata": {
        "id": "XQ4UbOAKBGGy"
      },
      "source": [
        "## Agregar token que identifique el inicio y el final de la secuencia objetivo (resúmenes)."
      ]
    },
    {
      "cell_type": "code",
      "metadata": {
        "id": "J3vtPCtftfA-"
      },
      "source": [
        "df['Summary'] = df['Summary'].apply(lambda x : 'tokenstart '+ x + ' tokenend')  #Identificador de comienzo y término"
      ],
      "execution_count": null,
      "outputs": []
    },
    {
      "cell_type": "code",
      "metadata": {
        "colab": {
          "base_uri": "https://localhost:8080/"
        },
        "id": "2yaLN1douN-8",
        "outputId": "ce509321-8901-40d6-ff01-5d9f360c8479"
      },
      "source": [
        "np.random.seed = 15\n",
        "muestra = np.random.choice(range(len(df)), 5)\n",
        "for i in muestra:\n",
        "    print(\"\\nReview #\", i)\n",
        "    print(df.loc[i, 'Summary'])\n",
        "    print(df.loc[i,'Text'])    "
      ],
      "execution_count": null,
      "outputs": [
        {
          "output_type": "stream",
          "name": "stdout",
          "text": [
            "\n",
            "Review # 268242\n",
            "tokenstart great taste  tokenend\n",
            "great strong tasting gum but does not last long but is still worth it especially if your not allowed to have regular sf gum the cinnamon taste is very great \n",
            "\n",
            "Review # 223799\n",
            "tokenstart freshness of gg bran crispbread tokenend\n",
            "i thought these packages of gg bran crispbread were not as fresh as i have had in the past i ordered out of toronto the last couple of times but wanted to order from within the usa and did so this time but feel a little disappointed i am eating them but find i need to let the topping soak into them to soften them a little more but they are still tasty do not think i feel they are not eatable because they are they just seem to be a little hard \n",
            "\n",
            "Review # 147934\n",
            "tokenstart chocolatey fudgy chewy goodness tokenend\n",
            "these cookies were a huge hit in our house i normally avoid fudge filled or coated cookies because i find them too sweet these new chips ahoy gooey megafudge cookies are so good i could not resist they are very sweet but it is that lucious need to have another one who cares about that diet sweetness these are soft and not in the least bit crunchy and they have what i think are white chocolate slivers in them along with a layer of fudge inside we will totally look for these at the grocery store in the future \n",
            "\n",
            "Review # 166214\n",
            "tokenstart great product tokenend\n",
            "this is a great product crispy tasty and all natural the whole family enjoys it as a snack i much prefer this product to other less healthy snack foods \n",
            "\n",
            "Review # 226265\n",
            "tokenstart disappointing and unpalatable tokenend\n",
            "i do not think i have a particularly sensitive palate but this was truly undrinkable i could not detect any flavors of pumpkin cinnamon or nutmeg instead it had a strong plastic and metallic taste with a clove overlay i like some of their other sugar free syrups but the pumpkin pie one was noxious try to taste a sample before you order a huge bottle \n"
          ]
        }
      ]
    },
    {
      "cell_type": "markdown",
      "metadata": {
        "id": "quUr2-1Ol3-x"
      },
      "source": [
        "## Fijar longitud máxima de palabras en textos y resumenes"
      ]
    },
    {
      "cell_type": "code",
      "metadata": {
        "colab": {
          "base_uri": "https://localhost:8080/",
          "height": 316
        },
        "id": "WNnMhSzejxiE",
        "outputId": "33a06a5c-ff75-48e0-c8cc-6bf7a249a7ff"
      },
      "source": [
        "# ¿Cuantas palabras tienen cada texto?\n",
        "palabras_reseña = df['Text'].apply(lambda x: len(str(x).split()))\n",
        "\n",
        "hist = palabras_reseña.hist(bins=50)\n",
        "hist.set_xlabel(\"número de palabras\")\n",
        "hist.set_ylabel(\"textos\")\n",
        "plt.show()\n",
        "\n",
        "print('\\nEl 90% de los textos tiene {:,.0f} palabras'.format(palabras_reseña.quantile(0.90)))"
      ],
      "execution_count": null,
      "outputs": [
        {
          "output_type": "display_data",
          "data": {
            "text/plain": [
              "<Figure size 432x288 with 1 Axes>"
            ],
            "image/png": "[encoded data removed]"
          },
          "metadata": {
            "needs_background": "light"
          }
        },
        {
          "output_type": "stream",
          "name": "stdout",
          "text": [
            "\n",
            "El 90% de los textos tiene 164 palabras\n"
          ]
        }
      ]
    },
    {
      "cell_type": "code",
      "metadata": {
        "colab": {
          "base_uri": "https://localhost:8080/",
          "height": 316
        },
        "id": "3iM2PsLhoe5C",
        "outputId": "fff5d361-1236-441c-cb79-94d54ef597fd"
      },
      "source": [
        "# ¿Cuantas palabras tienen cada titulo?\n",
        "palabras_resumen = df['Summary'].apply(lambda x: len(str(x).split()))\n",
        "\n",
        "hist = palabras_resumen.hist(bins=50)\n",
        "hist.set_xlabel(\"número de palabras\")\n",
        "hist.set_ylabel(\"Resumenes\")\n",
        "plt.show()\n",
        "\n",
        "print('\\nEl 97.5% de los resumenes tiene {:,.0f} palabras'.format(palabras_resumen.quantile(0.975)))"
      ],
      "execution_count": null,
      "outputs": [
        {
          "output_type": "display_data",
          "data": {
            "text/plain": [
              "<Figure size 432x288 with 1 Axes>"
            ],
            "image/png": "[encoded data removed]"
          },
          "metadata": {
            "needs_background": "light"
          }
        },
        {
          "output_type": "stream",
          "name": "stdout",
          "text": [
            "\n",
            "El 97.5% de los resumenes tiene 13 palabras\n"
          ]
        }
      ]
    },
    {
      "cell_type": "code",
      "metadata": {
        "id": "-QbPg7zbkHfT"
      },
      "source": [
        "longitud_max_reseña = palabras_reseña.quantile(0.90)     #164 palabras    168\n",
        "longitud_max_resumen = palabras_resumen.quantile(0.975)  # 13 palabras"
      ],
      "execution_count": null,
      "outputs": []
    },
    {
      "cell_type": "code",
      "source": [
        "longitud_max_reseña, longitud_max_resumen"
      ],
      "metadata": {
        "colab": {
          "base_uri": "https://localhost:8080/"
        },
        "id": "B32GduTudtoj",
        "outputId": "1541cdaa-4c0b-49df-bde9-7d61ae0deae1"
      },
      "execution_count": null,
      "outputs": [
        {
          "output_type": "execute_result",
          "data": {
            "text/plain": [
              "(164.0, 13.0)"
            ]
          },
          "metadata": {},
          "execution_count": 23
        }
      ]
    },
    {
      "cell_type": "code",
      "metadata": {
        "colab": {
          "base_uri": "https://localhost:8080/"
        },
        "id": "mXKeQr5-PzPP",
        "outputId": "7c0f9003-1332-4cf2-dc4c-4507382e4d19"
      },
      "source": [
        "datos =  df[(palabras_reseña <= longitud_max_reseña ) & (palabras_resumen <= longitud_max_resumen)]\n",
        "datos.shape   "
      ],
      "execution_count": null,
      "outputs": [
        {
          "output_type": "execute_result",
          "data": {
            "text/plain": [
              "(314849, 2)"
            ]
          },
          "metadata": {},
          "execution_count": 25
        }
      ]
    },
    {
      "cell_type": "markdown",
      "metadata": {
        "id": "Qx7zdNh2YD19"
      },
      "source": [
        "# Dividir datos en conjunto de entrenamiento y prueba"
      ]
    },
    {
      "cell_type": "code",
      "metadata": {
        "colab": {
          "base_uri": "https://localhost:8080/"
        },
        "id": "z5-GTS7gkSUk",
        "outputId": "c541bd78-00b1-45bb-bc88-a9c3a08c1f7b"
      },
      "source": [
        "x_train, x_test, y_train, y_test = train_test_split(datos['Text'], \n",
        "                                                    datos['Summary'], \n",
        "                                                    test_size=0.1, \n",
        "                                                    shuffle=True, \n",
        "                                                    random_state=0)\n",
        "print('{} reseñas en el conjunto de entrenamiento\\n{} reseñas en el conjunto de prueba'.format(len(x_train), len(x_test)))"
      ],
      "execution_count": null,
      "outputs": [
        {
          "output_type": "stream",
          "name": "stdout",
          "text": [
            "283364 reseñas en el conjunto de entrenamiento\n",
            "31485 reseñas en el conjunto de prueba\n"
          ]
        }
      ]
    },
    {
      "cell_type": "markdown",
      "metadata": {
        "id": "f9RvC_SaC3XH"
      },
      "source": [
        "# Preparar las secuencias para ingresar al modelo\n",
        "\n",
        "[Referencia](https://keras.io/examples/nlp/pretrained_word_embeddings/):\n"
      ]
    },
    {
      "cell_type": "markdown",
      "metadata": {
        "id": "B1P134bNMpRM"
      },
      "source": [
        "### 1)  Identificar cada palabra con un valor numérico"
      ]
    },
    {
      "cell_type": "code",
      "metadata": {
        "colab": {
          "base_uri": "https://localhost:8080/"
        },
        "id": "e8jX1Lskkl_F",
        "outputId": "4362ae3a-fa75-4d9b-d28a-ed66d8480894"
      },
      "source": [
        "%%time\n",
        "vectorizer_reseña = Vectorizer(x_train)\n",
        "\n",
        "# Diccionarios de la secuencia de entrada\n",
        "voc_reseña = vectorizer_reseña.get_vocabulary()  # lista con el vocabulario\n",
        "palabras_indices_reseña = dict(zip(voc_reseña, range(len(voc_reseña))))\n",
        "indices_palabras_reseña = dict(map(reversed, palabras_indices_reseña.items()))"
      ],
      "execution_count": null,
      "outputs": [
        {
          "output_type": "stream",
          "name": "stdout",
          "text": [
            "CPU times: user 8.35 s, sys: 1.41 s, total: 9.76 s\n",
            "Wall time: 10.5 s\n"
          ]
        }
      ]
    },
    {
      "cell_type": "code",
      "metadata": {
        "id": "Yvx7jSyhptEt"
      },
      "source": [
        "palabras_indices_reseña.keys()"
      ],
      "execution_count": null,
      "outputs": []
    },
    {
      "cell_type": "markdown",
      "metadata": {
        "id": "0HGGaoQzsrT-"
      },
      "source": [
        "[UNK] es un token especial que se usara cuando se encuentren palabras que no están en el vocabulario."
      ]
    },
    {
      "cell_type": "code",
      "metadata": {
        "id": "rtpCaHdro41w"
      },
      "source": [
        "vectorizer_resumen = Vectorizer(y_train)\n",
        "# Diccionarios de la secuencia de entrada\n",
        "voc_resumen = vectorizer_resumen.get_vocabulary()  # lista con el vocabulario\n",
        "palabras_indices_resumen = dict(zip(voc_resumen, range(len(voc_resumen))))\n",
        "indices_palabras_resumen = dict(map(reversed, palabras_indices_resumen.items()))\n"
      ],
      "execution_count": null,
      "outputs": []
    },
    {
      "cell_type": "code",
      "metadata": {
        "colab": {
          "base_uri": "https://localhost:8080/"
        },
        "id": "BUVuL0FZDpqK",
        "outputId": "0e2f23b9-abed-4f39-f927-6309ac022a8c"
      },
      "source": [
        "ejemplos = x_train.iloc[:2]\n",
        "for ej in ejemplos:\n",
        "  print(len(ej.split()))\n",
        "  print(ej)"
      ],
      "execution_count": null,
      "outputs": [
        {
          "output_type": "stream",
          "name": "stdout",
          "text": [
            "16\n",
            "my husband s favorite biscuit cookie with tea plain but tasty hard to find in america \n",
            "44\n",
            "i received this coffee as a bunco prize i love coffee but tend to dislike flavored coffee due to the strange aftertaste so many leave behind this coffee had great flavor and no aftertaste i definitely recommend it i am searching for more now \n"
          ]
        }
      ]
    },
    {
      "cell_type": "code",
      "metadata": {
        "colab": {
          "base_uri": "https://localhost:8080/"
        },
        "id": "j5nf-i4VDpqM",
        "outputId": "57acb239-b620-4d73-c757-432103b7ba86"
      },
      "source": [
        "ejemplos_vec = ejemplos.apply(vectorizer_reseña)\n",
        "for ej in ejemplos_vec:\n",
        "  print(len(ej))\n",
        "  print(ej)"
      ],
      "execution_count": null,
      "outputs": [
        {
          "output_type": "stream",
          "name": "stdout",
          "text": [
            "16\n",
            "tf.Tensor(\n",
            "[  14  312   61  135 2479  485   20   50  526   17  199  185    7   79\n",
            "   13 2340], shape=(16,), dtype=int64)\n",
            "44\n",
            "tf.Tensor(\n",
            "[   3  280    9   42   23    5    1 6590    3   48   42   17 1194    7\n",
            " 2787  341   42  710    7    2 1365  572   26  146  716 2269    9   42\n",
            "   54   30   41    4   62  572    3  205  129    6    3   46 1351   12\n",
            "   55   97], shape=(44,), dtype=int64)\n"
          ]
        }
      ]
    },
    {
      "cell_type": "code",
      "metadata": {
        "id": "llR1V0qmcP8O",
        "colab": {
          "base_uri": "https://localhost:8080/"
        },
        "outputId": "57d6bfa3-ad80-42a2-fc17-9a908fec9ce5"
      },
      "source": [
        "%%time\n",
        "x_train_vec = x_train.apply(vectorizer_reseña)\n",
        "x_test_vec = x_test.apply(vectorizer_reseña)\n",
        "\n",
        "y_train_vec = y_train.apply(vectorizer_resumen)\n",
        "y_test_vec = y_test.apply(vectorizer_resumen)"
      ],
      "execution_count": null,
      "outputs": [
        {
          "output_type": "stream",
          "name": "stdout",
          "text": [
            "CPU times: user 1h 2min 34s, sys: 5min 11s, total: 1h 7min 46s\n",
            "Wall time: 1h 3s\n"
          ]
        }
      ]
    },
    {
      "cell_type": "markdown",
      "metadata": {
        "id": "kbfHIS7mZl78"
      },
      "source": [
        "## 2) Rellenar cada secuencia hasta alcanzar la longitud máxima"
      ]
    },
    {
      "cell_type": "code",
      "metadata": {
        "colab": {
          "base_uri": "https://localhost:8080/"
        },
        "id": "oOrxYFsVth9N",
        "outputId": "cf3e25bc-66c9-4de2-ba7e-a744898b5a39"
      },
      "source": [
        "# https://www.tensorflow.org/api_docs/python/tf/keras/preprocessing/sequence/pad_sequences\n",
        "\n",
        "ejemplos_seq =  pad_sequences(ejemplos_vec, maxlen = int(longitud_max_reseña), padding='post')\n",
        "for ej in ejemplos_seq:\n",
        "  print(len(ej))\n",
        "  print(ej)"
      ],
      "execution_count": null,
      "outputs": [
        {
          "output_type": "stream",
          "name": "stdout",
          "text": [
            "164\n",
            "[  14  312   61  135 2479  485   20   50  526   17  199  185    7   79\n",
            "   13 2340    0    0    0    0    0    0    0    0    0    0    0    0\n",
            "    0    0    0    0    0    0    0    0    0    0    0    0    0    0\n",
            "    0    0    0    0    0    0    0    0    0    0    0    0    0    0\n",
            "    0    0    0    0    0    0    0    0    0    0    0    0    0    0\n",
            "    0    0    0    0    0    0    0    0    0    0    0    0    0    0\n",
            "    0    0    0    0    0    0    0    0    0    0    0    0    0    0\n",
            "    0    0    0    0    0    0    0    0    0    0    0    0    0    0\n",
            "    0    0    0    0    0    0    0    0    0    0    0    0    0    0\n",
            "    0    0    0    0    0    0    0    0    0    0    0    0    0    0\n",
            "    0    0    0    0    0    0    0    0    0    0    0    0    0    0\n",
            "    0    0    0    0    0    0    0    0    0    0]\n",
            "164\n",
            "[   3  280    9   42   23    5    1 6590    3   48   42   17 1194    7\n",
            " 2787  341   42  710    7    2 1365  572   26  146  716 2269    9   42\n",
            "   54   30   41    4   62  572    3  205  129    6    3   46 1351   12\n",
            "   55   97    0    0    0    0    0    0    0    0    0    0    0    0\n",
            "    0    0    0    0    0    0    0    0    0    0    0    0    0    0\n",
            "    0    0    0    0    0    0    0    0    0    0    0    0    0    0\n",
            "    0    0    0    0    0    0    0    0    0    0    0    0    0    0\n",
            "    0    0    0    0    0    0    0    0    0    0    0    0    0    0\n",
            "    0    0    0    0    0    0    0    0    0    0    0    0    0    0\n",
            "    0    0    0    0    0    0    0    0    0    0    0    0    0    0\n",
            "    0    0    0    0    0    0    0    0    0    0    0    0    0    0\n",
            "    0    0    0    0    0    0    0    0    0    0]\n"
          ]
        }
      ]
    },
    {
      "cell_type": "code",
      "metadata": {
        "id": "kZRF60TD6i2D",
        "colab": {
          "base_uri": "https://localhost:8080/"
        },
        "outputId": "009a538a-6a46-4e51-a8d3-d2efe1586aa1"
      },
      "source": [
        "%%time\n",
        "\n",
        "x_train_seq  =  pad_sequences(x_train_vec, maxlen = int(longitud_max_reseña), padding='post') \n",
        "x_test_seq  =  pad_sequences(x_test_vec, maxlen = int(longitud_max_reseña), padding='post') \n",
        "\n",
        "y_train_seq  =  pad_sequences(y_train_vec, maxlen = int(longitud_max_resumen) , padding='post') \n",
        "y_test_seq  =  pad_sequences(y_test_vec, maxlen = int(longitud_max_resumen) , padding='post') "
      ],
      "execution_count": null,
      "outputs": [
        {
          "output_type": "stream",
          "name": "stdout",
          "text": [
            "CPU times: user 3min 54s, sys: 13.4 s, total: 4min 7s\n",
            "Wall time: 3min 43s\n"
          ]
        }
      ]
    },
    {
      "cell_type": "markdown",
      "metadata": {
        "id": "FEn8JE8XSXUp"
      },
      "source": [
        "## 3) Obtener la matriz de vectores para todas las palabras del vocabulario "
      ]
    },
    {
      "cell_type": "code",
      "metadata": {
        "colab": {
          "base_uri": "https://localhost:8080/"
        },
        "id": "RufwHJoXxLLc",
        "outputId": "c5925259-daa4-4391-9225-1132e1958016"
      },
      "source": [
        "embedding_matrix_reseña = vectores_palabras(palabras_indices_reseña, dic_embeddings_word2vec , 300)\n",
        "embedding_matrix_reseña.shape"
      ],
      "execution_count": null,
      "outputs": [
        {
          "output_type": "stream",
          "name": "stdout",
          "text": [
            "17825 palabras vectorizadas, que representan 89.1% de todas las palabras en el corpus\n"
          ]
        },
        {
          "output_type": "execute_result",
          "data": {
            "text/plain": [
              "(20000, 300)"
            ]
          },
          "metadata": {},
          "execution_count": 37
        }
      ]
    },
    {
      "cell_type": "code",
      "source": [
        "embedding_matrix_reseña"
      ],
      "metadata": {
        "colab": {
          "base_uri": "https://localhost:8080/"
        },
        "id": "Eev_QAvX5gI-",
        "outputId": "0a4f8c0e-4d97-4952-978e-3ce3d1d06655"
      },
      "execution_count": null,
      "outputs": [
        {
          "output_type": "execute_result",
          "data": {
            "text/plain": [
              "array([[ 0.        ,  0.        ,  0.        , ...,  0.        ,\n",
              "         0.        ,  0.        ],\n",
              "       [ 0.        ,  0.        ,  0.        , ...,  0.        ,\n",
              "         0.        ,  0.        ],\n",
              "       [ 0.08007812,  0.10498047,  0.04980469, ...,  0.00366211,\n",
              "         0.04760742, -0.06884766],\n",
              "       ...,\n",
              "       [ 0.18359375,  0.33203125,  0.00485229, ..., -0.44140625,\n",
              "         0.12011719, -0.04492188],\n",
              "       [ 0.        ,  0.        ,  0.        , ...,  0.        ,\n",
              "         0.        ,  0.        ],\n",
              "       [ 0.08447266,  0.06494141, -0.23144531, ..., -0.04077148,\n",
              "        -0.11181641, -0.06542969]])"
            ]
          },
          "metadata": {},
          "execution_count": 43
        }
      ]
    },
    {
      "cell_type": "code",
      "metadata": {
        "colab": {
          "base_uri": "https://localhost:8080/"
        },
        "id": "u3GIiM6wGm-q",
        "outputId": "807ea147-f7c2-409f-c90d-50e7e6a25e08"
      },
      "source": [
        "embedding_matrix_resumen = vectores_palabras(palabras_indices_resumen, dic_embeddings_word2vec , 300)\n",
        "embedding_matrix_resumen.shape"
      ],
      "execution_count": null,
      "outputs": [
        {
          "output_type": "stream",
          "name": "stdout",
          "text": [
            "14580 palabras vectorizadas, que representan 72.9% de todas las palabras en el corpus\n"
          ]
        },
        {
          "output_type": "execute_result",
          "data": {
            "text/plain": [
              "(20000, 300)"
            ]
          },
          "metadata": {},
          "execution_count": 38
        }
      ]
    },
    {
      "cell_type": "markdown",
      "metadata": {
        "id": "-sJmXpwPH21m"
      },
      "source": [
        "## Guardamos en pickle los avances"
      ]
    },
    {
      "cell_type": "code",
      "metadata": {
        "id": "eGK-nmR1bTAs"
      },
      "source": [
        "import pickle\n",
        "path = '/content/drive/MyDrive/Colab Notebooks/Working Analyst/ML_AI_for_the_Working_Analyst/Semana11/'\n",
        "tuple_inputs = ((embedding_matrix_resumen, embedding_matrix_reseña),\n",
        "                (x_train_seq, x_test_seq,  y_train_seq, y_test_seq),\n",
        "                (palabras_indices_resumen, palabras_indices_reseña),\n",
        "                (indices_palabras_resumen, indices_palabras_reseña),\n",
        "                (longitud_max_resumen, longitud_max_reseña)\n",
        "                )\n",
        "pickle.dump(tuple_inputs, open (path + \"tuple_inputs_RNN_v2207_.pkl\", 'wb'))"
      ],
      "execution_count": null,
      "outputs": []
    },
    {
      "cell_type": "markdown",
      "metadata": {
        "id": "iljKCZRoJi18"
      },
      "source": [
        "# Leemos los datos guardados"
      ]
    },
    {
      "cell_type": "code",
      "metadata": {
        "id": "THbdvHNE_G10"
      },
      "source": [
        "import pickle\n",
        "path = '/content/drive/MyDrive/Colab Notebooks/Working Analyst/ML_AI_for_the_Working_Analyst/Semana11/'\n",
        "tuple_inputs = pickle.load(open(path + \"tuple_inputs_RNN_v2207_.pkl\", 'rb'))\n",
        "\n",
        "embedding_matrix_resumen, embedding_matrix_reseña = tuple_inputs[0]\n",
        "x_train_seq, x_test_seq,  y_train_seq, y_test_seq = tuple_inputs[1]\n",
        "palabras_indices_resumen, palabras_indices_reseña = tuple_inputs[2]\n",
        "indices_palabras_resumen, indices_palabras_reseña = tuple_inputs[3]\n",
        "longitud_max_resumen,     longitud_max_reseña     = tuple_inputs[4]\n"
      ],
      "execution_count": null,
      "outputs": []
    },
    {
      "cell_type": "markdown",
      "metadata": {
        "id": "_8bUIXWs9b7h"
      },
      "source": [
        "# Diseño del modelo\n",
        "\n",
        "* [referencia1](https://www.analyticsvidhya.com/blog/2019/06/comprehensive-guide-text-summarization-using-deep-learning-python/)\n",
        "\n",
        "* [referencia2](https://humboldt-wi.github.io/blog/research/information_systems_1920/nlp_text_summarization_techniques/) "
      ]
    },
    {
      "cell_type": "markdown",
      "metadata": {
        "id": "EYBgdSGFKZHF"
      },
      "source": [
        "## ENCODER  y DECODER\n"
      ]
    },
    {
      "cell_type": "code",
      "metadata": {
        "id": "jPhmLT8RJ0xU"
      },
      "source": [
        "num_tokens_reseña = len(palabras_indices_reseña) \n",
        "num_tokens_resumen = len(palabras_indices_resumen)\n",
        "embedding_dim = 300"
      ],
      "execution_count": null,
      "outputs": []
    },
    {
      "cell_type": "code",
      "metadata": {
        "id": "A5NiVMSERiFz"
      },
      "source": [
        "K.clear_session() \n",
        "latent_dim = 320  # neuronas ocultas en cada LSTM en cada tiempo t.\n",
        "\n",
        "# ENCODER   ================================================================\n",
        "\n",
        "## EMBEDDING\n",
        "#recibe los indices que corresponden a las palabras de las reseñas y las \n",
        "#regresa con el vector correpondiente del embedding\n",
        "\n",
        "encoder_inputs = Input(shape = (int(longitud_max_reseña),))\n",
        "\n",
        "enc_emb_lay = Embedding(num_tokens_reseña, embedding_dim,\n",
        "                    embeddings_initializer=keras.initializers.Constant(embedding_matrix_reseña),\n",
        "                    trainable=False)\n",
        "enc_emb = enc_emb_lay(encoder_inputs)     \n",
        "\n",
        "#LSTM 1\n",
        "# procesa la secuencia de entrada y regresa otra secuencia que pasara a la\n",
        "# capa LSTM 2 \n",
        "encoder_lstm1 = LSTM(latent_dim, return_sequences=True, return_state=True)\n",
        "encoder_output1, state_h1, state_c1 = encoder_lstm1(enc_emb) \n",
        "\n",
        "\n",
        "# LSTM 2\n",
        "# procesa la secuencia de de salida de la capa LSTM anterior  y regresa otra \n",
        "# secuencia que pasara a la capa LSTM 3\n",
        "encoder_lstm2 = LSTM(latent_dim,return_sequences=True,return_state=True) \n",
        "encoder_output2, state_h2, state_c2 = encoder_lstm2(encoder_output1) \n",
        "\n",
        "#LSTM 3 \n",
        "# procesa la secuencia de de salida de la capa LSTM anterior  y regresa otra \n",
        "# secuencia que pasara al mecanismo de atención y los estados h y c inicializarán\n",
        "# el decodificador.\n",
        "\n",
        "encoder_lstm3 = LSTM(latent_dim, return_state=True, return_sequences=True) \n",
        "encoder_outputs, state_h, state_c = encoder_lstm3(encoder_output2) \n",
        "\n",
        "\n",
        "# DECODIFICADOR ================================================================\n",
        "\n",
        "decoder_inputs = Input(shape=(None,)) \n",
        "dec_emb_layer = Embedding(num_tokens_resumen, embedding_dim,\n",
        "                    embeddings_initializer=keras.initializers.Constant(embedding_matrix_resumen),\n",
        "                    trainable=False)\n",
        "dec_emb = dec_emb_layer(decoder_inputs)\n",
        "\n",
        "#LSTM \n",
        "decoder_lstm = LSTM(latent_dim, return_sequences=True, return_state=True) \n",
        "decoder_outputs,decoder_state_h, decoder_state_c = decoder_lstm(dec_emb,initial_state=[state_h, state_c]) \n",
        "\n",
        "\n"
      ],
      "execution_count": null,
      "outputs": []
    },
    {
      "cell_type": "markdown",
      "metadata": {
        "id": "YlovmzJyKs-q"
      },
      "source": [
        "## Mecanismo de atención"
      ]
    },
    {
      "cell_type": "markdown",
      "metadata": {
        "id": "c9Cb1OTpQMJe"
      },
      "source": [
        " [Fuente ](https://www.tensorflow.org/text/tutorials/nmt_with_attention)"
      ]
    },
    {
      "cell_type": "code",
      "metadata": {
        "id": "eYUA90QTQk48"
      },
      "source": [
        "class BahdanauAttention(tf.keras.layers.Layer):\n",
        "  def __init__(self, units):\n",
        "    super().__init__()\n",
        "    # For Eqn. (4), the  Bahdanau attention\n",
        "    self.W1 = tf.keras.layers.Dense(units, use_bias=False)\n",
        "    self.W2 = tf.keras.layers.Dense(units, use_bias=False)\n",
        "\n",
        "    self.attention = tf.keras.layers.Attention()\n",
        "\n",
        "  def call(self, query, value,\n",
        "          #  mask\n",
        "           ):\n",
        "    # shape_checker = ShapeChecker()\n",
        "    # shape_checker(query, ('batch', 't', 'query_units'))\n",
        "    # shape_checker(value, ('batch', 's', 'value_units'))\n",
        "    # shape_checker(mask, ('batch', 's'))\n",
        "\n",
        "    # From Eqn. (4), `W1@ht`.\n",
        "    w1_query = self.W1(query)\n",
        "    # shape_checker(w1_query, ('batch', 't', 'attn_units'))\n",
        "\n",
        "    # From Eqn. (4), `W2@hs`.\n",
        "    w2_key = self.W2(value)\n",
        "    # shape_checker(w2_key, ('batch', 's', 'attn_units'))\n",
        "\n",
        "    query_mask = tf.ones(tf.shape(query)[:-1], dtype=bool)\n",
        "    # value_mask = mask\n",
        "\n",
        "    context_vector, attention_weights = self.attention(\n",
        "        inputs = [w1_query, value, w2_key],\n",
        "        # mask=[query_mask, value_mask],\n",
        "        return_attention_scores = True,\n",
        "    )\n",
        "    # shape_checker(context_vector, ('batch', 't', 'value_units'))\n",
        "    # shape_checker(attention_weights, ('batch', 't', 's'))\n",
        "\n",
        "    return context_vector, attention_weights"
      ],
      "execution_count": null,
      "outputs": []
    },
    {
      "cell_type": "code",
      "metadata": {
        "id": "XfhwOqk-RnR0"
      },
      "source": [
        "attention = BahdanauAttention(latent_dim)"
      ],
      "execution_count": null,
      "outputs": []
    },
    {
      "cell_type": "code",
      "metadata": {
        "id": "boMycJdzR4Wf"
      },
      "source": [
        "context_vector, attention_weights = attention(decoder_outputs, encoder_outputs) # (query, value)"
      ],
      "execution_count": null,
      "outputs": []
    },
    {
      "cell_type": "code",
      "metadata": {
        "id": "QLz57L2BKzvB"
      },
      "source": [
        "# Unión del decoder con la capa de atención\n",
        "\n",
        "decoder_concat_input = Concatenate(axis=-1, name='concat_layer')([decoder_outputs, context_vector])\n",
        "\n",
        "# El Decoder calcula su salida mediante Softmax, que crea el vector de probabilidad \n",
        "# para determinar la secuencia final.\n",
        "\n",
        "decoder_dense = TimeDistributed(Dense(embedding_matrix_resumen.shape[0], activation='softmax')) \n",
        "decoder_outputs = decoder_dense(decoder_concat_input) "
      ],
      "execution_count": null,
      "outputs": []
    },
    {
      "cell_type": "markdown",
      "metadata": {
        "id": "8Njhdeeu9N-M"
      },
      "source": [
        "# Modelo de entrenamiento"
      ]
    },
    {
      "cell_type": "code",
      "metadata": {
        "id": "zlq-Fyo1weqK"
      },
      "source": [
        "# Modelo definitivo\n",
        "\n",
        "# Tupla con las entradas y las salidas\n",
        "model = Model([encoder_inputs, decoder_inputs], decoder_outputs) \n",
        "\n"
      ],
      "execution_count": null,
      "outputs": []
    },
    {
      "cell_type": "code",
      "metadata": {
        "id": "arpr0x1NUdxY",
        "colab": {
          "base_uri": "https://localhost:8080/",
          "height": 516
        },
        "outputId": "64870ff5-68c5-4b0d-d8d4-14764764c0c1"
      },
      "source": [
        "tf.keras.utils.plot_model( \n",
        "    model,\n",
        "    to_file=\"model.png\",\n",
        "    show_shapes=True,\n",
        "    show_dtype=False,\n",
        "    show_layer_names=True,\n",
        "    rankdir=\"TD\",\n",
        "    dpi=50,\n",
        ")"
      ],
      "execution_count": null,
      "outputs": [
        {
          "output_type": "execute_result",
          "data": {
            "image/png": "[encoded data removed]",
            "text/plain": [
              "<IPython.core.display.Image object>"
            ]
          },
          "metadata": {},
          "execution_count": 49
        }
      ]
    },
    {
      "cell_type": "code",
      "metadata": {
        "id": "YTP4aoB_Ve9o",
        "colab": {
          "base_uri": "https://localhost:8080/"
        },
        "outputId": "5e2dbd81-a3e2-47b5-be7d-090187c1502e"
      },
      "source": [
        "model.summary()"
      ],
      "execution_count": null,
      "outputs": [
        {
          "output_type": "stream",
          "name": "stdout",
          "text": [
            "Model: \"model\"\n",
            "__________________________________________________________________________________________________\n",
            " Layer (type)                   Output Shape         Param #     Connected to                     \n",
            "==================================================================================================\n",
            " input_1 (InputLayer)           [(None, 164)]        0           []                               \n",
            "                                                                                                  \n",
            " embedding (Embedding)          (None, 164, 300)     6000000     ['input_1[0][0]']                \n",
            "                                                                                                  \n",
            " lstm (LSTM)                    [(None, 164, 320),   794880      ['embedding[0][0]']              \n",
            "                                 (None, 320),                                                     \n",
            "                                 (None, 320)]                                                     \n",
            "                                                                                                  \n",
            " input_2 (InputLayer)           [(None, None)]       0           []                               \n",
            "                                                                                                  \n",
            " lstm_1 (LSTM)                  [(None, 164, 320),   820480      ['lstm[0][0]']                   \n",
            "                                 (None, 320),                                                     \n",
            "                                 (None, 320)]                                                     \n",
            "                                                                                                  \n",
            " embedding_1 (Embedding)        (None, None, 300)    6000000     ['input_2[0][0]']                \n",
            "                                                                                                  \n",
            " lstm_2 (LSTM)                  [(None, 164, 320),   820480      ['lstm_1[0][0]']                 \n",
            "                                 (None, 320),                                                     \n",
            "                                 (None, 320)]                                                     \n",
            "                                                                                                  \n",
            " lstm_3 (LSTM)                  [(None, None, 320),  794880      ['embedding_1[0][0]',            \n",
            "                                 (None, 320),                     'lstm_2[0][1]',                 \n",
            "                                 (None, 320)]                     'lstm_2[0][2]']                 \n",
            "                                                                                                  \n",
            " bahdanau_attention (BahdanauAt  ((None, None, 320),  204800     ['lstm_3[0][0]',                 \n",
            " tention)                        (None, None, 164))               'lstm_2[0][0]']                 \n",
            "                                                                                                  \n",
            " concat_layer (Concatenate)     (None, None, 640)    0           ['lstm_3[0][0]',                 \n",
            "                                                                  'bahdanau_attention[0][0]']     \n",
            "                                                                                                  \n",
            " time_distributed (TimeDistribu  (None, None, 20000)  12820000   ['concat_layer[0][0]']           \n",
            " ted)                                                                                             \n",
            "                                                                                                  \n",
            "==================================================================================================\n",
            "Total params: 28,255,520\n",
            "Trainable params: 16,255,520\n",
            "Non-trainable params: 12,000,000\n",
            "__________________________________________________________________________________________________\n"
          ]
        }
      ]
    },
    {
      "cell_type": "markdown",
      "source": [
        "## Compilación  del Modelo\n",
        "\n",
        "Es el paso final en la creación del modelo antes del entrenamiento.\n",
        "\n",
        "Requiere elegir una [**función de pérdida**](https://keras.io/api/losses/), que se usa para calcular el error en el proceso de aprendizaje, un algoritmo para [**optimizar**](https://keras.io/api/optimizers/) los pesos mediante la comparación de las predicciones y la función de pérdida elegida ([¿cómo escoger el optimizador?](https://machinelearningmastery.com/how-to-choose-loss-functions-when-training-deep-learning-neural-networks/)).\n",
        "\n"
      ],
      "metadata": {
        "id": "AWtuF_KUW8mw"
      }
    },
    {
      "cell_type": "code",
      "metadata": {
        "id": "RRXXWvW6bxas"
      },
      "source": [
        "model.compile(optimizer='rmsprop', \n",
        "              loss='sparse_categorical_crossentropy')"
      ],
      "execution_count": null,
      "outputs": []
    },
    {
      "cell_type": "markdown",
      "metadata": {
        "id": "KEjSxWU5bxAN"
      },
      "source": [
        "### Entrenamiento"
      ]
    },
    {
      "cell_type": "code",
      "metadata": {
        "id": "UZ98uuNMog69",
        "colab": {
          "base_uri": "https://localhost:8080/",
          "height": 541
        },
        "outputId": "97d9ba5e-0384-4f3c-d39d-b34eedb6a7aa"
      },
      "source": [
        "#%%time\n",
        "\n",
        "es = EarlyStopping(monitor='val_loss', mode='min', verbose=1) \n",
        "\n",
        "history = model.fit([x_train_seq, y_train_seq[:,:-1]], \n",
        "                    y_train_seq.reshape(y_train_seq.shape[0],\n",
        "                                        y_train_seq.shape[1], 1)[:,1:],\n",
        "                    epochs = 12,\n",
        "                    batch_size = 512, \n",
        "                    validation_data = ([x_test_seq,y_test_seq[:,:-1]], \n",
        "                                     y_test_seq.reshape(y_test_seq.shape[0],\n",
        "                                                        y_test_seq.shape[1],\n",
        "                                                        1)[:,1:]))\n"
      ],
      "execution_count": null,
      "outputs": [
        {
          "output_type": "stream",
          "name": "stdout",
          "text": [
            "Epoch 1/12\n",
            "554/554 [==============================] - 432s 760ms/step - loss: 2.2138 - val_loss: 1.9475\n",
            "Epoch 2/12\n",
            "554/554 [==============================] - 427s 771ms/step - loss: 1.9041 - val_loss: 1.8229\n",
            "Epoch 3/12\n",
            "554/554 [==============================] - 433s 782ms/step - loss: 1.7789 - val_loss: 1.7140\n",
            "Epoch 4/12\n",
            "125/554 [=====>........................] - ETA: 5:24 - loss: 1.6937"
          ]
        },
        {
          "output_type": "error",
          "ename": "KeyboardInterrupt",
          "evalue": "ignored",
          "traceback": [
            "\u001b[0;31m---------------------------------------------------------------------------\u001b[0m",
            "\u001b[0;31mKeyboardInterrupt\u001b[0m                         Traceback (most recent call last)",
            "\u001b[0;32m<ipython-input-52-e481989b0ab4>\u001b[0m in \u001b[0;36m<module>\u001b[0;34m\u001b[0m\n\u001b[1;32m      3\u001b[0m \u001b[0mes\u001b[0m \u001b[0;34m=\u001b[0m \u001b[0mEarlyStopping\u001b[0m\u001b[0;34m(\u001b[0m\u001b[0mmonitor\u001b[0m\u001b[0;34m=\u001b[0m\u001b[0;34m'val_loss'\u001b[0m\u001b[0;34m,\u001b[0m \u001b[0mmode\u001b[0m\u001b[0;34m=\u001b[0m\u001b[0;34m'min'\u001b[0m\u001b[0;34m,\u001b[0m \u001b[0mverbose\u001b[0m\u001b[0;34m=\u001b[0m\u001b[0;36m1\u001b[0m\u001b[0;34m)\u001b[0m\u001b[0;34m\u001b[0m\u001b[0;34m\u001b[0m\u001b[0m\n\u001b[1;32m      4\u001b[0m \u001b[0;34m\u001b[0m\u001b[0m\n\u001b[0;32m----> 5\u001b[0;31m history = model.fit([x_train_seq, y_train_seq[:,:-1]], \n\u001b[0m\u001b[1;32m      6\u001b[0m                     y_train_seq.reshape(y_train_seq.shape[0],\n\u001b[1;32m      7\u001b[0m                                         y_train_seq.shape[1], 1)[:,1:],\n",
            "\u001b[0;32m/usr/local/lib/python3.8/dist-packages/keras/utils/traceback_utils.py\u001b[0m in \u001b[0;36merror_handler\u001b[0;34m(*args, **kwargs)\u001b[0m\n\u001b[1;32m     62\u001b[0m     \u001b[0mfiltered_tb\u001b[0m \u001b[0;34m=\u001b[0m \u001b[0;32mNone\u001b[0m\u001b[0;34m\u001b[0m\u001b[0;34m\u001b[0m\u001b[0m\n\u001b[1;32m     63\u001b[0m     \u001b[0;32mtry\u001b[0m\u001b[0;34m:\u001b[0m\u001b[0;34m\u001b[0m\u001b[0;34m\u001b[0m\u001b[0m\n\u001b[0;32m---> 64\u001b[0;31m       \u001b[0;32mreturn\u001b[0m \u001b[0mfn\u001b[0m\u001b[0;34m(\u001b[0m\u001b[0;34m*\u001b[0m\u001b[0margs\u001b[0m\u001b[0;34m,\u001b[0m \u001b[0;34m**\u001b[0m\u001b[0mkwargs\u001b[0m\u001b[0;34m)\u001b[0m\u001b[0;34m\u001b[0m\u001b[0;34m\u001b[0m\u001b[0m\n\u001b[0m\u001b[1;32m     65\u001b[0m     \u001b[0;32mexcept\u001b[0m \u001b[0mException\u001b[0m \u001b[0;32mas\u001b[0m \u001b[0me\u001b[0m\u001b[0;34m:\u001b[0m  \u001b[0;31m# pylint: disable=broad-except\u001b[0m\u001b[0;34m\u001b[0m\u001b[0;34m\u001b[0m\u001b[0m\n\u001b[1;32m     66\u001b[0m       \u001b[0mfiltered_tb\u001b[0m \u001b[0;34m=\u001b[0m \u001b[0m_process_traceback_frames\u001b[0m\u001b[0;34m(\u001b[0m\u001b[0me\u001b[0m\u001b[0;34m.\u001b[0m\u001b[0m__traceback__\u001b[0m\u001b[0;34m)\u001b[0m\u001b[0;34m\u001b[0m\u001b[0;34m\u001b[0m\u001b[0m\n",
            "\u001b[0;32m/usr/local/lib/python3.8/dist-packages/keras/engine/training.py\u001b[0m in \u001b[0;36mfit\u001b[0;34m(self, x, y, batch_size, epochs, verbose, callbacks, validation_split, validation_data, shuffle, class_weight, sample_weight, initial_epoch, steps_per_epoch, validation_steps, validation_batch_size, validation_freq, max_queue_size, workers, use_multiprocessing)\u001b[0m\n\u001b[1;32m   1407\u001b[0m                 _r=1):\n\u001b[1;32m   1408\u001b[0m               \u001b[0mcallbacks\u001b[0m\u001b[0;34m.\u001b[0m\u001b[0mon_train_batch_begin\u001b[0m\u001b[0;34m(\u001b[0m\u001b[0mstep\u001b[0m\u001b[0;34m)\u001b[0m\u001b[0;34m\u001b[0m\u001b[0;34m\u001b[0m\u001b[0m\n\u001b[0;32m-> 1409\u001b[0;31m               \u001b[0mtmp_logs\u001b[0m \u001b[0;34m=\u001b[0m \u001b[0mself\u001b[0m\u001b[0;34m.\u001b[0m\u001b[0mtrain_function\u001b[0m\u001b[0;34m(\u001b[0m\u001b[0miterator\u001b[0m\u001b[0;34m)\u001b[0m\u001b[0;34m\u001b[0m\u001b[0;34m\u001b[0m\u001b[0m\n\u001b[0m\u001b[1;32m   1410\u001b[0m               \u001b[0;32mif\u001b[0m \u001b[0mdata_handler\u001b[0m\u001b[0;34m.\u001b[0m\u001b[0mshould_sync\u001b[0m\u001b[0;34m:\u001b[0m\u001b[0;34m\u001b[0m\u001b[0;34m\u001b[0m\u001b[0m\n\u001b[1;32m   1411\u001b[0m                 \u001b[0mcontext\u001b[0m\u001b[0;34m.\u001b[0m\u001b[0masync_wait\u001b[0m\u001b[0;34m(\u001b[0m\u001b[0;34m)\u001b[0m\u001b[0;34m\u001b[0m\u001b[0;34m\u001b[0m\u001b[0m\n",
            "\u001b[0;32m/usr/local/lib/python3.8/dist-packages/tensorflow/python/util/traceback_utils.py\u001b[0m in \u001b[0;36merror_handler\u001b[0;34m(*args, **kwargs)\u001b[0m\n\u001b[1;32m    148\u001b[0m     \u001b[0mfiltered_tb\u001b[0m \u001b[0;34m=\u001b[0m \u001b[0;32mNone\u001b[0m\u001b[0;34m\u001b[0m\u001b[0;34m\u001b[0m\u001b[0m\n\u001b[1;32m    149\u001b[0m     \u001b[0;32mtry\u001b[0m\u001b[0;34m:\u001b[0m\u001b[0;34m\u001b[0m\u001b[0;34m\u001b[0m\u001b[0m\n\u001b[0;32m--> 150\u001b[0;31m       \u001b[0;32mreturn\u001b[0m \u001b[0mfn\u001b[0m\u001b[0;34m(\u001b[0m\u001b[0;34m*\u001b[0m\u001b[0margs\u001b[0m\u001b[0;34m,\u001b[0m \u001b[0;34m**\u001b[0m\u001b[0mkwargs\u001b[0m\u001b[0;34m)\u001b[0m\u001b[0;34m\u001b[0m\u001b[0;34m\u001b[0m\u001b[0m\n\u001b[0m\u001b[1;32m    151\u001b[0m     \u001b[0;32mexcept\u001b[0m \u001b[0mException\u001b[0m \u001b[0;32mas\u001b[0m \u001b[0me\u001b[0m\u001b[0;34m:\u001b[0m\u001b[0;34m\u001b[0m\u001b[0;34m\u001b[0m\u001b[0m\n\u001b[1;32m    152\u001b[0m       \u001b[0mfiltered_tb\u001b[0m \u001b[0;34m=\u001b[0m \u001b[0m_process_traceback_frames\u001b[0m\u001b[0;34m(\u001b[0m\u001b[0me\u001b[0m\u001b[0;34m.\u001b[0m\u001b[0m__traceback__\u001b[0m\u001b[0;34m)\u001b[0m\u001b[0;34m\u001b[0m\u001b[0;34m\u001b[0m\u001b[0m\n",
            "\u001b[0;32m/usr/local/lib/python3.8/dist-packages/tensorflow/python/eager/def_function.py\u001b[0m in \u001b[0;36m__call__\u001b[0;34m(self, *args, **kwds)\u001b[0m\n\u001b[1;32m    913\u001b[0m \u001b[0;34m\u001b[0m\u001b[0m\n\u001b[1;32m    914\u001b[0m       \u001b[0;32mwith\u001b[0m \u001b[0mOptionalXlaContext\u001b[0m\u001b[0;34m(\u001b[0m\u001b[0mself\u001b[0m\u001b[0;34m.\u001b[0m\u001b[0m_jit_compile\u001b[0m\u001b[0;34m)\u001b[0m\u001b[0;34m:\u001b[0m\u001b[0;34m\u001b[0m\u001b[0;34m\u001b[0m\u001b[0m\n\u001b[0;32m--> 915\u001b[0;31m         \u001b[0mresult\u001b[0m \u001b[0;34m=\u001b[0m \u001b[0mself\u001b[0m\u001b[0;34m.\u001b[0m\u001b[0m_call\u001b[0m\u001b[0;34m(\u001b[0m\u001b[0;34m*\u001b[0m\u001b[0margs\u001b[0m\u001b[0;34m,\u001b[0m \u001b[0;34m**\u001b[0m\u001b[0mkwds\u001b[0m\u001b[0;34m)\u001b[0m\u001b[0;34m\u001b[0m\u001b[0;34m\u001b[0m\u001b[0m\n\u001b[0m\u001b[1;32m    916\u001b[0m \u001b[0;34m\u001b[0m\u001b[0m\n\u001b[1;32m    917\u001b[0m       \u001b[0mnew_tracing_count\u001b[0m \u001b[0;34m=\u001b[0m \u001b[0mself\u001b[0m\u001b[0;34m.\u001b[0m\u001b[0mexperimental_get_tracing_count\u001b[0m\u001b[0;34m(\u001b[0m\u001b[0;34m)\u001b[0m\u001b[0;34m\u001b[0m\u001b[0;34m\u001b[0m\u001b[0m\n",
            "\u001b[0;32m/usr/local/lib/python3.8/dist-packages/tensorflow/python/eager/def_function.py\u001b[0m in \u001b[0;36m_call\u001b[0;34m(self, *args, **kwds)\u001b[0m\n\u001b[1;32m    945\u001b[0m       \u001b[0;31m# In this case we have created variables on the first call, so we run the\u001b[0m\u001b[0;34m\u001b[0m\u001b[0;34m\u001b[0m\u001b[0;34m\u001b[0m\u001b[0m\n\u001b[1;32m    946\u001b[0m       \u001b[0;31m# defunned version which is guaranteed to never create variables.\u001b[0m\u001b[0;34m\u001b[0m\u001b[0;34m\u001b[0m\u001b[0;34m\u001b[0m\u001b[0m\n\u001b[0;32m--> 947\u001b[0;31m       \u001b[0;32mreturn\u001b[0m \u001b[0mself\u001b[0m\u001b[0;34m.\u001b[0m\u001b[0m_stateless_fn\u001b[0m\u001b[0;34m(\u001b[0m\u001b[0;34m*\u001b[0m\u001b[0margs\u001b[0m\u001b[0;34m,\u001b[0m \u001b[0;34m**\u001b[0m\u001b[0mkwds\u001b[0m\u001b[0;34m)\u001b[0m  \u001b[0;31m# pylint: disable=not-callable\u001b[0m\u001b[0;34m\u001b[0m\u001b[0;34m\u001b[0m\u001b[0m\n\u001b[0m\u001b[1;32m    948\u001b[0m     \u001b[0;32melif\u001b[0m \u001b[0mself\u001b[0m\u001b[0;34m.\u001b[0m\u001b[0m_stateful_fn\u001b[0m \u001b[0;32mis\u001b[0m \u001b[0;32mnot\u001b[0m \u001b[0;32mNone\u001b[0m\u001b[0;34m:\u001b[0m\u001b[0;34m\u001b[0m\u001b[0;34m\u001b[0m\u001b[0m\n\u001b[1;32m    949\u001b[0m       \u001b[0;31m# Release the lock early so that multiple threads can perform the call\u001b[0m\u001b[0;34m\u001b[0m\u001b[0;34m\u001b[0m\u001b[0;34m\u001b[0m\u001b[0m\n",
            "\u001b[0;32m/usr/local/lib/python3.8/dist-packages/tensorflow/python/eager/function.py\u001b[0m in \u001b[0;36m__call__\u001b[0;34m(self, *args, **kwargs)\u001b[0m\n\u001b[1;32m   2451\u001b[0m       (graph_function,\n\u001b[1;32m   2452\u001b[0m        filtered_flat_args) = self._maybe_define_function(args, kwargs)\n\u001b[0;32m-> 2453\u001b[0;31m     return graph_function._call_flat(\n\u001b[0m\u001b[1;32m   2454\u001b[0m         filtered_flat_args, captured_inputs=graph_function.captured_inputs)  # pylint: disable=protected-access\n\u001b[1;32m   2455\u001b[0m \u001b[0;34m\u001b[0m\u001b[0m\n",
            "\u001b[0;32m/usr/local/lib/python3.8/dist-packages/tensorflow/python/eager/function.py\u001b[0m in \u001b[0;36m_call_flat\u001b[0;34m(self, args, captured_inputs, cancellation_manager)\u001b[0m\n\u001b[1;32m   1858\u001b[0m         and executing_eagerly):\n\u001b[1;32m   1859\u001b[0m       \u001b[0;31m# No tape is watching; skip to running the function.\u001b[0m\u001b[0;34m\u001b[0m\u001b[0;34m\u001b[0m\u001b[0;34m\u001b[0m\u001b[0m\n\u001b[0;32m-> 1860\u001b[0;31m       return self._build_call_outputs(self._inference_function.call(\n\u001b[0m\u001b[1;32m   1861\u001b[0m           ctx, args, cancellation_manager=cancellation_manager))\n\u001b[1;32m   1862\u001b[0m     forward_backward = self._select_forward_and_backward_functions(\n",
            "\u001b[0;32m/usr/local/lib/python3.8/dist-packages/tensorflow/python/eager/function.py\u001b[0m in \u001b[0;36mcall\u001b[0;34m(self, ctx, args, cancellation_manager)\u001b[0m\n\u001b[1;32m    495\u001b[0m       \u001b[0;32mwith\u001b[0m \u001b[0m_InterpolateFunctionError\u001b[0m\u001b[0;34m(\u001b[0m\u001b[0mself\u001b[0m\u001b[0;34m)\u001b[0m\u001b[0;34m:\u001b[0m\u001b[0;34m\u001b[0m\u001b[0;34m\u001b[0m\u001b[0m\n\u001b[1;32m    496\u001b[0m         \u001b[0;32mif\u001b[0m \u001b[0mcancellation_manager\u001b[0m \u001b[0;32mis\u001b[0m \u001b[0;32mNone\u001b[0m\u001b[0;34m:\u001b[0m\u001b[0;34m\u001b[0m\u001b[0;34m\u001b[0m\u001b[0m\n\u001b[0;32m--> 497\u001b[0;31m           outputs = execute.execute(\n\u001b[0m\u001b[1;32m    498\u001b[0m               \u001b[0mstr\u001b[0m\u001b[0;34m(\u001b[0m\u001b[0mself\u001b[0m\u001b[0;34m.\u001b[0m\u001b[0msignature\u001b[0m\u001b[0;34m.\u001b[0m\u001b[0mname\u001b[0m\u001b[0;34m)\u001b[0m\u001b[0;34m,\u001b[0m\u001b[0;34m\u001b[0m\u001b[0;34m\u001b[0m\u001b[0m\n\u001b[1;32m    499\u001b[0m               \u001b[0mnum_outputs\u001b[0m\u001b[0;34m=\u001b[0m\u001b[0mself\u001b[0m\u001b[0;34m.\u001b[0m\u001b[0m_num_outputs\u001b[0m\u001b[0;34m,\u001b[0m\u001b[0;34m\u001b[0m\u001b[0;34m\u001b[0m\u001b[0m\n",
            "\u001b[0;32m/usr/local/lib/python3.8/dist-packages/tensorflow/python/eager/execute.py\u001b[0m in \u001b[0;36mquick_execute\u001b[0;34m(op_name, num_outputs, inputs, attrs, ctx, name)\u001b[0m\n\u001b[1;32m     52\u001b[0m   \u001b[0;32mtry\u001b[0m\u001b[0;34m:\u001b[0m\u001b[0;34m\u001b[0m\u001b[0;34m\u001b[0m\u001b[0m\n\u001b[1;32m     53\u001b[0m     \u001b[0mctx\u001b[0m\u001b[0;34m.\u001b[0m\u001b[0mensure_initialized\u001b[0m\u001b[0;34m(\u001b[0m\u001b[0;34m)\u001b[0m\u001b[0;34m\u001b[0m\u001b[0;34m\u001b[0m\u001b[0m\n\u001b[0;32m---> 54\u001b[0;31m     tensors = pywrap_tfe.TFE_Py_Execute(ctx._handle, device_name, op_name,\n\u001b[0m\u001b[1;32m     55\u001b[0m                                         inputs, attrs, num_outputs)\n\u001b[1;32m     56\u001b[0m   \u001b[0;32mexcept\u001b[0m \u001b[0mcore\u001b[0m\u001b[0;34m.\u001b[0m\u001b[0m_NotOkStatusException\u001b[0m \u001b[0;32mas\u001b[0m \u001b[0me\u001b[0m\u001b[0;34m:\u001b[0m\u001b[0;34m\u001b[0m\u001b[0;34m\u001b[0m\u001b[0m\n",
            "\u001b[0;31mKeyboardInterrupt\u001b[0m: "
          ]
        }
      ]
    },
    {
      "cell_type": "code",
      "metadata": {
        "id": "e1M1mdWfuGpa",
        "colab": {
          "base_uri": "https://localhost:8080/",
          "height": 265
        },
        "outputId": "cb617465-ec43-4532-aad9-8fd91e3eb30c"
      },
      "source": [
        "plt.plot(history.history['loss'], label='train') \n",
        "plt.plot(history.history['val_loss'], label='test') \n",
        "plt.legend() \n",
        "plt.show()"
      ],
      "execution_count": null,
      "outputs": [
        {
          "output_type": "display_data",
          "data": {
            "text/plain": [
              "<Figure size 432x288 with 1 Axes>"
            ],
            "image/png": "[encoded data removed]"
          },
          "metadata": {
            "needs_background": "light"
          }
        }
      ]
    },
    {
      "cell_type": "code",
      "metadata": {
        "id": "c3oYpATvVPDW"
      },
      "source": [
        "# Guardar todo el modelo  https://www.tensorflow.org/tutorials/keras/save_and_load\n",
        "model.save_weights('/content/drive/MyDrive/Colab Notebooks/Working Analyst/ML_AI_for_the_Working_Analyst/Semana11/WeightsM_rev-220727')"
      ],
      "execution_count": null,
      "outputs": []
    },
    {
      "cell_type": "code",
      "source": [
        "model.load_weights('/content/drive/MyDrive/Colab Notebooks/Working Analyst/ML_AI_for_the_Working_Analyst/Semana11/WeightsM_rev-220727')"
      ],
      "metadata": {
        "colab": {
          "base_uri": "https://localhost:8080/"
        },
        "id": "ldS_6t9E-rq0",
        "outputId": "d3b5453f-ccd2-4221-a9ea-d8da2ec4f26c"
      },
      "execution_count": null,
      "outputs": [
        {
          "output_type": "execute_result",
          "data": {
            "text/plain": [
              "<tensorflow.python.training.tracking.util.CheckpointLoadStatus at 0x7fcd2e393160>"
            ]
          },
          "metadata": {},
          "execution_count": 54
        }
      ]
    },
    {
      "cell_type": "markdown",
      "metadata": {
        "id": "QbBzHDBMsa_E"
      },
      "source": [
        "#Modelo de Inferencia"
      ]
    },
    {
      "cell_type": "code",
      "metadata": {
        "id": "bX4V1TG6eGCU"
      },
      "source": [
        "## Inferencia del codificador\n",
        "encoder_model = Model(inputs=encoder_inputs, outputs=[encoder_outputs, state_h, state_c])"
      ],
      "execution_count": null,
      "outputs": []
    },
    {
      "cell_type": "code",
      "metadata": {
        "id": "2x8A_K-u8qwM",
        "colab": {
          "base_uri": "https://localhost:8080/",
          "height": 339
        },
        "outputId": "16ad1bda-cf02-4b0c-dd53-e55fb733735c"
      },
      "source": [
        "tf.keras.utils.plot_model( \n",
        "    encoder_model,\n",
        "    to_file=\"encoder_model.png\",\n",
        "    show_shapes=True,\n",
        "    show_dtype=False,\n",
        "    show_layer_names=True,\n",
        "    rankdir=\"TD\",\n",
        "    dpi=60,\n",
        ")"
      ],
      "execution_count": null,
      "outputs": [
        {
          "output_type": "execute_result",
          "data": {
            "image/png": "[encoded data removed]",
            "text/plain": [
              "<IPython.core.display.Image object>"
            ]
          },
          "metadata": {},
          "execution_count": 56
        }
      ]
    },
    {
      "cell_type": "code",
      "metadata": {
        "id": "m2b6xsH6rggV"
      },
      "source": [
        "# Inferencia del decodificador\n",
        "\n",
        "decoder_state_input_h = Input(shape=(latent_dim,))\n",
        "decoder_state_input_c = Input(shape=(latent_dim,))\n",
        "decoder_hidden_state_input = Input(shape=(int(longitud_max_reseña), latent_dim))\n",
        "\n",
        "# Obtener los embeddings de la secuencia del decodificador \n",
        "dec_emb2 = dec_emb_layer(decoder_inputs)\n",
        "\n",
        "# Para predecir la siguiente palabra, el estado inicial se iguala al estado del tiempo anterior\n",
        "decoder_outputs2, state_h2, state_c2 = decoder_lstm(dec_emb2, initial_state=[decoder_state_input_h, decoder_state_input_c])\n",
        "\n",
        "#Inferencia en modulo de atención\n",
        "attention = BahdanauAttention(latent_dim)\n",
        "context_vector, _ = attention( decoder_outputs2, decoder_hidden_state_input,)\n",
        "decoder_inf_concat = Concatenate(axis=-1, name='concat')([decoder_outputs2, context_vector])\n",
        "\n",
        "# Se utiliza la capa con activación softmax para generar la distribución de probabilidad del vocabulario objetivo\n",
        "decoder_outputs2 = decoder_dense(decoder_inf_concat)\n",
        "\n",
        "# Modelo final del decoder\n",
        "decoder_model = Model(\n",
        "[decoder_inputs] + [decoder_hidden_state_input, decoder_state_input_h, decoder_state_input_c],\n",
        "[decoder_outputs2] + [state_h2, state_c2])"
      ],
      "execution_count": null,
      "outputs": []
    },
    {
      "cell_type": "code",
      "metadata": {
        "id": "xSfRZwXZ0YGx",
        "colab": {
          "base_uri": "https://localhost:8080/",
          "height": 409
        },
        "outputId": "a2c620cb-43c5-4842-c2cb-a280a08e1752"
      },
      "source": [
        "tf.keras.utils.plot_model( \n",
        "    decoder_model,\n",
        "    to_file=\"model_decoder.png\",\n",
        "    show_shapes=True,\n",
        "    show_dtype=False,\n",
        "    show_layer_names=True,\n",
        "    rankdir=\"TD\",\n",
        "    dpi=60,\n",
        ")"
      ],
      "execution_count": null,
      "outputs": [
        {
          "output_type": "execute_result",
          "data": {
            "image/png": "[encoded data removed]",
            "text/plain": [
              "<IPython.core.display.Image object>"
            ]
          },
          "metadata": {},
          "execution_count": 58
        }
      ]
    },
    {
      "cell_type": "markdown",
      "source": [
        "## Predicciones\n",
        "\n",
        "\n",
        "**Implementación del modelo de inferencia **\n",
        "[fuente](https://www.analyticsvidhya.com/blog/2019/06/comprehensive-guide-text-summarization-using-deep-learning-python/)"
      ],
      "metadata": {
        "id": "il5USqj9IzOF"
      }
    },
    {
      "cell_type": "markdown",
      "source": [
        "<h3> Comparación del resumen generado por la rnn con el resumen original"
      ],
      "metadata": {
        "id": "AtE2btz4JC7F"
      }
    },
    {
      "cell_type": "code",
      "source": [
        "for i in range(105,120):\n",
        "  print(i)\n",
        "  print(\"Reseña:\",seq2text(x_test_seq[i]))\n",
        "  print(\"Resumen original:\",seq2summary(y_test_seq[i]))\n",
        "  print(\"Resumen generado:\",crea_resumen(x_test_seq[i].reshape(1, -1)))\n",
        "  print(\"\\n\")"
      ],
      "metadata": {
        "id": "NTiT3Q_W7Nik",
        "colab": {
          "base_uri": "https://localhost:8080/"
        },
        "outputId": "f235cf21-7a53-4cc1-fbaa-d5ec550b5461"
      },
      "execution_count": null,
      "outputs": [
        {
          "output_type": "stream",
          "name": "stdout",
          "text": [
            "105\n",
            "Reseña: thin runny and the fake milk powder used to add creaminess has an off flavor better off eating your ceramic mug \n",
            "Resumen original: not good \n",
            "1/1 [==============================] - 1s 1s/step\n",
            "1/1 [==============================] - 0s 420ms/step\n",
            "1/1 [==============================] - 0s 20ms/step\n",
            "1/1 [==============================] - 0s 17ms/step\n",
            "Resumen generado:  great product\n",
            "\n",
            "\n",
            "106\n",
            "Reseña: this is a really strong wonderful coffee not bitter in any way it is the only one we drink now great product \n",
            "Resumen original: great coffee \n",
            "1/1 [==============================] - 0s 38ms/step\n",
            "1/1 [==============================] - 0s 18ms/step\n",
            "1/1 [==============================] - 0s 16ms/step\n",
            "Resumen generado:  great\n",
            "\n",
            "\n",
            "107\n",
            "Reseña: i love this stuff and it is hard to find sugar free makes it good for me i recommend it highly even my husband likes it and plans to have me send him off to the [UNK] golf course with a thermos full of this along with a flash of tequila or brandy lol \n",
            "Resumen original: perfect for the cold weather \n",
            "1/1 [==============================] - 0s 33ms/step\n",
            "1/1 [==============================] - 0s 20ms/step\n",
            "1/1 [==============================] - 0s 19ms/step\n",
            "1/1 [==============================] - 0s 19ms/step\n",
            "Resumen generado:  great product\n",
            "\n",
            "\n",
            "108\n",
            "Reseña: a neighbor gave me 2 cans and my cat loved it ate it a few times but then only drank the broth donated the remaining 22 cans to my local animal shelter \n",
            "Resumen original: she is a cat \n",
            "1/1 [==============================] - 0s 33ms/step\n",
            "1/1 [==============================] - 0s 17ms/step\n",
            "1/1 [==============================] - 0s 18ms/step\n",
            "1/1 [==============================] - 0s 19ms/step\n",
            "Resumen generado:  great product\n",
            "\n",
            "\n",
            "109\n",
            "Reseña: all of the land o lakes cocoa mix are awesome just the right amount of hazelnut mint my favorites and graham flavor adding a little milk just adds to the creaminess i usually make it as a treat it hits the spot during the dark cold snowy days \n",
            "Resumen original: creamy comfort \n",
            "1/1 [==============================] - 0s 32ms/step\n",
            "1/1 [==============================] - 0s 17ms/step\n",
            "1/1 [==============================] - 0s 19ms/step\n",
            "1/1 [==============================] - 0s 17ms/step\n",
            "Resumen generado:  great product\n",
            "\n",
            "\n",
            "110\n",
            "Reseña: about 30 40 of the population of central europe has trouble digesting fructose if you have trouble digesting fructose it can cause a lot of [UNK] abdominal pain this is almost 100 fructose personally i spent about two months with very bad mysterious abdominal pain that seemed to be everywhere after several weeks of doctor visits discussions about ibs and an abdominal [UNK] that came up normal i started thinking about what was different in my diet i had been using agave nectar in my tea several times a day after throwing out the agave nectar and looking online for a list of lower fructose food i changed my diet a little the pain went away in a matter of days and has not returned if you are using agave nectar and you have suddenly started having digestive issues try getting rid of the agave nectar for some people this is really bad stuff \n",
            "Resumen original: can make some people unbelievably sick \n",
            "1/1 [==============================] - 0s 33ms/step\n",
            "1/1 [==============================] - 0s 18ms/step\n",
            "1/1 [==============================] - 0s 19ms/step\n",
            "1/1 [==============================] - 0s 19ms/step\n",
            "1/1 [==============================] - 0s 17ms/step\n",
            "1/1 [==============================] - 0s 16ms/step\n",
            "Resumen generado:  good but not great\n",
            "\n",
            "\n",
            "111\n",
            "Reseña: i have tried several brands of sports gels and these are my favorite easy to open and digest even while riding although it does get sticky if you are not careful my recommended flavors are vanilla bean espresso love and lime \n",
            "Resumen original: excellent flavor and consistency \n",
            "1/1 [==============================] - 0s 35ms/step\n",
            "1/1 [==============================] - 0s 18ms/step\n",
            "1/1 [==============================] - 0s 18ms/step\n",
            "1/1 [==============================] - 0s 23ms/step\n",
            "Resumen generado:  great taste\n",
            "\n",
            "\n",
            "112\n",
            "Reseña: this is my bichon s favorite food that we have tried it does have soy in it usually soy gives him very smelly gas i do not know if there is less in beneful or if it is just processed differently but he does not have a problem with this food with beneful his stools have been small solid and uniform his digestive tract is pretty finicky so several foods we have tried have given him loose stools this is also the only dog food he does not root through to pick out all his favorite pieces first he eats it all with enthusiasm my cat also likes it and will happily steal it if we do not watch her overall i think this is a fair price for a product that my dog really likes \n",
            "Resumen original: my dog likes it \n",
            "1/1 [==============================] - 0s 34ms/step\n",
            "1/1 [==============================] - 0s 20ms/step\n",
            "1/1 [==============================] - 0s 19ms/step\n",
            "1/1 [==============================] - 0s 18ms/step\n",
            "Resumen generado:  great product\n",
            "\n",
            "\n",
            "113\n",
            "Reseña: after moving away from the east coast i was delighted to learn that amazon carried [UNK] sunflower milk i received my first shipment last week and am waiting for another three cases to arrive a perfect addition to my fruit smoothies or in a glass all by itself thanks amazon for carrying this product a happy hawaiian customer \n",
            "Resumen original: so ono \n",
            "1/1 [==============================] - 0s 33ms/step\n",
            "1/1 [==============================] - 0s 18ms/step\n",
            "1/1 [==============================] - 0s 20ms/step\n",
            "1/1 [==============================] - 0s 17ms/step\n",
            "Resumen generado:  great product\n",
            "\n",
            "\n",
            "114\n",
            "Reseña: excellant product makes for some great martinis buy at least a case because it will be used and used only wish this product was in stock with the [UNK] \n",
            "Resumen original: dirty sue \n",
            "1/1 [==============================] - 0s 32ms/step\n",
            "1/1 [==============================] - 0s 19ms/step\n",
            "1/1 [==============================] - 0s 19ms/step\n",
            "1/1 [==============================] - 0s 16ms/step\n",
            "Resumen generado:  great product\n",
            "\n",
            "\n",
            "115\n",
            "Reseña: i usually do not drink dark coffee or write reviews for it this coffee has so much flavor without the bitterness i do use half half with sugar i really enjoyed it and was surprised \n",
            "Resumen original: great dark coffee \n",
            "1/1 [==============================] - 0s 34ms/step\n",
            "1/1 [==============================] - 0s 16ms/step\n",
            "1/1 [==============================] - 0s 16ms/step\n",
            "1/1 [==============================] - 0s 19ms/step\n",
            "Resumen generado:  great coffee\n",
            "\n",
            "\n",
            "116\n",
            "Reseña: for those who prefer strong tea this may not be the tea for you if however you enjoy a smooth and mellow cup there are few teas that possess this blend of delicacy and grace the combination of earl gray and lavender are softly [UNK] a perfect quiet harmony that will leave you relaxed and satisfied i was not expecting much from a commercial tea but this was a most pleasant surprise \n",
            "Resumen original: lovely and subtle \n",
            "1/1 [==============================] - 0s 38ms/step\n",
            "1/1 [==============================] - 0s 17ms/step\n",
            "1/1 [==============================] - 0s 18ms/step\n",
            "1/1 [==============================] - 0s 19ms/step\n",
            "Resumen generado:  great product\n",
            "\n",
            "\n",
            "117\n",
            "Reseña: every member of the family loves mommy pancakes made from pamela s i am the only wheat free gluten free person in the household and do a majority of the cooking and baking the pancakes are wonderful add blueberries or bananas or brown sugar and cinnamon to make them even better \n",
            "Resumen original: great to be gluten free \n",
            "1/1 [==============================] - 0s 34ms/step\n",
            "1/1 [==============================] - 0s 19ms/step\n",
            "1/1 [==============================] - 0s 16ms/step\n",
            "1/1 [==============================] - 0s 17ms/step\n",
            "Resumen generado:  great product\n",
            "\n",
            "\n",
            "118\n",
            "Reseña: i am in italy once or twice every year for the past 15 i bring home at least a dozen each time [UNK] brand is about the best i have ever had i have used it along with my own bottled tomatos from my garden that are sometimes loaded with water even though i plant san marzano roma amd other paste types you should try [UNK] better than star or co [UNK] brands i use the double and triple concentrates if you cannot travel to italy this is the next best thing a href http www amazon com gp product [UNK] [UNK] italian tomato paste concentrate [UNK] a \n",
            "Resumen original: like sugar \n",
            "1/1 [==============================] - 0s 33ms/step\n",
            "1/1 [==============================] - 0s 18ms/step\n",
            "1/1 [==============================] - 0s 20ms/step\n",
            "1/1 [==============================] - 0s 17ms/step\n",
            "Resumen generado:  great product\n",
            "\n",
            "\n",
            "119\n",
            "Reseña: i came across espresso made from these beans at my friend s place in amsterdam who told me about this little cafe in rome that sells the best coffee and how she [UNK] several pounds back to amsterdam a month later and once i had returned home to san francisco i had invested in an espresso machine and the only thing missing were those beans what do you it is available through amazon just incredible this espresso is for the serious drinker with taste buds that only appreciate exclusive italian coffee the seller shipped on time great service too \n",
            "Resumen original: simply wonderful \n",
            "1/1 [==============================] - 0s 33ms/step\n",
            "1/1 [==============================] - 0s 18ms/step\n",
            "1/1 [==============================] - 0s 18ms/step\n",
            "1/1 [==============================] - 0s 17ms/step\n",
            "Resumen generado:  great coffee\n",
            "\n",
            "\n"
          ]
        }
      ]
    }
  ]
}