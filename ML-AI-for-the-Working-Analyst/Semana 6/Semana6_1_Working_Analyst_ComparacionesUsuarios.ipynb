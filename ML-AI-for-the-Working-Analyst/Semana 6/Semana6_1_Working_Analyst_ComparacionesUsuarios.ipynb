{
  "nbformat": 4,
  "nbformat_minor": 0,
  "metadata": {
    "colab": {
      "provenance": [],
      "collapsed_sections": [],
      "include_colab_link": true
    },
    "kernelspec": {
      "name": "python3",
      "display_name": "Python 3"
    },
    "language_info": {
      "name": "python"
    }
  },
  "cells": [
    {
      "cell_type": "markdown",
      "metadata": {
        "id": "view-in-github",
        "colab_type": "text"
      },
      "source": [
        "<a href=\"https://colab.research.google.com/github/anelglvz/Working-Analyst/blob/main/ML-AI-for-the-Working-Analyst/Semana6_1_Working_Analyst_ComparacionesUsuarios.ipynb\" target=\"_parent\"><img src=\"https://colab.research.google.com/assets/colab-badge.svg\" alt=\"Open In Colab\"/></a>"
      ]
    },
    {
      "cell_type": "code",
      "metadata": {
        "id": "U6vDKazEn53P"
      },
      "source": [
        "from google.colab import drive\n",
        "drive.mount('/content/drive')"
      ],
      "execution_count": null,
      "outputs": []
    },
    {
      "cell_type": "markdown",
      "metadata": {
        "id": "rzwKE50VnhWD"
      },
      "source": [
        "### Introducción"
      ]
    },
    {
      "cell_type": "markdown",
      "metadata": {
        "id": "wiK6D6Yqnksc"
      },
      "source": [
        "En este ejemplo utilizaremos los datos de la [competencia de Netflix](https://www.kaggle.com/datasets/netflix-inc/netflix-prize-data?select=combined_data_1.txt) en Kaggle. El objetivo de esta competencia era mejorar el algoritmo de recomendación 10%. Nosotros no seremos tan avariciosos. En esta primer sesión exploraremos comparaciones básicas que podríamos utilizar. Para la segunda sesión los objetivos serán: \n",
        "\n",
        "*   Análisis exploratorio de matriz y por qué es dispersa.\n",
        "*   Implementación de Singular Value Decomposition.\n",
        "*   Implementación de un modelo de sistema de recomendación de filtro colaborativo.\n",
        "*   Generar la predicción de recomendaciones con buen resultado y no."
      ]
    },
    {
      "cell_type": "code",
      "metadata": {
        "id": "ZKG5oiH9uVqD"
      },
      "source": [
        "import math \n",
        "import numpy as np \n",
        "import pandas as pd\n",
        "\n",
        "import matplotlib.pyplot as plt\n",
        "import seaborn as sns\n"
      ],
      "execution_count": null,
      "outputs": []
    },
    {
      "cell_type": "markdown",
      "metadata": {
        "id": "7TYrz9I3o-yu"
      },
      "source": [
        "En este caso cargar los datos nos llevará un rato por la gran cantidad de registros que tenemos. Sólo cargaremos un archivo, pero la competencia tiene un total de 3 archivos."
      ]
    },
    {
      "cell_type": "code",
      "metadata": {
        "id": "CVU93kE7sIHJ"
      },
      "source": [
        "# Recuerde, pueden conseguir la dirección del archivo en su Drive y copiarla en la dirección\n",
        "df = pd.read_csv('/content/drive/MyDrive/Curso-WorkingAnalyst/semana5/combined_data_1.txt', \n",
        "                 names=['Client_Id', 'Rating', 'Date'], low_memory=True, nrows=12*(10**6))"
      ],
      "execution_count": null,
      "outputs": []
    },
    {
      "cell_type": "code",
      "metadata": {
        "id": "di99RloCwVxM"
      },
      "source": [
        "df"
      ],
      "execution_count": null,
      "outputs": []
    },
    {
      "cell_type": "code",
      "metadata": {
        "id": "vVR_TP-mxvRy"
      },
      "source": [
        "df.info()"
      ],
      "execution_count": null,
      "outputs": []
    },
    {
      "cell_type": "code",
      "metadata": {
        "id": "U9AqZk4Ux6dI"
      },
      "source": [
        "# Revisamos los nulos. \n",
        "\n",
        "df.isnull().sum()"
      ],
      "execution_count": null,
      "outputs": []
    },
    {
      "cell_type": "markdown",
      "metadata": {
        "id": "WitjZlKzpwTB"
      },
      "source": [
        "En este caso los registros que tenemos con valores nulos corresponden al Id de las películas. Si observamos los registros nulos están ordenados del 1 al 2,340. "
      ]
    },
    {
      "cell_type": "code",
      "metadata": {
        "id": "NsUbxRh-2zWb"
      },
      "source": [
        "df[df['Rating'].isnull()].shape"
      ],
      "execution_count": null,
      "outputs": []
    },
    {
      "cell_type": "code",
      "metadata": {
        "id": "8HXymoc-2n6I"
      },
      "source": [
        "df[df['Rating'].isnull()]"
      ],
      "execution_count": null,
      "outputs": []
    },
    {
      "cell_type": "code",
      "metadata": {
        "id": "2lfgyTUltlM4"
      },
      "source": [
        "movies = df['Rating'].isnull().sum()\n",
        "print(f'Este es el número de películas que tenemos en este archivo: {movies}')"
      ],
      "execution_count": null,
      "outputs": []
    },
    {
      "cell_type": "code",
      "metadata": {
        "id": "uMdjYPTGsk1h"
      },
      "source": [
        "reviews = df[df['Rating'].isnull()==False]['Client_Id'].count()\n",
        "print(f'Este es el número de calificaciones: {reviews}')"
      ],
      "execution_count": null,
      "outputs": []
    },
    {
      "cell_type": "code",
      "metadata": {
        "id": "OCDMu35Js1xh"
      },
      "source": [
        "users = df['Client_Id'].nunique() - movies\n",
        "print(f'Esta es la cantidad de usuarios que tenemos: {users}')"
      ],
      "execution_count": null,
      "outputs": []
    },
    {
      "cell_type": "markdown",
      "metadata": {
        "id": "EQ-zljpEvE56"
      },
      "source": [
        "En este caso no estaremos trabajando con las fechas. Por lo tanto haremos un subconjunto de nuestro DF original. "
      ]
    },
    {
      "cell_type": "code",
      "metadata": {
        "id": "YGk9bj0PuzvR"
      },
      "source": [
        "df_sub = df[['Client_Id', 'Rating']]"
      ],
      "execution_count": null,
      "outputs": []
    },
    {
      "cell_type": "code",
      "source": [
        "df_sub"
      ],
      "metadata": {
        "id": "R-xaq9WbEn-q"
      },
      "execution_count": null,
      "outputs": []
    },
    {
      "cell_type": "markdown",
      "metadata": {
        "id": "_EO4wSbpvbJ_"
      },
      "source": [
        "Ahora observemos como se distribuye la frecuencia para la columna de rating."
      ]
    },
    {
      "cell_type": "code",
      "metadata": {
        "id": "u2d4FB8wvTeB"
      },
      "source": [
        "sns.countplot(y=df_sub['Rating'], orient='v', palette='Blues');"
      ],
      "execution_count": null,
      "outputs": []
    },
    {
      "cell_type": "code",
      "metadata": {
        "id": "ljIWZVF6vnQy"
      },
      "source": [
        "df_sub['Rating'].value_counts() / df_sub['Rating'].count() * 100"
      ],
      "execution_count": null,
      "outputs": []
    },
    {
      "cell_type": "markdown",
      "metadata": {
        "id": "AcEuWTQF0YlR"
      },
      "source": [
        "La mayor parte de nuestros valores se distribuyen en los ratings de 3 y 4 estrellas. La mayoría de los rating son positivos."
      ]
    },
    {
      "cell_type": "markdown",
      "metadata": {
        "id": "LHFOcjEr2SmR"
      },
      "source": [
        "### Hora de la limpieza"
      ]
    },
    {
      "cell_type": "markdown",
      "metadata": {
        "id": "JasuhT_a2WaQ"
      },
      "source": [
        "En este caso los valores nulos que tenemos hacen referencia a **Id** de 'clientes' con rating vacíos. En realidad esta información es el **Id** de la película. Lo que debemos hacer ahora es quitar estos registros y añadir los **Id's** de película como una nueva columna. "
      ]
    },
    {
      "cell_type": "code",
      "metadata": {
        "id": "5uIg-NmE3WrD"
      },
      "source": [
        "# Generamos una serie con valores booleanos. Donde Verdadero será igual al lugar\n",
        "# donde hay un Id de película.\n",
        "pd.isnull(df_sub['Rating'][:100])"
      ],
      "execution_count": null,
      "outputs": []
    },
    {
      "cell_type": "code",
      "metadata": {
        "id": "y7d38-Dtyk0y"
      },
      "source": [
        "# Colocamos la serie como un DataFrame\n",
        "df_null = pd.DataFrame(pd.isnull(df_sub['Rating']))\n",
        "df_null.head()"
      ],
      "execution_count": null,
      "outputs": []
    },
    {
      "cell_type": "code",
      "metadata": {
        "id": "1hCwtVGx4hBo"
      },
      "source": [
        "# Obtenemos sólo los registros de películas junto con índice hasta donde llega \n",
        "# los rating para esa película.\n",
        "df_null = df_null[df_null['Rating'] == True]\n",
        "df_null.head()"
      ],
      "execution_count": null,
      "outputs": []
    },
    {
      "cell_type": "code",
      "metadata": {
        "id": "E7ecC_Lo4369"
      },
      "source": [
        "# Colocamos el índice como columna para tener la ubicación para hasta donde repe-\n",
        "# tir nuestros valores de Id para esa película.\n",
        "df_null = df_null.reset_index()\n",
        "df_null.head()"
      ],
      "execution_count": null,
      "outputs": []
    },
    {
      "cell_type": "code",
      "source": [
        "df_null.tail()"
      ],
      "metadata": {
        "id": "qOQSbTs2HD2c"
      },
      "execution_count": null,
      "outputs": []
    },
    {
      "cell_type": "code",
      "metadata": {
        "id": "D7f9zMuI545k"
      },
      "source": [
        "movie_id_array = [] # Generamos una lista vacía donde colocaremos el Id de la película las veces que se repita.\n",
        "movie_id = 1 # Inicializamos un contador\n",
        "\n",
        "# En esta celda para saber cómo hace el proceso imprimo los distintos pasos.\n",
        "for i, j in zip(df_null['index'][1:], df_null['index'][:-1]): # Iteramos sobre los valores de la columna 'index'\n",
        "                                                               # empezando por el valor n+1 y en segundo lugar desde n hasta el penúltimo valor de la serie.\n",
        "  temporary = np.full((1, i-j-1), fill_value=movie_id) # Creamos una matriz llena de valores con la forma de 1x(la diferencia del valor (n+1)-n-1).                                                     # Esto nos da una matriz llena con el Id repetido el número de reviews para esa película.\n",
        "  movie_id_array = np.append(movie_id_array, temporary) # Lo añadimos a una lista. \n",
        "  movie_id += 1                                         # Aumentamos el Id para la siguiente película."
      ],
      "execution_count": null,
      "outputs": []
    },
    {
      "cell_type": "code",
      "metadata": {
        "id": "pNZFblX1A9EC"
      },
      "source": [
        "movie_id"
      ],
      "execution_count": null,
      "outputs": []
    },
    {
      "cell_type": "code",
      "metadata": {
        "id": "FwNO7EvuAUGD"
      },
      "source": [
        "# Generamos los Id's para la última película que no está contemplada en nuestro loop.\n",
        "last_movie = np.full((1, len(df_sub) - df_null.iloc[-1, 0] - 1), fill_value=movie_id)\n",
        "movie_id_array = np.append(movie_id_array, last_movie)"
      ],
      "execution_count": null,
      "outputs": []
    },
    {
      "cell_type": "code",
      "metadata": {
        "id": "wqyZbsQmA0CZ"
      },
      "source": [
        "movie_id_array.shape # la cantidad de Id's corresponde con la cantidad de películas."
      ],
      "execution_count": null,
      "outputs": []
    },
    {
      "cell_type": "code",
      "source": [
        "movie_id_array"
      ],
      "metadata": {
        "id": "zKrhdlIL3ELf"
      },
      "execution_count": null,
      "outputs": []
    },
    {
      "cell_type": "markdown",
      "metadata": {
        "id": "yxcX00TXCSym"
      },
      "source": [
        "Ahora para tener todo en orden es necesario que quitemos los registros nulos de nuestro df y añadamos los Id's que generamos."
      ]
    },
    {
      "cell_type": "code",
      "metadata": {
        "id": "Qr_9t1ieAxR9"
      },
      "source": [
        "df_clean = df_sub[pd.notnull(df_sub['Rating'])].copy()"
      ],
      "execution_count": null,
      "outputs": []
    },
    {
      "cell_type": "code",
      "source": [
        "df_clean"
      ],
      "metadata": {
        "id": "GGenkmmuG7Q7"
      },
      "execution_count": null,
      "outputs": []
    },
    {
      "cell_type": "code",
      "metadata": {
        "id": "uGfiai45C0L1"
      },
      "source": [
        "df_clean['Movie_Id'] = movie_id_array.astype('int16')"
      ],
      "execution_count": null,
      "outputs": []
    },
    {
      "cell_type": "code",
      "metadata": {
        "id": "M1-sR3-jDneA"
      },
      "source": [
        "df_clean['Client_Id'] = df_clean['Client_Id'].astype('int32')"
      ],
      "execution_count": null,
      "outputs": []
    },
    {
      "cell_type": "code",
      "metadata": {
        "id": "KrLl0IsRDG6n"
      },
      "source": [
        "df_clean.head(600)"
      ],
      "execution_count": null,
      "outputs": []
    },
    {
      "cell_type": "code",
      "metadata": {
        "id": "lvAUFHy6EgsA"
      },
      "source": [
        "df_clean.tail()"
      ],
      "execution_count": null,
      "outputs": []
    },
    {
      "cell_type": "code",
      "metadata": {
        "id": "owdAxOwADV73"
      },
      "source": [
        "df_clean.info()"
      ],
      "execution_count": null,
      "outputs": []
    },
    {
      "cell_type": "markdown",
      "metadata": {
        "id": "heGjQcN4Yqts"
      },
      "source": [
        "### Convirtiendo a matriz dispersa o generando nuestra tabla Usuario-Item"
      ]
    },
    {
      "cell_type": "code",
      "source": [
        "df_clean"
      ],
      "metadata": {
        "id": "Yh8-2ykk3diY"
      },
      "execution_count": null,
      "outputs": []
    },
    {
      "cell_type": "code",
      "source": [
        "df_short = df_clean[df_clean['Movie_Id']<1000]"
      ],
      "metadata": {
        "id": "ArS79F95Vosg"
      },
      "execution_count": null,
      "outputs": []
    },
    {
      "cell_type": "code",
      "source": [
        "df_short"
      ],
      "metadata": {
        "id": "GQR0ceEK3oaB"
      },
      "execution_count": null,
      "outputs": []
    },
    {
      "cell_type": "code",
      "metadata": {
        "id": "BkMRoNovYHvt"
      },
      "source": [
        "# Por limitantes de la ramm, no podemos crearlo, pero en local o usando otras herramientas, podrían \n",
        "%%time\n",
        "pivot_user_item = df_short.pivot(index='Client_Id', columns='Movie_Id', values='Rating').fillna(0)"
      ],
      "execution_count": null,
      "outputs": []
    },
    {
      "cell_type": "code",
      "metadata": {
        "id": "-BfopnnhZuLV"
      },
      "source": [
        "pivot_user_item"
      ],
      "execution_count": null,
      "outputs": []
    },
    {
      "cell_type": "code",
      "source": [
        "pivot_copy = pivot_user_item.copy()"
      ],
      "metadata": {
        "id": "rckZz5WBYogJ"
      },
      "execution_count": null,
      "outputs": []
    },
    {
      "cell_type": "code",
      "source": [
        "for i in range(1,9):\n",
        "  pivot_copy = pivot_copy[pivot_copy[i] != 0]"
      ],
      "metadata": {
        "id": "QvTSOZycXRl_"
      },
      "execution_count": null,
      "outputs": []
    },
    {
      "cell_type": "code",
      "source": [
        "pivot_copy"
      ],
      "metadata": {
        "id": "Lx2FYAu5Yxkp"
      },
      "execution_count": null,
      "outputs": []
    },
    {
      "cell_type": "markdown",
      "source": [
        "## Pequeñas Pruebas"
      ],
      "metadata": {
        "id": "wDRPaSEJZUCH"
      }
    },
    {
      "cell_type": "code",
      "source": [
        "pivot_copy = pivot_copy[[1,2,3,4,5,6,7,8,9]]\n",
        "pivot_copy"
      ],
      "metadata": {
        "id": "KfMRYv1EZT1H"
      },
      "execution_count": null,
      "outputs": []
    },
    {
      "cell_type": "code",
      "source": [
        "plt.plot(range(1,10), pivot_copy.loc[305344,:])\n",
        "plt.plot(range(1,10), pivot_copy.loc[387418,:])\n",
        "plt.plot(range(1,10), pivot_copy.loc[1664010,:])\n",
        "plt.plot(range(1,10), pivot_copy.loc[2118461,:])\n",
        "plt.plot(range(1,10), pivot_copy.loc[2439493,:])\n",
        "\n",
        "plt.legend(['Client 305344', 'Client 387418', 'Client 1664010', 'Client 2118461', 'Client 2439493'], bbox_to_anchor=(1.04,1), loc=\"upper left\")"
      ],
      "metadata": {
        "id": "GSdu2jwfZkQk"
      },
      "execution_count": null,
      "outputs": []
    },
    {
      "cell_type": "markdown",
      "source": [
        "## Comparaciones con medida Coseno"
      ],
      "metadata": {
        "id": "QNElfylzbT-4"
      }
    },
    {
      "cell_type": "code",
      "source": [
        "from sklearn.metrics.pairwise import cosine_similarity"
      ],
      "metadata": {
        "id": "GExRHM7RbhKB"
      },
      "execution_count": null,
      "outputs": []
    },
    {
      "cell_type": "markdown",
      "source": [
        "Se obtiene de la siguiente manera:\n",
        "\n",
        "$$ S_C (P,Q):= \\cos(\\theta) = {P \\cdot Q \\over \\|P\\| \\|Q\\|} = \\frac{ \\sum\\limits_{i=1}^{n}{p_i  q_i} }{ \\sqrt{\\sum\\limits_{i=1}^{n}{p_i^2}}  \\sqrt{\\sum\\limits_{i=1}^{n}{q_i^2}} }$$\n",
        "\n",
        "Donde $\\theta$ es el angulo entre los vectores $P$ y $Q$."
      ],
      "metadata": {
        "id": "K27AT1EeSC-R"
      }
    },
    {
      "cell_type": "code",
      "source": [
        "help(cosine_similarity)"
      ],
      "metadata": {
        "id": "KC5K5n_HSmtV"
      },
      "execution_count": null,
      "outputs": []
    },
    {
      "cell_type": "markdown",
      "source": [
        "Ejemplificación:"
      ],
      "metadata": {
        "id": "Amcaga4SUTGh"
      }
    },
    {
      "cell_type": "code",
      "source": [
        "# Comparemos los vectores (1,1) y (-1,1)\n",
        "V = np.array([[1,1], [-1,1]])\n",
        "v1_pos = [0, 0]\n",
        "v2_pos = [0, 0]\n",
        "\n",
        "plt.plot(0,0,'ok')\n",
        "plt.quiver(v1_pos, v2_pos, V[:,0], V[:,1], color=['r','b'], scale=5)\n",
        "plt.grid()\n",
        "plt.show()"
      ],
      "metadata": {
        "id": "y07FzWuLVAZ_"
      },
      "execution_count": null,
      "outputs": []
    },
    {
      "cell_type": "code",
      "source": [
        "# La restaremos al 1 por la forma en que lo calcula el módulo que estamos utilizando (scipy)\n",
        "cosine_similarity([np.array([1,1]), np.array([-1,1])])"
      ],
      "metadata": {
        "id": "L5KRZLSxUUxV"
      },
      "execution_count": null,
      "outputs": []
    },
    {
      "cell_type": "code",
      "source": [
        "# Comparemos los vectores (1,1) y (1,2)\n",
        "V = np.array([[1,1], [1,2]])\n",
        "#V = np.array([[5,5], [1,2]])\n",
        "v1_pos = [0,0]\n",
        "v2_pos = [0,0]\n",
        "\n",
        "plt.plot(0,0,'ok')\n",
        "plt.quiver(v1_pos, v2_pos, V[:,0], V[:,1], color=['r','b'], scale=8)\n",
        "plt.grid()\n",
        "plt.show()"
      ],
      "metadata": {
        "id": "oEIXTCinVAuk"
      },
      "execution_count": null,
      "outputs": []
    },
    {
      "cell_type": "code",
      "source": [
        "cosine_similarity([np.array([1,1]), np.array([1,2])])"
      ],
      "metadata": {
        "id": "Lu9TbKAnUVIk"
      },
      "execution_count": null,
      "outputs": []
    },
    {
      "cell_type": "code",
      "source": [
        "# Comparemos los vectores (1,1), (1, -0.5)\n",
        "V = np.array([[1,1], [-1,-0.5]])\n",
        "v1_pos = [0,0]\n",
        "v2_pos = [0,0]\n",
        "\n",
        "plt.plot(0,0,'ok')\n",
        "plt.quiver(v1_pos, v2_pos, V[:,0], V[:,1], color=['r','b'], scale=8)\n",
        "plt.grid()\n",
        "plt.show()"
      ],
      "metadata": {
        "id": "yRR7YYXLVBVs"
      },
      "execution_count": null,
      "outputs": []
    },
    {
      "cell_type": "code",
      "source": [
        "cosine_similarity([np.array([1,1]), np.array([-1,-.5])])"
      ],
      "metadata": {
        "id": "ErVPH2nzUVCB"
      },
      "execution_count": null,
      "outputs": []
    },
    {
      "cell_type": "markdown",
      "source": [
        "# Usemos la similitud coseno con nuestros datos:"
      ],
      "metadata": {
        "id": "Ks-p_pEcVBzg"
      }
    },
    {
      "cell_type": "code",
      "source": [
        "# Recordemos los datos que nos quedaron tras un filtro muy estricto\n",
        "pivot_copy"
      ],
      "metadata": {
        "id": "8e43jw3kcBEG"
      },
      "execution_count": null,
      "outputs": []
    },
    {
      "cell_type": "code",
      "source": [
        "de_1_a_2 = cosine_similarity([pivot_copy.loc[305344,:], pivot_copy.loc[387418,:]])\n",
        "de_1_a_2"
      ],
      "metadata": {
        "id": "-p1iEqL6Sh-r"
      },
      "execution_count": null,
      "outputs": []
    },
    {
      "cell_type": "code",
      "source": [
        "de_1_a_4 = cosine_similarity([pivot_copy.loc[305344,:], pivot_copy.loc[2118461,:]])\n",
        "de_1_a_4"
      ],
      "metadata": {
        "id": "yLWzxtRQSh-r"
      },
      "execution_count": null,
      "outputs": []
    },
    {
      "cell_type": "code",
      "source": [
        "de_3_a_4 = cosine_similarity([pivot_copy.loc[1664010,:], pivot_copy.loc[2118461,:]])\n",
        "de_3_a_4"
      ],
      "metadata": {
        "id": "O4tLZ5tRSh-r"
      },
      "execution_count": null,
      "outputs": []
    },
    {
      "cell_type": "code",
      "source": [
        "M = np.zeros([5,5])\n",
        "\n",
        "for i in range(5):\n",
        "  for j in range(5):\n",
        "    M[i,j] = cosine_similarity([pivot_copy.iloc[i,:], pivot_copy.iloc[j,:]])[1][0]\n",
        "\n",
        "print(M)"
      ],
      "metadata": {
        "id": "LCkDpwCb3Ici"
      },
      "execution_count": null,
      "outputs": []
    },
    {
      "cell_type": "code",
      "source": [
        "pivot_copy = pivot_copy - 2.5\n",
        "pivot_copy"
      ],
      "metadata": {
        "id": "KGo2Qq-FnYxj"
      },
      "execution_count": null,
      "outputs": []
    },
    {
      "cell_type": "code",
      "source": [
        "M = np.zeros([5,5])\n",
        "\n",
        "for i in range(5):\n",
        "  for j in range(5):\n",
        "    M[i,j] = cosine_similarity([pivot_copy.iloc[i,:], pivot_copy.iloc[j,:]])[1][0]\n",
        "\n",
        "print(M)"
      ],
      "metadata": {
        "id": "b_z2BC1fn4yp"
      },
      "execution_count": null,
      "outputs": []
    }
  ]
}
