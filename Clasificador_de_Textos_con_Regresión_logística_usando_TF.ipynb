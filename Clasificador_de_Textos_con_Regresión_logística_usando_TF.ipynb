{
  "nbformat": 4,
  "nbformat_minor": 0,
  "metadata": {
    "colab": {
      "provenance": [],
      "collapsed_sections": [],
      "include_colab_link": true
    },
    "kernelspec": {
      "name": "python3",
      "display_name": "Python 3"
    },
    "language_info": {
      "name": "python"
    },
    "accelerator": "GPU"
  },
  "cells": [
    {
      "cell_type": "markdown",
      "metadata": {
        "id": "view-in-github",
        "colab_type": "text"
      },
      "source": [
        "<a href=\"https://colab.research.google.com/github/anelglvz/ML-AI-for-the-Working-Analyst/blob/main/Clasificador_de_Textos_con_Regresi%C3%B3n_log%C3%ADstica_usando_TF.ipynb\" target=\"_parent\"><img src=\"https://colab.research.google.com/assets/colab-badge.svg\" alt=\"Open In Colab\"/></a>"
      ]
    },
    {
      "cell_type": "markdown",
      "metadata": {
        "id": "-URr6ioO31Je"
      },
      "source": [
        "# Cargar Bibliotecas"
      ]
    },
    {
      "cell_type": "code",
      "metadata": {
        "id": "KXjUiWkiUQQA"
      },
      "source": [
        "import numpy as np\n",
        "import pandas as pd\n",
        "import re\n",
        "\n",
        "import nltk\n",
        "from nltk.corpus import stopwords\n",
        "from nltk.stem import PorterStemmer\n",
        "\n",
        "from sklearn.feature_extraction.text import TfidfVectorizer\n",
        "from sklearn.model_selection import train_test_split\n",
        "\n",
        "from sklearn.metrics import mean_squared_error\n",
        "\n",
        "\n",
        "nltk.download('stopwords')"
      ],
      "execution_count": null,
      "outputs": []
    },
    {
      "cell_type": "code",
      "metadata": {
        "id": "R_qNtUcq4MQN"
      },
      "source": [
        "datos =datos=pd.read_csv('https://raw.githubusercontent.com/AnIsAsPe/ElementosEstadisticaMachineLearningPython/master/Semana8/spam_ham_dataset.csv',\n",
        "                  usecols=['text','label_num'] )\n",
        "datos.columns=['text','spam']\n",
        "\n",
        "print(datos.shape)\n",
        "datos.head()"
      ],
      "execution_count": null,
      "outputs": []
    },
    {
      "cell_type": "code",
      "metadata": {
        "id": "WEq5tt2N41nW"
      },
      "source": [
        "datos['spam'].value_counts()"
      ],
      "execution_count": null,
      "outputs": []
    },
    {
      "cell_type": "markdown",
      "metadata": {
        "id": "B10uYOdPAm2-"
      },
      "source": [
        "## Preprocesamiento de textos"
      ]
    },
    {
      "cell_type": "code",
      "metadata": {
        "id": "7k_x2WD3-iZ6"
      },
      "source": [
        "def preprocesar(texto):\n",
        "  #convierte a minúsculas\n",
        "  texto = (texto).lower()\n",
        "\n",
        "  #elimina stopwords + 'subject'\n",
        "  stop = re.compile(r'\\b(' + r'|'.join(stopwords.words('english')+(['subject'])) + r')\\b\\s*')\n",
        "  texto = stop.sub('', texto) \n",
        "\n",
        "  #quita puntuaciones y números\n",
        "  texto = re.sub('[^a-z]+', ' ', texto)\n",
        "\n",
        "  #lematizar y quedarnos con palabras que tengan más de tres caracteres\n",
        "  st = PorterStemmer()\n",
        "  texto = texto.split()\n",
        "  texto = ' '.join([st.stem(i) for i in texto])\n",
        "  \n",
        "  return(texto)"
      ],
      "execution_count": null,
      "outputs": []
    },
    {
      "cell_type": "code",
      "metadata": {
        "id": "d5NaISfg6op2"
      },
      "source": [
        "datos['text_pp'] = datos['text'].apply(preprocesar)\n",
        "datos"
      ],
      "execution_count": null,
      "outputs": []
    },
    {
      "cell_type": "markdown",
      "metadata": {
        "id": "ihnhEfR9AsD1"
      },
      "source": [
        "# Vectorización de Texto mediante BOW"
      ]
    },
    {
      "cell_type": "code",
      "source": [
        "tfidf = TfidfVectorizer(min_df=3)\n",
        "mdt_tfidf = tfidf.fit_transform(datos['text_pp']) \n",
        "palabras = tfidf.get_feature_names()\n",
        "MDT = pd.DataFrame(mdt_tfidf.todense(), \n",
        "                              index=datos.index, \n",
        "                              columns=palabras)\n",
        "print(MDT.shape)\n",
        "MDT"
      ],
      "metadata": {
        "id": "eAbFhCTMT_lV"
      },
      "execution_count": null,
      "outputs": []
    },
    {
      "cell_type": "markdown",
      "metadata": {
        "id": "bcpeYCyCAws2"
      },
      "source": [
        "# Dividir conjunto de entrenamiento y prueba"
      ]
    },
    {
      "cell_type": "code",
      "metadata": {
        "id": "JhP0EnQSBEv0"
      },
      "source": [
        "X = mdt_tfidf.todense()\n",
        "y = datos['spam']\n"
      ],
      "execution_count": null,
      "outputs": []
    },
    {
      "cell_type": "code",
      "metadata": {
        "id": "P5cxknURA7oM"
      },
      "source": [
        "X_train, X_test , y_train, y_test = train_test_split(X, y, test_size=0.2,  \n",
        "                                                     random_state=3)"
      ],
      "execution_count": null,
      "outputs": []
    },
    {
      "cell_type": "code",
      "metadata": {
        "id": "YXPtxsn9DDmY"
      },
      "source": [
        "#Conjunto de entrenamiento\n",
        "X_train.shape, y_train.shape"
      ],
      "execution_count": null,
      "outputs": []
    },
    {
      "cell_type": "code",
      "metadata": {
        "id": "9m7lzaudDS4m"
      },
      "source": [
        "#Conjunto de prueba\n",
        "X_test.shape, y_test.shape"
      ],
      "execution_count": null,
      "outputs": []
    },
    {
      "cell_type": "markdown",
      "metadata": {
        "id": "5UHJqliwDqm3"
      },
      "source": [
        "# Diseño del modelo de red neuronal usando TensorFlow"
      ]
    },
    {
      "cell_type": "code",
      "metadata": {
        "id": "qjgqDLdOUi1r"
      },
      "source": [
        "import tensorflow as tf  \n",
        "print(tf.__version__)"
      ],
      "execution_count": null,
      "outputs": []
    },
    {
      "cell_type": "code",
      "source": [
        "tf.random.set_seed(8)"
      ],
      "metadata": {
        "id": "fWYPpWFWzKzh"
      },
      "execution_count": null,
      "outputs": []
    },
    {
      "cell_type": "markdown",
      "metadata": {
        "id": "uPAq3gAuWX3Z"
      },
      "source": [
        "\n",
        "\n",
        "TensorFlow y Keras, ambos proyectos para el aprendizaje profundo,tienen una historia entrelazada. Keras era un conjunto de abstracciones que facilita el aprendizaje profundo, pero necesitada de un backend, desde la versión de Keras v1.1.0 TensorFlow fue el backend predeterminado (antes era Theano).\n",
        "\n",
        "A partir del lanzamiento de TensorFlow a mediados de 2019, Keras es ahora la API de alto nivel de TensorFlow para facilitar el diseño y entrenamiento de modelos rápidos y fáciles.  \n",
        "\n",
        "[Video sobre TensorFlow 2.0](https://www.youtube.com/watch?v=EqWsPO8DVXk)"
      ]
    },
    {
      "cell_type": "code",
      "metadata": {
        "id": "QKxI5MTNQ29i"
      },
      "source": [
        "model = tf.keras.Sequential([                     # https://www.tensorflow.org/guide/keras/sequential_model\n",
        "                             \n",
        "        tf.keras.Input(shape=(X.shape[1],)),              # El número de neuronas en la capa de entrada es igual al número de características o dimensiones en los datos. \n",
        "    \n",
        "        tf.keras.layers.Dense(                       \n",
        "                              1,                     # dimensiones de salida\n",
        "                              activation='sigmoid',  # función de activación  https://www.tensorflow.org/api_docs/python/tf/keras/activations\n",
        "                              name=\"layer_1\"         # nombre de la capa\n",
        "\n",
        "                              )\n",
        "])\n",
        "model.summary()"
      ],
      "execution_count": null,
      "outputs": []
    },
    {
      "cell_type": "markdown",
      "source": [
        "### Alternativas para inicializar una red Secuencial"
      ],
      "metadata": {
        "id": "PoA14qd4I49w"
      }
    },
    {
      "cell_type": "markdown",
      "metadata": {
        "id": "RKD8TCnERdjN"
      },
      "source": [
        "Una alternativa para establecer las dimensiones de entrada en la primera capa es utilizar el parámetro `input_shape`"
      ]
    },
    {
      "cell_type": "code",
      "metadata": {
        "id": "fSAJv-bJUoNn"
      },
      "source": [
        "model = tf.keras.Sequential([\n",
        "    \n",
        "          tf.keras.layers.Dense(1, \n",
        "                                input_shape = (X.shape[1],),      # dimensiones de la entrada  \n",
        "                                activation='sigmoid',             # para la regresión logística\n",
        "                                name=\"layer_1\"                    # nombre de la capa\n",
        "                                ),\n",
        "])\n",
        "model.summary()"
      ],
      "execution_count": null,
      "outputs": []
    },
    {
      "cell_type": "markdown",
      "metadata": {
        "id": "CHjpA_I3P92N"
      },
      "source": [
        "Otra manera de construir un modelo secuencial es declararlo y a continuación añadir capas utilizando el método `add`"
      ]
    },
    {
      "cell_type": "code",
      "metadata": {
        "id": "75thWRxDPzBh"
      },
      "source": [
        "model = tf.keras.Sequential()\n",
        "    \n",
        "model.add(tf.keras.Input(shape=(X.shape[1],)))\n",
        "\n",
        "model.add(tf.keras.layers.Dense(1,\n",
        "                                  activation='sigmoid',        # para la regresión logística\n",
        "                                  name=\"layer_1\"   \n",
        "                                 ))\n",
        "model.summary()"
      ],
      "execution_count": null,
      "outputs": []
    },
    {
      "cell_type": "markdown",
      "source": [
        "Que es lo mismo a:"
      ],
      "metadata": {
        "id": "q7NV9EbhKcn7"
      }
    },
    {
      "cell_type": "code",
      "source": [
        "model = tf.keras.Sequential()\n",
        "\n",
        "model.add(tf.keras.layers.Dense(1,\n",
        "                                  input_shape = (X.shape[1],),\n",
        "                                  activation='sigmoid',        # para la regresión logística\n",
        "                                  name=\"layer_1\"   \n",
        "                                 ))\n",
        "model.summary()"
      ],
      "metadata": {
        "id": "7vC3O9TwKJ8p"
      },
      "execution_count": null,
      "outputs": []
    },
    {
      "cell_type": "markdown",
      "source": [
        "### Añadir y borrar capas, consultar número de capas de la red y  visualizar modelo,"
      ],
      "metadata": {
        "id": "2f-krGSoJRwY"
      }
    },
    {
      "cell_type": "code",
      "metadata": {
        "id": "tAxKjodjP6Kk"
      },
      "source": [
        "model.add(tf.keras.layers.Dense(1,\n",
        "                                  activation='sigmoid',       \n",
        "                                  name=\"layer_2\")  \n",
        "                                  )\n",
        "model.summary()"
      ],
      "execution_count": null,
      "outputs": []
    },
    {
      "cell_type": "code",
      "metadata": {
        "id": "rcvcyUIKPYdl"
      },
      "source": [
        "len(model.layers)  # layers es un atributo del modelo que regresa una lista con las capas del modelo"
      ],
      "execution_count": null,
      "outputs": []
    },
    {
      "cell_type": "code",
      "metadata": {
        "id": "uCQHIuKbRp_r"
      },
      "source": [
        "tf.keras.utils.plot_model( \n",
        "    model,\n",
        "    to_file=\"model.png\",\n",
        "    show_shapes=True,\n",
        "    show_dtype=False,\n",
        "    show_layer_names=True,\n",
        "    rankdir=\"LR\",\n",
        "    dpi=96,\n",
        ")"
      ],
      "execution_count": null,
      "outputs": []
    },
    {
      "cell_type": "markdown",
      "source": [
        "Para borrar la última capa"
      ],
      "metadata": {
        "id": "HTKKVeUPLhBf"
      }
    },
    {
      "cell_type": "code",
      "metadata": {
        "id": "LJS9U_j2PVeU"
      },
      "source": [
        "\n",
        "model.pop()    # borra la última capa\n",
        "print(len(model.layers))\n",
        "model.summary()\n"
      ],
      "execution_count": null,
      "outputs": []
    },
    {
      "cell_type": "markdown",
      "metadata": {
        "id": "bEj4kqqjNfRW"
      },
      "source": [
        "##<h2>Entrenamiento y validación\n",
        "\n",
        "Despues de construir la red neuronal se debe configurar el proceso de entrenamiento utilizando el metodo `compile()`\n"
      ]
    },
    {
      "cell_type": "code",
      "metadata": {
        "id": "jUXjspeTIoEE"
      },
      "source": [
        "model.compile(optimizer='adam',             # el optimizador sirve para encontrar los pesos que minimizan la función de pérdida\n",
        "                                            # adam: stochastic gradient descent adaptativo\n",
        "                                            # https://keras.io/api/optimizers/adam/\n",
        "              \n",
        "              loss='binary_crossentropy',   # función que evalua que tan bien el algoritmo modela el conjunto de datos\n",
        "                                            # https://keras.io/api/losses/\n",
        "              \n",
        "              metrics=['accuracy']\n",
        "              )\n"
      ],
      "execution_count": null,
      "outputs": []
    },
    {
      "cell_type": "markdown",
      "source": [
        "Para entrenar el módelo utilizamos el método `fit()` "
      ],
      "metadata": {
        "id": "CjNAquJefitL"
      }
    },
    {
      "cell_type": "markdown",
      "source": [
        "el parámetro epoch se puede usar para buscar minimizar el error, aunque también podemos caer en sobreajuste"
      ],
      "metadata": {
        "id": "wZzOxCgwh8no"
      }
    },
    {
      "cell_type": "code",
      "metadata": {
        "id": "Oh8UVTGfj05x"
      },
      "source": [
        "model.fit( X_train, y_train,\n",
        "          epochs=10,         # número de iteraciones sobre los datos (epocas)\n",
        "          )"
      ],
      "execution_count": null,
      "outputs": []
    },
    {
      "cell_type": "markdown",
      "source": [
        "El 130/130 que vemos es el resultado redondeado hacia arriba, de dividir el número de registros en el conjunto de entrenamiento entre 32, que es el parámetro por defaul para batch_size"
      ],
      "metadata": {
        "id": "liMM5qN3h9-o"
      }
    },
    {
      "cell_type": "code",
      "source": [
        "# batch_size\n",
        "X_train.shape[0]/32"
      ],
      "metadata": {
        "id": "MDquaJfihdEa"
      },
      "execution_count": null,
      "outputs": []
    },
    {
      "cell_type": "markdown",
      "metadata": {
        "id": "AgfMP_nFUQs8"
      },
      "source": [
        "# Red neuronal de clasificación con más de una capa"
      ]
    },
    {
      "cell_type": "code",
      "metadata": {
        "id": "keYY20FtbWiy"
      },
      "source": [
        "model = tf.keras.Sequential()\n",
        "    \n",
        "model.add((tf.keras.layers.InputLayer(input_shape=(X.shape[1],))))\n",
        "\n",
        "model.add(tf.keras.layers.Dense((2/3 * X.shape[1]  + 1 ), activation='relu',name=\"hidden_layer_1\" ))\n",
        "\n",
        "model.add(tf.keras.layers.Dense(1,activation='sigmoid', name=\"output_layer\" ))\n",
        "\n",
        "\n",
        "\n",
        "model.summary()"
      ],
      "execution_count": null,
      "outputs": []
    },
    {
      "cell_type": "code",
      "source": [
        "print(10377*6918) #Parámetros para la primera capa\n",
        "print(71788086+6918) #Sumamos los sesgos\n",
        "print('Numero de parámetros:', model.count_params() ) #Solo se le suma el último sesgo"
      ],
      "metadata": {
        "id": "f5ag7Cfxr52y"
      },
      "execution_count": null,
      "outputs": []
    },
    {
      "cell_type": "code",
      "metadata": {
        "id": "_gWCVSisk_cK"
      },
      "source": [
        "tf.keras.utils.plot_model( \n",
        "    model,\n",
        "    to_file=\"model.png\",\n",
        "    show_shapes=True,\n",
        "    show_dtype=False,\n",
        "    show_layer_names=True,\n",
        "    rankdir=\"LR\",\n",
        "    dpi=96,\n",
        ")"
      ],
      "execution_count": null,
      "outputs": []
    },
    {
      "cell_type": "code",
      "metadata": {
        "id": "gDdoPn6he4P-"
      },
      "source": [
        "model.compile(optimizer='adam',             # stochastic gradient descent adaptativo\n",
        "                                            # https://keras.io/api/optimizers/adam/\n",
        "              \n",
        "              loss='binary_crossentropy',   # función objetivo  que se busca minimizar\n",
        "                                            # https://keras.io/api/losses/\n",
        "              \n",
        "              metrics=['accuracy']\n",
        "              )\n",
        "model.fit(X_train, y_train,\n",
        "          epochs=5, \n",
        "          )"
      ],
      "execution_count": null,
      "outputs": []
    },
    {
      "cell_type": "code",
      "source": [
        "model.predict(X_test)"
      ],
      "metadata": {
        "id": "iDkC8v8LWAlK"
      },
      "execution_count": null,
      "outputs": []
    },
    {
      "cell_type": "code",
      "source": [
        "y_test"
      ],
      "metadata": {
        "id": "tV_fTBNOWIN7"
      },
      "execution_count": null,
      "outputs": []
    },
    {
      "cell_type": "code",
      "source": [
        "#Obtenemos el MSE\n",
        "mean_squared_error(model.predict(X_test),y_test)"
      ],
      "metadata": {
        "id": "HZaPH7XqWg_2"
      },
      "execution_count": null,
      "outputs": []
    },
    {
      "cell_type": "markdown",
      "metadata": {
        "id": "0RxZCrHva61q"
      },
      "source": [
        "# Referencia:\n",
        "\n",
        "1. Keras vs. tf.keras: What’s the difference in TensorFlow 2.0? [Internet]. PyImageSearch. 2019 [citado 20 de julio de 2021]. Disponible en: https://www.pyimagesearch.com/2019/10/21/keras-vs-tf-keras-whats-the-difference-in-tensorflow-2-0/\n",
        "\n",
        "1. Krishnan S. How to determine the number of layers and neurons in the hidden layer? [Internet]. Geek Culture. 2021 [citado 25 de abril de 2022]. Disponible en: https://medium.com/geekculture/introduction-to-neural-network-2f8b8221fbd3\n",
        "\n"
      ]
    }
  ]
}