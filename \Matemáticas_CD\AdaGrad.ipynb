{
  "nbformat": 4,
  "nbformat_minor": 0,
  "metadata": {
    "colab": {
      "provenance": [],
      "authorship_tag": "ABX9TyPGjiYp09y6tYf1Z4MXj5NB",
      "include_colab_link": true
    },
    "kernelspec": {
      "name": "python3",
      "display_name": "Python 3"
    },
    "language_info": {
      "name": "python"
    }
  },
  "cells": [
    {
      "cell_type": "markdown",
      "metadata": {
        "id": "view-in-github",
        "colab_type": "text"
      },
      "source": [
        "<a href=\"https://colab.research.google.com/github/anelglvz/Working-Analyst/blob/main/%5CMatem%C3%A1ticas_CD%5CAdaGrad.ipynb\" target=\"_parent\"><img src=\"https://colab.research.google.com/assets/colab-badge.svg\" alt=\"Open In Colab\"/></a>"
      ]
    },
    {
      "cell_type": "markdown",
      "source": [
        "# The adaptive subgradient method"
      ],
      "metadata": {
        "id": "wIGxgO710MCd"
      }
    },
    {
      "cell_type": "markdown",
      "source": [
        "Adaptive Gradients, o AdaGrad para abreviar, es una extensión del algoritmo de optimización de descenso de gradiente que permite que el tamaño de paso en cada dimensión utilizada por el algoritmo de optimización se adapte automáticamente en función de los gradientes vistos para la variable (derivadas parciales) vistas durante el curso de la busqueda.\n"
      ],
      "metadata": {
        "id": "vN0oop3K0hCs"
      }
    },
    {
      "cell_type": "code",
      "execution_count": null,
      "metadata": {
        "id": "qce7Nc3IzK1W"
      },
      "outputs": [],
      "source": [
        "import numpy as np\n",
        "import matplotlib.pyplot as plt\n",
        "import pandas as pd"
      ]
    },
    {
      "cell_type": "code",
      "source": [
        "# Solo para que al mostrarnos los arreglos no nos de los valores grandes en notación científica\n",
        "np.set_printoptions(suppress=True)"
      ],
      "metadata": {
        "id": "xkvriNof5vV1"
      },
      "execution_count": null,
      "outputs": []
    },
    {
      "cell_type": "code",
      "source": [
        "def gradient_descent(gradient, start, learn_rate, n_iter=50):\n",
        "    vector = start\n",
        "    vectoraux = [start]\n",
        "    for _ in range(n_iter):\n",
        "        vector = vector - learn_rate * gradient(vector)\n",
        "        vectoraux.append(vector)\n",
        "    return np.array(vectoraux)"
      ],
      "metadata": {
        "id": "j6dcQ0hqrrzK"
      },
      "execution_count": null,
      "outputs": []
    },
    {
      "cell_type": "code",
      "source": [
        "fun1 = lambda x: x**2"
      ],
      "metadata": {
        "id": "nCPSxbZX0ODa"
      },
      "execution_count": null,
      "outputs": []
    },
    {
      "cell_type": "code",
      "source": [
        "res = gradient_descent(\n",
        "    gradient=lambda v: 2 * v, start=10.0, learn_rate=0.2\n",
        ")\n",
        "res"
      ],
      "metadata": {
        "colab": {
          "base_uri": "https://localhost:8080/"
        },
        "id": "AtqNhZjXr2RY",
        "outputId": "ba7ebade-d0b9-44eb-c4d6-510e1dac567b"
      },
      "execution_count": null,
      "outputs": [
        {
          "output_type": "execute_result",
          "data": {
            "text/plain": [
              "array([10.        ,  6.        ,  3.6       ,  2.16      ,  1.296     ,\n",
              "        0.7776    ,  0.46656   ,  0.279936  ,  0.1679616 ,  0.10077696,\n",
              "        0.06046618,  0.03627971,  0.02176782,  0.01306069,  0.00783642,\n",
              "        0.00470185,  0.00282111,  0.00169267,  0.0010156 ,  0.00060936,\n",
              "        0.00036562,  0.00021937,  0.00013162,  0.00007897,  0.00004738,\n",
              "        0.00002843,  0.00001706,  0.00001023,  0.00000614,  0.00000368,\n",
              "        0.00000221,  0.00000133,  0.0000008 ,  0.00000048,  0.00000029,\n",
              "        0.00000017,  0.0000001 ,  0.00000006,  0.00000004,  0.00000002,\n",
              "        0.00000001,  0.00000001,  0.        ,  0.        ,  0.        ,\n",
              "        0.        ,  0.        ,  0.        ,  0.        ,  0.        ,\n",
              "        0.        ])"
            ]
          },
          "metadata": {},
          "execution_count": 5
        }
      ]
    },
    {
      "cell_type": "code",
      "source": [
        "xaux = np.linspace(-15,15,1000)\n",
        "yaux = fun1(xaux)\n",
        "\n",
        "plt.plot(xaux,yaux)\n",
        "plt.scatter(res,fun1(res), s = 30, c='green')\n",
        "plt.plot(res,fun1(res), color='green')\n",
        "plt.show()"
      ],
      "metadata": {
        "colab": {
          "base_uri": "https://localhost:8080/",
          "height": 265
        },
        "id": "LgH7Mtq7s9JL",
        "outputId": "3ab741d6-89c1-425d-bddc-fb804f40eced"
      },
      "execution_count": null,
      "outputs": [
        {
          "output_type": "display_data",
          "data": {
            "text/plain": [
              "<Figure size 432x288 with 1 Axes>"
            ],
            "image/png": "[encoded data removed]"
          },
          "metadata": {
            "needs_background": "light"
          }
        }
      ]
    },
    {
      "cell_type": "code",
      "source": [
        "res = gradient_descent(\n",
        "    gradient=lambda v: 2 * v, start=10.0, learn_rate=0.8\n",
        ")\n",
        "res"
      ],
      "metadata": {
        "colab": {
          "base_uri": "https://localhost:8080/"
        },
        "id": "6mAynejVxk7K",
        "outputId": "c5550cab-90f4-4377-cd02-9d10ef517219"
      },
      "execution_count": null,
      "outputs": [
        {
          "output_type": "execute_result",
          "data": {
            "text/plain": [
              "array([10.        , -6.        ,  3.6       , -2.16      ,  1.296     ,\n",
              "       -0.7776    ,  0.46656   , -0.279936  ,  0.1679616 , -0.10077696,\n",
              "        0.06046618, -0.03627971,  0.02176782, -0.01306069,  0.00783642,\n",
              "       -0.00470185,  0.00282111, -0.00169267,  0.0010156 , -0.00060936,\n",
              "        0.00036562, -0.00021937,  0.00013162, -0.00007897,  0.00004738,\n",
              "       -0.00002843,  0.00001706, -0.00001023,  0.00000614, -0.00000368,\n",
              "        0.00000221, -0.00000133,  0.0000008 , -0.00000048,  0.00000029,\n",
              "       -0.00000017,  0.0000001 , -0.00000006,  0.00000004, -0.00000002,\n",
              "        0.00000001, -0.00000001,  0.        , -0.        ,  0.        ,\n",
              "       -0.        ,  0.        , -0.        ,  0.        , -0.        ,\n",
              "        0.        ])"
            ]
          },
          "metadata": {},
          "execution_count": 11
        }
      ]
    },
    {
      "cell_type": "code",
      "source": [
        "xaux = np.linspace(-15,15,1000)\n",
        "yaux = fun1(xaux)\n",
        "\n",
        "plt.plot(xaux,yaux)\n",
        "plt.scatter(res,fun1(res), s = 30, c='green')\n",
        "plt.plot(res,fun1(res), color='green')\n",
        "plt.show()"
      ],
      "metadata": {
        "colab": {
          "base_uri": "https://localhost:8080/",
          "height": 265
        },
        "id": "8-8Ed62rxop-",
        "outputId": "b189b6ba-8d70-47e4-b403-48008c456b20"
      },
      "execution_count": null,
      "outputs": [
        {
          "output_type": "display_data",
          "data": {
            "text/plain": [
              "<Figure size 432x288 with 1 Axes>"
            ],
            "image/png": "[encoded data removed]"
          },
          "metadata": {
            "needs_background": "light"
          }
        }
      ]
    },
    {
      "cell_type": "code",
      "source": [
        "res = gradient_descent(\n",
        "    gradient=lambda v: 2 * v, start=10.0, learn_rate=0.005\n",
        ")\n",
        "res"
      ],
      "metadata": {
        "colab": {
          "base_uri": "https://localhost:8080/"
        },
        "id": "G_aswzx8xuvw",
        "outputId": "cfd51f81-f1b8-4235-abf3-a89f26708b78"
      },
      "execution_count": null,
      "outputs": [
        {
          "output_type": "execute_result",
          "data": {
            "text/plain": [
              "array([10.        ,  9.9       ,  9.801     ,  9.70299   ,  9.6059601 ,\n",
              "        9.5099005 ,  9.41480149,  9.32065348,  9.22744694,  9.13517247,\n",
              "        9.04382075,  8.95338254,  8.86384872,  8.77521023,  8.68745813,\n",
              "        8.60058355,  8.51457771,  8.42943193,  8.34513761,  8.26168624,\n",
              "        8.17906938,  8.09727868,  8.0163059 ,  7.93614284,  7.85678141,\n",
              "        7.77821359,  7.70043146,  7.62342714,  7.54719287,  7.47172094,\n",
              "        7.39700373,  7.3230337 ,  7.24980336,  7.17730533,  7.10553227,\n",
              "        7.03447695,  6.96413218,  6.89449086,  6.82554595,  6.75729049,\n",
              "        6.68971759,  6.62282041,  6.55659221,  6.49102628,  6.42611602,\n",
              "        6.36185486,  6.29823631,  6.23525395,  6.17290141,  6.1111724 ,\n",
              "        6.05006067])"
            ]
          },
          "metadata": {},
          "execution_count": 13
        }
      ]
    },
    {
      "cell_type": "code",
      "source": [
        "xaux = np.linspace(-15,15,1000)\n",
        "yaux = fun1(xaux)\n",
        "\n",
        "plt.plot(xaux,yaux)\n",
        "plt.scatter(res,fun1(res), s = 30, c='green')\n",
        "plt.plot(res,fun1(res), color='green')\n",
        "plt.show()"
      ],
      "metadata": {
        "colab": {
          "base_uri": "https://localhost:8080/",
          "height": 265
        },
        "id": "I_vyU3Yzx0ad",
        "outputId": "a5b5e518-b602-4e1a-e14b-2c770cbfe71f"
      },
      "execution_count": null,
      "outputs": [
        {
          "output_type": "display_data",
          "data": {
            "text/plain": [
              "<Figure size 432x288 with 1 Axes>"
            ],
            "image/png": "[encoded data removed]"
          },
          "metadata": {
            "needs_background": "light"
          }
        }
      ]
    },
    {
      "cell_type": "markdown",
      "source": [
        "Otro ejemplo"
      ],
      "metadata": {
        "id": "Jlm5UvaV02vB"
      }
    },
    {
      "cell_type": "code",
      "source": [
        "fun2 = lambda x: x**4-5*x**2-3*x"
      ],
      "metadata": {
        "id": "-jyKiFOR04l_"
      },
      "execution_count": null,
      "outputs": []
    },
    {
      "cell_type": "code",
      "source": [
        "res = gradient_descent(\n",
        "    gradient=lambda v: 4 * v**3 - 10 * v - 3, start=0,\n",
        "    learn_rate=0.2\n",
        ")\n",
        "res"
      ],
      "metadata": {
        "colab": {
          "base_uri": "https://localhost:8080/"
        },
        "id": "gGk5XERSyZYP",
        "outputId": "8f43cd97-81f8-4b11-cba2-879f14d21cdf"
      },
      "execution_count": null,
      "outputs": [
        {
          "output_type": "execute_result",
          "data": {
            "text/plain": [
              "array([ 0.        ,  0.6       ,  2.2272    , -1.55667765, -1.05226349,\n",
              "       -1.62468836, -0.84322723, -1.45003235, -1.31103381, -1.53036738,\n",
              "       -1.12377604, -1.63597936, -0.80507271, -1.39777694, -1.4085715 ,\n",
              "       -1.38994681, -1.42159187, -1.36643294, -1.45824266, -1.29399864,\n",
              "       -1.54862524, -1.07469555, -1.6310933 , -0.82170612, -1.42126496,\n",
              "       -1.36703744, -1.45734612, -1.29588172, -1.54669604, -1.07999818,\n",
              "       -1.63223003, -0.81785309, -1.41592041, -1.37681677, -1.44250831,\n",
              "       -1.32623301, -1.5125364 , -1.16934528, -1.62889523, -0.82912795,\n",
              "       -1.43139455, -1.34796725, -1.48447962, -1.23638473, -1.59715734,\n",
              "       -0.9321063 , -1.54845122, -1.07517501, -1.63120206, -0.82133791,\n",
              "       -1.42075674])"
            ]
          },
          "metadata": {},
          "execution_count": 16
        }
      ]
    },
    {
      "cell_type": "code",
      "source": [
        "xaux = np.linspace(-3,3,1000)\n",
        "yaux = fun2(xaux)\n",
        "\n",
        "plt.plot(xaux,yaux)\n",
        "plt.scatter(res,fun2(res), s = 30, c='green')\n",
        "plt.plot(res,fun2(res), color='green')\n",
        "plt.show()"
      ],
      "metadata": {
        "colab": {
          "base_uri": "https://localhost:8080/",
          "height": 265
        },
        "id": "nA5OqlUiyc_F",
        "outputId": "80597b95-7af8-4294-be4a-54f4235fc720"
      },
      "execution_count": null,
      "outputs": [
        {
          "output_type": "display_data",
          "data": {
            "text/plain": [
              "<Figure size 432x288 with 1 Axes>"
            ],
            "image/png": "[encoded data removed]"
          },
          "metadata": {
            "needs_background": "light"
          }
        }
      ]
    },
    {
      "cell_type": "code",
      "source": [
        "res = gradient_descent(\n",
        "    gradient=lambda v: 4 * v**3 - 10 * v - 3, start=0,\n",
        "    learn_rate=0.1\n",
        ")\n",
        "res"
      ],
      "metadata": {
        "colab": {
          "base_uri": "https://localhost:8080/"
        },
        "id": "PQTYUn5M1Lfk",
        "outputId": "d6923029-2dfe-41dd-9aca-9dc6808686bf"
      },
      "execution_count": null,
      "outputs": [
        {
          "output_type": "execute_result",
          "data": {
            "text/plain": [
              "array([0.        , 0.3       , 0.8892    , 1.79717213, 1.57252175,\n",
              "       1.88961528, 1.38037174, 2.00866492, 1.07555776, 1.9534229 ,\n",
              "       1.22524968, 2.01474341, 1.05819549, 1.9424135 , 1.2533597 ,\n",
              "       2.01915302, 1.04548833, 1.93386999, 1.27478408, 2.02092054,\n",
              "       1.04036841, 1.93031288, 1.28360419, 2.02124148, 1.03943713,\n",
              "       1.92965883, 1.28521959, 2.02127434, 1.03934175, 1.92959171,\n",
              "       1.28538523, 2.02127726, 1.03933329, 1.92958576, 1.28539992,\n",
              "       2.02127751, 1.03933255, 1.92958524, 1.28540121, 2.02127754,\n",
              "       1.03933249, 1.9295852 , 1.28540132, 2.02127754, 1.03933248,\n",
              "       1.92958519, 1.28540133, 2.02127754, 1.03933248, 1.92958519,\n",
              "       1.28540133])"
            ]
          },
          "metadata": {},
          "execution_count": 18
        }
      ]
    },
    {
      "cell_type": "code",
      "source": [
        "xaux = np.linspace(-3,3,1000)\n",
        "yaux = fun2(xaux)\n",
        "\n",
        "plt.plot(xaux,yaux)\n",
        "plt.scatter(res,fun2(res), s = 30, c='green')\n",
        "plt.plot(res,fun2(res), color='green')\n",
        "plt.show()"
      ],
      "metadata": {
        "colab": {
          "base_uri": "https://localhost:8080/",
          "height": 265
        },
        "id": "5XfetzXq1VKb",
        "outputId": "9e0334e6-4237-4a4f-d2c8-f4f96b00d8a0"
      },
      "execution_count": null,
      "outputs": [
        {
          "output_type": "display_data",
          "data": {
            "text/plain": [
              "<Figure size 432x288 with 1 Axes>"
            ],
            "image/png": "[encoded data removed]"
          },
          "metadata": {
            "needs_background": "light"
          }
        }
      ]
    },
    {
      "cell_type": "markdown",
      "source": [
        "Ajustar la tasa de aprendizaje es complicado. No se puede saber el mejor valor por adelantado. Hay muchas técnicas y heurísticas que intentan ayudar con esto, una es AdaGrad."
      ],
      "metadata": {
        "id": "-wIn80ji37gm"
      }
    },
    {
      "cell_type": "markdown",
      "source": [
        "AdaGrad se implementa con:\n",
        "$$ g_t = \\frac{\\partial L}{∂ \\omega} $$\n",
        "$$ s_{t} = s_{t-1} + g_t^2$$\n",
        "actualizamos los parámetros:\n",
        "$$ \\omega_t = \\omega_{t-1} - \\frac{\\eta}{\\epsilon + \\sqrt{s_t}} g_t $$\n"
      ],
      "metadata": {
        "id": "80IKJ_aDZb_g"
      }
    },
    {
      "cell_type": "code",
      "source": [
        "epsilon = 1e-7"
      ],
      "metadata": {
        "id": "TMs63z75bVpH"
      },
      "execution_count": null,
      "outputs": []
    },
    {
      "cell_type": "code",
      "source": [
        "# Ejercicio: Implementar AdaGrad\n",
        "def adagrad_gradient_descent(gradient, start, learn_rate, n_iter=50):\n",
        "    vector = start\n",
        "    vectoraux = [start]\n",
        "    suma = 0\n",
        "    for _ in range(n_iter):\n",
        "        suma += gradient(vector)**2\n",
        "        vector = vector - learn_rate /(epsilon + np.sqrt(suma)) * gradient(vector)\n",
        "        vectoraux.append(vector)\n",
        "    return np.array(vectoraux)"
      ],
      "metadata": {
        "id": "YZ9Jvtswcdhr"
      },
      "execution_count": null,
      "outputs": []
    },
    {
      "cell_type": "code",
      "source": [
        "res = adagrad_gradient_descent(\n",
        "    gradient=lambda v: 4 * v**3 - 10 * v - 3, start=0,\n",
        "    learn_rate=0.2\n",
        ")\n",
        "res"
      ],
      "metadata": {
        "colab": {
          "base_uri": "https://localhost:8080/"
        },
        "id": "yrO4ssm5c8Vd",
        "outputId": "4fa49ba5-dfbc-43bb-e758-6c22ab1d0967"
      },
      "execution_count": null,
      "outputs": [
        {
          "output_type": "execute_result",
          "data": {
            "text/plain": [
              "array([0.        , 0.19999999, 0.37120597, 0.52046979, 0.65228068,\n",
              "       0.76974213, 0.87506252, 0.96986148, 1.0553635 , 1.13252314,\n",
              "       1.20210861, 1.2647591 , 1.3210251 , 1.37139687, 1.41632448,\n",
              "       1.45623142, 1.4915231 , 1.52259149, 1.54981661, 1.57356601,\n",
              "       1.59419279, 1.61203301, 1.62740308, 1.6405975 , 1.65188721,\n",
              "       1.66151876, 1.66971413, 1.67667132, 1.6825654 , 1.68755   ,\n",
              "       1.69175899, 1.69530839, 1.69829818, 1.70081415, 1.70292965,\n",
              "       1.70470719, 1.70619987, 1.70745271, 1.70850382, 1.70938535,\n",
              "       1.71012444, 1.71074395, 1.71126313, 1.71169813, 1.71206256,\n",
              "       1.71236782, 1.7126235 , 1.71283763, 1.71301694, 1.7131671 ,\n",
              "       1.71329283])"
            ]
          },
          "metadata": {},
          "execution_count": 32
        }
      ]
    },
    {
      "cell_type": "code",
      "source": [
        "xaux = np.linspace(-3,3,1000)\n",
        "yaux = fun2(xaux)\n",
        "\n",
        "plt.plot(xaux,yaux)\n",
        "plt.scatter(res,fun2(res), s = 30, c='green')\n",
        "plt.plot(res,fun2(res), color='green')\n",
        "plt.show()"
      ],
      "metadata": {
        "colab": {
          "base_uri": "https://localhost:8080/",
          "height": 265
        },
        "id": "ZA5dX1a6dEFU",
        "outputId": "8c2e5a09-2683-40f9-ae60-73f308926592"
      },
      "execution_count": null,
      "outputs": [
        {
          "output_type": "display_data",
          "data": {
            "text/plain": [
              "<Figure size 432x288 with 1 Axes>"
            ],
            "image/png": "[encoded data removed]"
          },
          "metadata": {
            "needs_background": "light"
          }
        }
      ]
    },
    {
      "cell_type": "markdown",
      "source": [
        "## SGD: Stochastic Gradient Descent\n"
      ],
      "metadata": {
        "id": "UhOfGlnM5OB8"
      }
    },
    {
      "cell_type": "markdown",
      "source": [
        "### Datos"
      ],
      "metadata": {
        "id": "XlvEeFtT50TS"
      }
    },
    {
      "cell_type": "code",
      "source": [
        "from google.colab import drive\n",
        "drive.mount('/content/drive')"
      ],
      "metadata": {
        "colab": {
          "base_uri": "https://localhost:8080/"
        },
        "id": "bjDcv2744B2o",
        "outputId": "1e70f56d-6fff-4041-f247-881ee904a8d5"
      },
      "execution_count": null,
      "outputs": [
        {
          "output_type": "stream",
          "name": "stdout",
          "text": [
            "Mounted at /content/drive\n"
          ]
        }
      ]
    },
    {
      "cell_type": "code",
      "source": [
        "df = pd.read_csv('/content/drive/MyDrive/Curso-Algebra/semana10/pruebas_datos.csv')\n",
        "df"
      ],
      "metadata": {
        "id": "OCwpSqJj56PN"
      },
      "execution_count": null,
      "outputs": []
    },
    {
      "cell_type": "code",
      "source": [
        "df.shape"
      ],
      "metadata": {
        "colab": {
          "base_uri": "https://localhost:8080/"
        },
        "id": "ij1PZWzI6NmB",
        "outputId": "b9c72027-2e87-4de4-c478-3b804aae4e1b"
      },
      "execution_count": null,
      "outputs": [
        {
          "output_type": "execute_result",
          "data": {
            "text/plain": [
              "(50582, 26)"
            ]
          },
          "metadata": {},
          "execution_count": 36
        }
      ]
    },
    {
      "cell_type": "markdown",
      "source": [
        "## Agregando descripción a los datos\n",
        "\n",
        "Los datos son públicos, fueron utilizados en una competencia que pueden consultar [AQUÍ](https://challengedata.ens.fr/participants/challenges/50/) (para poder ingresar necesitarán registrarse y luego copiar la dirección en su navegador). En esta competencia registraron muchas características de \"traders\", para tratar de clasificarlos en HFT (High Frequency Traders) o NON-HFT, esto porque es de gran interes tratar de estudiar el impacto que tienen los HFT en los mercados, ya que lo que hacen es realizar intercambios dando ordenes de intercambio a un mecanismo llamado Limit Order Book (LOB), al cual le ordenan realizar compras o ventas a precios que ellos deseen.\n",
        "\n",
        "## Descripción de las variables\n",
        "1. NbTradeVenueMic (23) : Número de centros de negociación en los que opera el jugador del mercado\n",
        "\n",
        "De todos los centros de negociación, estadísticas sobre el número de operaciones observadas por segundo\n",
        "\n",
        "2. MaxNbTradesBySecond (24)\n",
        "3. MeanNbTradesBySecond (25) \n",
        "\n",
        "Estadísticas sobre el delta de tiempo observado entre dos operaciones en la plataforma de negociación TV_1[1]:\n",
        "\n",
        "4. min_dt_TV1 (26)\n",
        "5. med_dt_TV1 (28)\n",
        "6. mean_dt_TV1 (27)\n",
        "\n",
        "Estadísticas sobre el delta de tiempo observado entre dos operaciones que se producen en la plataforma de negociación TV_1 y luego en la plataforma de negociación TV_2:\n",
        "\n",
        "7. min_dt_TV1_TV2 (29)\n",
        "8. med_dt_TV1_TV2 (31)\n",
        "9. mean_dt_TV1_TV2 (30)\n",
        "\n",
        "Estadísticas sobre el delta de tiempo observado entre dos operaciones que se producen en la plataforma de negociación TV_1 y luego en la plataforma de negociación TV_3:\n",
        "\n",
        "10. min_dt_TV1_TV3 (32)\n",
        "11. med_dt_TV1_TV3 (34)\n",
        "12. mean_dt_TV1_TV3 (33)\n",
        "\n",
        "Estadísticas sobre el delta de tiempo observado entre dos operaciones que se producen en la plataforma de negociación TV_1 y luego en la plataforma de negociación TV_4 :\n",
        "\n",
        "13. min_dt_TV1_TV4 (35)\n",
        "14. med_dt_TV1_TV4 (37)\n",
        "15. mean_dt_TV1_TV4(36)\n",
        "\n",
        "De todos los centros de negociación, número de segundos durante el día de negociación donde se observa al menos una operación del jugador del mercado i\n",
        "\n",
        "16. NbSecondWithAtLeatOneTrade(38)\n",
        "\n",
        "En la plataforma de negociación TV_1, tres proporciones entre el número de todo tipo de eventos[2] enviados a la LOB y:\n",
        "\n",
        "17. el número de operaciones (OTR) (4)\n",
        "18. el número de eventos de tipo cancelación (OCR) (5)\n",
        "19. el número de eventos de tipo de modificación (OMR) (6)\n",
        "\n",
        "En el centro de negociación TV_1, estadísticas durante el delta de tiempo observado entre dos eventos de todo tipo enviados:\n",
        "\n",
        "20. min_time_two_events (7)\n",
        "21. mean_time_two_events (8)\n",
        "22. 10_p_time_two_events (9)\n",
        "23. med_time_two_events (10)\n",
        "24. 25_p_time_two_events (11)\n",
        "25. 75_p_time_two_events (12)\n",
        "26. 90_p_time_two_events (13)\n",
        "27. max_time_two_events (14)\n",
        "\n",
        "En la plataforma de negociación TV_1, estadísticas a lo largo de la vida útil observada de las órdenes canceladas:\n",
        "\n",
        "28. min_lifetime_cancel (15)\n",
        "29. mean_lifetime_cancel (16)\n",
        "30. 10_p_lifetime_cancel (17)\n",
        "31. med_lifetime_cancel (18)\n",
        "32. 25_p_lifetime_cancel (19)\n",
        "33. 75_p_lifetime_cancel (20)\n",
        "34. 90_p_lifetime_cancel (21)\n",
        "35. max_lifetime_cancel (22)\n",
        "\n",
        "Extra variables\n",
        "\n",
        "36. Type: HF, Non HFT (39)\n",
        "37. Day\n",
        "38. Share\n",
        "39. Trader\n",
        "40. Index"
      ],
      "metadata": {
        "id": "duwtE_o06JhG"
      }
    },
    {
      "cell_type": "code",
      "source": [
        "# Los valores 1 son NON-HFT y los 0 son HFT\n",
        "df.type.value_counts()"
      ],
      "metadata": {
        "colab": {
          "base_uri": "https://localhost:8080/"
        },
        "id": "H3Jlzp0E6AOn",
        "outputId": "805eeb98-8c30-44a5-b419-fc582a705f10"
      },
      "execution_count": null,
      "outputs": [
        {
          "output_type": "execute_result",
          "data": {
            "text/plain": [
              "0    30522\n",
              "1    20060\n",
              "Name: type, dtype: int64"
            ]
          },
          "metadata": {},
          "execution_count": 37
        }
      ]
    },
    {
      "cell_type": "code",
      "source": [
        "X_prob = np.array(df.drop(['type'], axis=1))\n",
        "X_prob"
      ],
      "metadata": {
        "colab": {
          "base_uri": "https://localhost:8080/"
        },
        "id": "mlAtiXCx6R0n",
        "outputId": "5391c584-486b-4329-af0d-05516c9c5855"
      },
      "execution_count": null,
      "outputs": [
        {
          "output_type": "execute_result",
          "data": {
            "text/plain": [
              "array([[-0.26413997, -0.17159563, -0.03433358, ...,  2.25730527,\n",
              "         0.21564981, -0.43020348],\n",
              "       [-0.26737141,  0.07195718, -0.03433358, ..., -0.25954205,\n",
              "        -0.25743172, -0.41553282],\n",
              "       [-0.26857105,  0.39219296, -0.03433358, ..., -0.35024783,\n",
              "        -0.25743176, -0.35151541],\n",
              "       ...,\n",
              "       [-0.27045626,  0.9521233 , -0.03433358, ..., -0.07680184,\n",
              "        -0.25668942, -0.41419912],\n",
              "       [-0.27027382,  2.65940442, -0.03433358, ..., -0.27547952,\n",
              "        -0.25713323, -0.3888589 ],\n",
              "       [-0.2702773 ,  0.66275362, -0.03433358, ...,  0.28933079,\n",
              "        -0.25311955, -0.423535  ]])"
            ]
          },
          "metadata": {},
          "execution_count": 38
        }
      ]
    },
    {
      "cell_type": "code",
      "source": [
        "Y_prob = np.array(df['type'])\n",
        "Y_prob"
      ],
      "metadata": {
        "colab": {
          "base_uri": "https://localhost:8080/"
        },
        "id": "YYqf8Fka6Vvr",
        "outputId": "735e2b77-0792-44a0-d463-e64373d637fd"
      },
      "execution_count": null,
      "outputs": [
        {
          "output_type": "execute_result",
          "data": {
            "text/plain": [
              "array([1, 1, 1, ..., 1, 1, 1])"
            ]
          },
          "metadata": {},
          "execution_count": 39
        }
      ]
    },
    {
      "cell_type": "code",
      "source": [
        "num_inputs = 25\n",
        "num_outputs = 2\n",
        "\n",
        "W = np.random.normal(0, 0.1, (num_inputs, num_outputs)) # Jugaremos con este parametro\n",
        "B = np.zeros(num_outputs) # Jugaremos con este parametro"
      ],
      "metadata": {
        "id": "zVLF4C1I6YqV"
      },
      "execution_count": null,
      "outputs": []
    },
    {
      "cell_type": "markdown",
      "source": [
        "La expresión matemática de la función SoftMax es la siguiente:\n",
        "\n",
        "\n",
        "$$ \\mathrm{softmax}(\\mathbf{X})_{ij} = \\frac{\\exp(\\mathbf{X}_{ij})}{\\sum_k \\exp(\\mathbf{X}_{ik})}. $$"
      ],
      "metadata": {
        "id": "1ALGjy406ge4"
      }
    },
    {
      "cell_type": "code",
      "source": [
        "def softmax(X):\n",
        "    X_exp = np.exp(X)\n",
        "    partition = X_exp.sum(1, keepdims=True)\n",
        "    return X_exp / partition"
      ],
      "metadata": {
        "id": "pudTtGHU6fsE"
      },
      "execution_count": null,
      "outputs": []
    },
    {
      "cell_type": "markdown",
      "source": [
        "Si observan con cuidado, pueden ver que con esta operación estamos transformando todas nuestras entradas en números positivos. Mas aún, cada fila suma 1, es decir, la convertimos en una distribución de probabilidad."
      ],
      "metadata": {
        "id": "lifvl_Jf6t8i"
      }
    },
    {
      "cell_type": "code",
      "source": [
        "x = np.random.normal(0, 1, (4, 3))\n",
        "x_prob = softmax(x)\n",
        "x_prob, x_prob.sum(1)"
      ],
      "metadata": {
        "colab": {
          "base_uri": "https://localhost:8080/"
        },
        "id": "8PCT6MMe6p-9",
        "outputId": "a66243bc-7589-4baf-aedc-e018d2033229"
      },
      "execution_count": null,
      "outputs": [
        {
          "output_type": "execute_result",
          "data": {
            "text/plain": [
              "(array([[0.04143736, 0.06621704, 0.89234561],\n",
              "        [0.46849782, 0.34267514, 0.18882704],\n",
              "        [0.14713092, 0.36266028, 0.49020881],\n",
              "        [0.77344969, 0.08446047, 0.14208984]]), array([1., 1., 1., 1.]))"
            ]
          },
          "metadata": {},
          "execution_count": 46
        }
      ]
    },
    {
      "cell_type": "markdown",
      "source": [
        "Ahora podemos definir el modelo como:"
      ],
      "metadata": {
        "id": "56dbWCCq7HGa"
      }
    },
    {
      "cell_type": "code",
      "source": [
        "def net(X,W,b):\n",
        "    return softmax(np.dot(X.reshape((-1, W.shape[0])), W) + b)"
      ],
      "metadata": {
        "id": "5TaehdGc7K7_"
      },
      "execution_count": null,
      "outputs": []
    },
    {
      "cell_type": "markdown",
      "source": [
        "### Función de perdida\n",
        "\n",
        "La función es la Cross-Entropy:\n",
        "$$ -\\sum_{c=1}^My_{o,c}\\log(p_{o,c}), $$\n",
        "\n",
        "donde $M$ es la cantidad de clases que tenemos, $log$ la función de logaritmo natural, $y$ es $0$ o $1$ dependiendo de la etiqueta real de la clase $c$ y por último $p_{o,c}$ es la probabilidad predicha de que la observación $o$ pertenezca a la clase $c$."
      ],
      "metadata": {
        "id": "fYxe7wt-7OyC"
      }
    },
    {
      "cell_type": "code",
      "source": [
        "def cross_entropy(y_hat, y):\n",
        "    return np.sum(- np.log(y_hat[range(len(y_hat)), y])) / y.shape[0]"
      ],
      "metadata": {
        "id": "H2jS2fup7fR4"
      },
      "execution_count": null,
      "outputs": []
    },
    {
      "cell_type": "code",
      "source": [
        "# El resultado final es lo que alimentará a la cross-entropy, es decir etiqueta \n",
        "# de que pertenece a la clase 1 por la probabilidad de pertenecer a la clase 1\n",
        "y = np.array([0, 2])\n",
        "y_hat = np.array([[0.1, 0.3, 0.6], [0.3, 0.2, 0.5]])\n",
        "y_hat[[0, 1], y]"
      ],
      "metadata": {
        "colab": {
          "base_uri": "https://localhost:8080/"
        },
        "id": "YGkN5dbw7pis",
        "outputId": "054344c1-294f-462c-92ef-32adcf9e7454"
      },
      "execution_count": null,
      "outputs": [
        {
          "output_type": "execute_result",
          "data": {
            "text/plain": [
              "array([0.1, 0.5])"
            ]
          },
          "metadata": {},
          "execution_count": 49
        }
      ]
    },
    {
      "cell_type": "code",
      "source": [
        "cross_entropy(y_hat, y)"
      ],
      "metadata": {
        "colab": {
          "base_uri": "https://localhost:8080/"
        },
        "id": "aotKD31Y-_9u",
        "outputId": "c6868758-0b85-4439-da8f-770c102f36b0"
      },
      "execution_count": null,
      "outputs": [
        {
          "output_type": "execute_result",
          "data": {
            "text/plain": [
              "1.4978661367769954"
            ]
          },
          "metadata": {},
          "execution_count": 50
        }
      ]
    },
    {
      "cell_type": "markdown",
      "source": [
        "También podemos considerar el accuracy"
      ],
      "metadata": {
        "id": "gykMzp2d7zn-"
      }
    },
    {
      "cell_type": "code",
      "source": [
        "def accuracy(y_hat, y):\n",
        "    \"\"\"Calcula la cantidad de predicciones correctas.\"\"\"\n",
        "    if len(y_hat.shape) > 1 and y_hat.shape[1] > 1:\n",
        "        y_hat = y_hat.argmax(axis=1)\n",
        "    cmp = y_hat.astype(y.dtype) == y\n",
        "    return float(cmp.astype(y.dtype).sum())/ len(y)"
      ],
      "metadata": {
        "id": "TgG1KaIC74st"
      },
      "execution_count": null,
      "outputs": []
    },
    {
      "cell_type": "code",
      "source": [
        "accuracy(y_hat, y) "
      ],
      "metadata": {
        "colab": {
          "base_uri": "https://localhost:8080/"
        },
        "id": "VuLhJ0cQ777X",
        "outputId": "5e67445a-c0d4-4890-c02f-60313ef8022a"
      },
      "execution_count": null,
      "outputs": [
        {
          "output_type": "execute_result",
          "data": {
            "text/plain": [
              "0.5"
            ]
          },
          "metadata": {},
          "execution_count": 52
        }
      ]
    },
    {
      "cell_type": "markdown",
      "source": [
        "Podemos utilizar Softmax para no tener problemas de tipo overflow"
      ],
      "metadata": {
        "id": "LY9a0hse8HfO"
      }
    },
    {
      "cell_type": "code",
      "source": [
        "# Softmax Estable\n",
        "def stable_softmax(Z):\n",
        "    expZ = np.exp(Z - np.max(Z))\n",
        "    return expZ / expZ.sum(axis=1, keepdims=True)"
      ],
      "metadata": {
        "id": "oOrIX3p98QK8"
      },
      "execution_count": null,
      "outputs": []
    },
    {
      "cell_type": "code",
      "source": [
        "def net_s(X,W,b):\n",
        "    return stable_softmax(np.dot(X.reshape((-1, W.shape[0])), W) + b)"
      ],
      "metadata": {
        "id": "OWiHaYhzznVX"
      },
      "execution_count": null,
      "outputs": []
    },
    {
      "cell_type": "markdown",
      "source": [
        "Para la optimización al minimizar la función de perdida se necesita el gradiente de la misma. ¿Como seria el gradiente de mi función compuesta?\n",
        "\n",
        "$$ \\frac{∂ L}{∂ \\omega_{i_j}} = (\\hat{y_i} - y_i ) x_j $$\n",
        "$$ \\frac{\\partial L}{\\partial b_i} = (\\hat{y_i} - y_i ) $$\n",
        "entonces los pesos se actualizan con\n",
        "\n",
        "$$ \\omega_{ij} = \\omega_{ij} - \\alpha (\\hat{y_i} - y_i ) x_j $$\n",
        "$$ b_{i} = b_i - \\alpha (\\hat{y_i} - y_i ) $$\n"
      ],
      "metadata": {
        "id": "zYELY9078mqf"
      }
    },
    {
      "cell_type": "code",
      "source": [
        "def grad_softmax_cross_entropy_for_w(X, y_true, w, b):\n",
        "    netaux = net_s(X,w,b)\n",
        "\n",
        "    ones_true_class = np.zeros_like(netaux) # Matriz de ceros que tiene la forma de las probabilidades (logits.shape), si alimento todos los datos es 50000X2\n",
        "\n",
        "    ones_true_class[np.arange(len(netaux)),y_true] = 1 # Genera 1 o cero si esta en la clasificacion correcta\n",
        " \n",
        "    softmax_ = netaux # softmax aplicado a mis probabilidades\n",
        "\n",
        "    aux1 = softmax_ - ones_true_class\n",
        "\n",
        "    return X.T @ aux1/X.shape[0]"
      ],
      "metadata": {
        "id": "sgE5Jjmp2Ggf"
      },
      "execution_count": null,
      "outputs": []
    },
    {
      "cell_type": "code",
      "source": [
        "def grad_softmax_cross_entropy_for_b(X, y_true, w, b):\n",
        "    netaux = net_s(X,w,b)\n",
        "\n",
        "    ones_true_class = np.zeros_like(netaux) # Matriz de ceros que tiene la forma de las probabilidades (logits.shape), si alimento todos los datos es 50000X2\n",
        "\n",
        "    ones_true_class[np.arange(len(netaux)),y_true] = 1 # Genera 1 o cero si esta en la clasificacion correcta\n",
        " \n",
        "    softmax_ = netaux # softmax aplicado a mis probabilidades\n",
        "\n",
        "    aux1 = softmax_ - ones_true_class\n",
        "\n",
        "    return aux1.sum(axis=0, keepdims=True)/X.shape[0]"
      ],
      "metadata": {
        "id": "f6a6z5VswVd3"
      },
      "execution_count": null,
      "outputs": []
    },
    {
      "cell_type": "markdown",
      "source": [
        "Veamos un ejemplo"
      ],
      "metadata": {
        "id": "c6PjGQ1QML98"
      }
    },
    {
      "cell_type": "code",
      "source": [
        "x = np.random.normal(0, 1, (2, 5))\n",
        "\n",
        "w = np.random.normal(0, 0.1, (5, 3)) # Jugaremos con este parametro\n",
        "b = np.zeros(3) # Jugaremos con este parametro\n",
        "\n",
        "net_s(x,w,b)"
      ],
      "metadata": {
        "colab": {
          "base_uri": "https://localhost:8080/"
        },
        "id": "3nKqDrfkEtts",
        "outputId": "2d20d2f6-add4-45e8-eaa5-9f5d85c237f4"
      },
      "execution_count": null,
      "outputs": [
        {
          "output_type": "execute_result",
          "data": {
            "text/plain": [
              "array([[0.38229512, 0.21522519, 0.40247969],\n",
              "       [0.26095269, 0.34566521, 0.3933821 ]])"
            ]
          },
          "metadata": {},
          "execution_count": 57
        }
      ]
    },
    {
      "cell_type": "code",
      "source": [
        "w"
      ],
      "metadata": {
        "id": "NqEb6uTuEWb5"
      },
      "execution_count": null,
      "outputs": []
    },
    {
      "cell_type": "code",
      "source": [
        "yaux = [1,2]"
      ],
      "metadata": {
        "id": "xFMBnz8JE8aA"
      },
      "execution_count": null,
      "outputs": []
    },
    {
      "cell_type": "code",
      "source": [
        "netaux = net_s(x[0],w,b)\n",
        "\n",
        "ones_true_class = np.zeros_like(netaux) # Matriz de ceros que tiene la forma de las probabilidades (logits.shape), si alimento todos los datos es 50000X2\n",
        "\n",
        "ones_true_class[np.arange(len(netaux)),yaux[0]] = 1 # Genera 1 o cero si esta en la clasificacion correcta\n",
        " \n",
        "softmax_ = netaux # softmax aplicado a mis probabilidades\n",
        "\n",
        "aux1 = softmax_ - ones_true_class\n",
        "    "
      ],
      "metadata": {
        "id": "BsUHjnCgeQmM"
      },
      "execution_count": null,
      "outputs": []
    },
    {
      "cell_type": "code",
      "source": [
        "#gradiente para w\n",
        "x[0].reshape(-1,1) @ aux1 / x.shape[0]"
      ],
      "metadata": {
        "colab": {
          "base_uri": "https://localhost:8080/"
        },
        "id": "Gga7LhnNfFdZ",
        "outputId": "2b4ea54a-9191-424e-e6ac-d3206bd49f8f"
      },
      "execution_count": null,
      "outputs": [
        {
          "output_type": "execute_result",
          "data": {
            "text/plain": [
              "array([[-0.07096333,  0.14567342, -0.07471008],\n",
              "       [ 0.23101574, -0.47422875,  0.24321301],\n",
              "       [-0.12886698,  0.26453794, -0.13567096],\n",
              "       [ 0.03686188, -0.07567001,  0.03880813],\n",
              "       [ 0.18082886, -0.3712052 ,  0.19037634]])"
            ]
          },
          "metadata": {},
          "execution_count": 60
        }
      ]
    },
    {
      "cell_type": "code",
      "source": [
        "grad_softmax_cross_entropy_for_w(x,yaux,w,b)"
      ],
      "metadata": {
        "colab": {
          "base_uri": "https://localhost:8080/"
        },
        "id": "U2jPQsutve7C",
        "outputId": "7a50d010-1fc2-4218-f2d2-b82efb4207f0"
      },
      "execution_count": null,
      "outputs": [
        {
          "output_type": "execute_result",
          "data": {
            "text/plain": [
              "array([[-0.01981696,  0.21342333, -0.19360637],\n",
              "       [ 0.41799363, -0.22655262, -0.19144101],\n",
              "       [-0.15769701,  0.22634888, -0.06865187],\n",
              "       [-0.06951435, -0.21657894,  0.28609329],\n",
              "       [ 0.0086808 , -0.59923733,  0.59055653]])"
            ]
          },
          "metadata": {},
          "execution_count": 61
        }
      ]
    },
    {
      "cell_type": "code",
      "source": [
        "#gradiente para b\n",
        "aux1/ x.shape[0]"
      ],
      "metadata": {
        "colab": {
          "base_uri": "https://localhost:8080/"
        },
        "id": "WNElzQKuQzHB",
        "outputId": "7b263405-7566-4591-cc2f-4325b4f9a5a5"
      },
      "execution_count": null,
      "outputs": [
        {
          "output_type": "execute_result",
          "data": {
            "text/plain": [
              "array([[ 0.19114756, -0.39238741,  0.20123985]])"
            ]
          },
          "metadata": {},
          "execution_count": 62
        }
      ]
    },
    {
      "cell_type": "code",
      "source": [
        "grad_softmax_cross_entropy_for_b(x,yaux,w,b)"
      ],
      "metadata": {
        "colab": {
          "base_uri": "https://localhost:8080/"
        },
        "id": "xIXl_-O2xF0o",
        "outputId": "aba0f9ec-2718-4178-c862-daf40b2be40a"
      },
      "execution_count": null,
      "outputs": [
        {
          "output_type": "execute_result",
          "data": {
            "text/plain": [
              "array([[ 0.3216239, -0.2195548, -0.1020691]])"
            ]
          },
          "metadata": {},
          "execution_count": 63
        }
      ]
    },
    {
      "cell_type": "markdown",
      "source": [
        "Finalmente podemos implementar SGD: Stochastic Gradient Descent"
      ],
      "metadata": {
        "id": "AcE-veot9Myj"
      }
    },
    {
      "cell_type": "code",
      "source": [
        "batch_size = 200"
      ],
      "metadata": {
        "id": "DQ2GHGI780yj"
      },
      "execution_count": null,
      "outputs": []
    },
    {
      "cell_type": "code",
      "source": [
        "def batch_gradient_descent(x, y, w, b, net, batch_size, learning_rate=0.1, num_epochs=10):\n",
        "  m = x.shape[0]\n",
        "  J_all = []\n",
        "\t\n",
        "  for _ in range(num_epochs):\n",
        "    random_indices = np.random.choice(m, size=batch_size, replace=False)\n",
        "    x_batch = x[random_indices, :].copy()\n",
        "    y_batch = y[random_indices].copy()\n",
        "\n",
        "    y_probs = net_s(x_batch, w, b)\n",
        "    #y_hat = y_probs.argmax(axis=1)\n",
        "    gradient_w = grad_softmax_cross_entropy_for_w(x_batch,y_batch,w,b)\n",
        "    gradient_b = grad_softmax_cross_entropy_for_b(x_batch,y_batch,w,b)\n",
        "\n",
        "    w = w - learning_rate*gradient_w\n",
        "    b = b - learning_rate*gradient_b\n",
        "    \n",
        "    J_all.append(cross_entropy(y_probs, y_batch))\n",
        "\n",
        "  return J_all, w, b "
      ],
      "metadata": {
        "id": "eF5RD0kxdWEK"
      },
      "execution_count": null,
      "outputs": []
    },
    {
      "cell_type": "code",
      "source": [
        "np.random.seed(4)\n",
        "W = np.random.normal(0, 0.1, (num_inputs, num_outputs)) # Jugaremos con este parametro\n",
        "B = np.zeros(num_outputs) # Jugaremos con este parametro"
      ],
      "metadata": {
        "id": "W8YQngXk_hul"
      },
      "execution_count": null,
      "outputs": []
    },
    {
      "cell_type": "code",
      "source": [
        "learning_rate = 0.5\n",
        "num_epochs = 100"
      ],
      "metadata": {
        "id": "8m-glGpg_rIG"
      },
      "execution_count": null,
      "outputs": []
    },
    {
      "cell_type": "code",
      "source": [
        "J_all, W, B = batch_gradient_descent(X_prob, Y_prob, W, B, net, batch_size, learning_rate, num_epochs)\n",
        "Y_hat = net_s(X_prob, W, B)\n",
        "J = cross_entropy(Y_hat, Y_prob)\n",
        "print(\"Cost: \", J)\n",
        "print(\"Parameters: \", W)\n",
        "print(\"Intercepto: \", B)"
      ],
      "metadata": {
        "colab": {
          "base_uri": "https://localhost:8080/"
        },
        "id": "XQzaa3Rh_t1g",
        "outputId": "a4ba470a-965f-4066-e8f5-ead2201b5ecc"
      },
      "execution_count": null,
      "outputs": [
        {
          "output_type": "stream",
          "name": "stdout",
          "text": [
            "Cost:  0.1939517527372499\n",
            "Parameters:  [[ 0.60710666 -0.55205536]\n",
            " [-0.00448148 -0.02574956]\n",
            " [-0.14509015 -0.05519773]\n",
            " [-0.18036458  0.17545143]\n",
            " [-0.12951288  0.04799022]\n",
            " [ 0.05979465 -0.00672637]\n",
            " [ 0.04847903  0.02725352]\n",
            " [ 0.1164914  -0.19707331]\n",
            " [ 0.02559381  0.06841539]\n",
            " [-0.60340437  0.68035209]\n",
            " [-0.38287662  0.29002072]\n",
            " [-0.1442361   0.03933058]\n",
            " [ 0.13780665  0.12395889]\n",
            " [ 0.24122567 -0.18327111]\n",
            " [ 0.14732551 -0.11984732]\n",
            " [ 0.06042775 -0.0713052 ]\n",
            " [-0.20204341 -0.02896333]\n",
            " [ 0.02983141 -0.05660618]\n",
            " [ 1.72533872 -1.42506754]\n",
            " [-0.18028747  0.23231832]\n",
            " [-0.00595529 -0.05743259]\n",
            " [ 0.04632288 -0.18200492]\n",
            " [ 0.02238098  0.04475722]\n",
            " [ 0.01670839  0.07319547]\n",
            " [ 0.11237078 -0.04839244]]\n",
            "Intercepto:  [[ 0.82872359 -0.82872359]]\n"
          ]
        }
      ]
    },
    {
      "cell_type": "code",
      "source": [
        "perdida_por_epoca = np.array(J_all).reshape(-1,1)\n",
        "plt.plot(perdida_por_epoca)\n",
        "plt.show()"
      ],
      "metadata": {
        "colab": {
          "base_uri": "https://localhost:8080/",
          "height": 265
        },
        "id": "ii29aoq8_ze_",
        "outputId": "81074dca-842e-4bd8-c9d4-15635d19b67a"
      },
      "execution_count": null,
      "outputs": [
        {
          "output_type": "display_data",
          "data": {
            "text/plain": [
              "<Figure size 432x288 with 1 Axes>"
            ],
            "image/png": "[encoded data removed]"
          },
          "metadata": {
            "needs_background": "light"
          }
        }
      ]
    },
    {
      "cell_type": "code",
      "source": [
        "# Las probabilidades que predecimos para cada fila de nuestros datos\n",
        "net_s(X_prob, W, B)"
      ],
      "metadata": {
        "colab": {
          "base_uri": "https://localhost:8080/"
        },
        "id": "GCWjnf0O_9FB",
        "outputId": "863940e2-ca33-4f44-dc88-4eac61928032"
      },
      "execution_count": null,
      "outputs": [
        {
          "output_type": "execute_result",
          "data": {
            "text/plain": [
              "array([[0.09881965, 0.90118035],\n",
              "       [0.06902742, 0.93097258],\n",
              "       [0.08502179, 0.91497821],\n",
              "       ...,\n",
              "       [0.06609291, 0.93390709],\n",
              "       [0.0909438 , 0.9090562 ],\n",
              "       [0.41618004, 0.58381996]])"
            ]
          },
          "metadata": {},
          "execution_count": 97
        }
      ]
    },
    {
      "cell_type": "code",
      "source": [
        "# La etiqueta verdadera de nuestros datos\n",
        "Y_prob"
      ],
      "metadata": {
        "colab": {
          "base_uri": "https://localhost:8080/"
        },
        "id": "gLKlVBFxAAcm",
        "outputId": "a1e446c5-62e4-4e2d-8b2b-09e890cde052"
      },
      "execution_count": null,
      "outputs": [
        {
          "output_type": "execute_result",
          "data": {
            "text/plain": [
              "array([1, 1, 1, ..., 1, 1, 1])"
            ]
          },
          "metadata": {},
          "execution_count": 98
        }
      ]
    },
    {
      "cell_type": "code",
      "source": [
        "accuracy(net_s(X_prob, W, B),Y_prob) "
      ],
      "metadata": {
        "colab": {
          "base_uri": "https://localhost:8080/"
        },
        "id": "AG8eQq2RACkn",
        "outputId": "0d9322da-0ec6-4e53-89ed-910a0adabf73"
      },
      "execution_count": null,
      "outputs": [
        {
          "output_type": "execute_result",
          "data": {
            "text/plain": [
              "0.9311612826697244"
            ]
          },
          "metadata": {},
          "execution_count": 99
        }
      ]
    },
    {
      "cell_type": "markdown",
      "source": [
        "## AdaGrad"
      ],
      "metadata": {
        "id": "_iQhER8yAEeS"
      }
    },
    {
      "cell_type": "code",
      "source": [
        "def adagrad(x, y, w, b, net, batch_size, eta=0.1, epsilon=1e-7, num_epochs=10):\n",
        "  m = x.shape[0]\n",
        "  J_all = []\n",
        "  sum_w = 0\n",
        "  sum_b = 0\n",
        "  \n",
        "  for _ in range(num_epochs):\n",
        "    random_indices = np.random.choice(m, size=batch_size, replace=False)\n",
        "    x_batch = x[random_indices, :].copy()\n",
        "    y_batch = y[random_indices].copy()\n",
        "\n",
        "    y_probs = net_s(x_batch, w, b)\n",
        "    #y_hat = y_probs.argmax(axis=1)\n",
        "    gradient_w = grad_softmax_cross_entropy_for_w(x_batch,y_batch,w,b)\n",
        "    gradient_b = grad_softmax_cross_entropy_for_b(x_batch,y_batch,w,b)\n",
        "    \n",
        "    sum_w = sum_w + gradient_w**2\n",
        "    sum_b = sum_b + gradient_b**2\n",
        "  \n",
        "    w = w - (eta/(epsilon + np.sqrt(sum_w))) * gradient_w\n",
        "    b = b - (eta/(epsilon + np.sqrt(sum_b))) * gradient_b\n",
        "    \n",
        "    J_all.append(cross_entropy(y_probs, y_batch))\n",
        "\n",
        "  return J_all, w, b "
      ],
      "metadata": {
        "id": "H7Ek5Fv5ry5B"
      },
      "execution_count": null,
      "outputs": []
    },
    {
      "cell_type": "code",
      "source": [
        "np.random.seed(4)\n",
        "W = np.random.normal(0, 0.1, (num_inputs, num_outputs)) # Jugaremos con este parametro\n",
        "B = np.zeros(num_outputs) # Jugaremos con este parametro\n",
        "\n",
        "eta = 0.5\n",
        "epsilon = 1e-7\n",
        "num_epochs = 100"
      ],
      "metadata": {
        "id": "-3MJnCBhwNK_"
      },
      "execution_count": null,
      "outputs": []
    },
    {
      "cell_type": "code",
      "source": [
        "J_all, W, B = adagrad(X_prob, Y_prob, W, B, net, batch_size, eta, epsilon, num_epochs)\n",
        "Y_hat = net_s(X_prob, W, B)\n",
        "J = cross_entropy(Y_hat, Y_prob)\n",
        "print(\"Cost: \", J)\n",
        "print(\"Parameters: \", W)\n",
        "print(\"Intercepto: \", B)"
      ],
      "metadata": {
        "colab": {
          "base_uri": "https://localhost:8080/"
        },
        "id": "DbuOfUYKwTH3",
        "outputId": "9cfc1728-31e3-4cb6-ecbf-f72a13a55d5e"
      },
      "execution_count": null,
      "outputs": [
        {
          "output_type": "stream",
          "name": "stdout",
          "text": [
            "Cost:  0.18875819347927963\n",
            "Parameters:  [[ 1.51662557 -1.46157427]\n",
            " [ 0.00401916 -0.0342502 ]\n",
            " [-0.88185983  0.68157196]\n",
            " [-0.20840555  0.20349239]\n",
            " [-0.56324812  0.48172546]\n",
            " [ 0.07058758 -0.0175193 ]\n",
            " [ 0.1049447  -0.02921215]\n",
            " [ 0.08877728 -0.16935919]\n",
            " [ 0.13713352 -0.04312432]\n",
            " [-0.78384034  0.86078805]\n",
            " [-0.54955392  0.45669803]\n",
            " [-0.18741977  0.08251424]\n",
            " [ 0.24106845  0.02069709]\n",
            " [ 0.26873645 -0.21078189]\n",
            " [ 0.20689846 -0.17942027]\n",
            " [ 0.11046434 -0.12134179]\n",
            " [-0.32004567  0.08903893]\n",
            " [ 0.1182962  -0.14507097]\n",
            " [ 2.10918033 -1.80890915]\n",
            " [-0.42390466  0.47593551]\n",
            " [ 0.04113443 -0.10452231]\n",
            " [-0.00505458 -0.13062746]\n",
            " [ 0.05038669  0.01675151]\n",
            " [ 0.09945452 -0.00955066]\n",
            " [ 0.27443114 -0.2104528 ]]\n",
            "Intercepto:  [[ 1.27418202 -1.27418202]]\n"
          ]
        }
      ]
    },
    {
      "cell_type": "code",
      "source": [
        "perdida_por_epoca = np.array(J_all).reshape(-1,1)\n",
        "plt.plot(perdida_por_epoca)\n",
        "plt.show()"
      ],
      "metadata": {
        "colab": {
          "base_uri": "https://localhost:8080/",
          "height": 265
        },
        "id": "tqO9JVp2w4Le",
        "outputId": "ac1da164-410c-4389-c987-d346ae7f9b23"
      },
      "execution_count": null,
      "outputs": [
        {
          "output_type": "display_data",
          "data": {
            "text/plain": [
              "<Figure size 432x288 with 1 Axes>"
            ],
            "image/png": "[encoded data removed]"
          },
          "metadata": {
            "needs_background": "light"
          }
        }
      ]
    },
    {
      "cell_type": "code",
      "source": [
        "accuracy(net_s(X_prob, W, B),Y_prob) "
      ],
      "metadata": {
        "colab": {
          "base_uri": "https://localhost:8080/"
        },
        "id": "PvRFCnPA40tl",
        "outputId": "38b52457-4c89-42bc-e23b-619427a4c325"
      },
      "execution_count": null,
      "outputs": [
        {
          "output_type": "execute_result",
          "data": {
            "text/plain": [
              "0.9308845043691432"
            ]
          },
          "metadata": {},
          "execution_count": 104
        }
      ]
    },
    {
      "cell_type": "markdown",
      "source": [
        "Tarea: Adaptación de AdaGrad para Backpropagation"
      ],
      "metadata": {
        "id": "KLvihi1Cf8a9"
      }
    },
    {
      "cell_type": "markdown",
      "source": [
        "Referencias:\n",
        "\n",
        "* https://www.jmlr.org/papers/volume12/duchi11a/duchi11a.pdf\n",
        "* https://arxiv.org/pdf/1806.01811.pdf"
      ],
      "metadata": {
        "id": "F1G5qP7e4z19"
      }
    }
  ]
}