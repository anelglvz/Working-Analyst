{
  "nbformat": 4,
  "nbformat_minor": 0,
  "metadata": {
    "colab": {
      "provenance": [],
      "collapsed_sections": [],
      "include_colab_link": true
    },
    "kernelspec": {
      "name": "python3",
      "display_name": "Python 3"
    },
    "language_info": {
      "name": "python"
    }
  },
  "cells": [
    {
      "cell_type": "markdown",
      "metadata": {
        "id": "view-in-github",
        "colab_type": "text"
      },
      "source": [
        "<a href=\"https://colab.research.google.com/github/anelglvz/ML-AI-for-the-Working-Analyst/blob/main/Semana5_Working_Analyst_Survival_Analysis.ipynb\" target=\"_parent\"><img src=\"https://colab.research.google.com/assets/colab-badge.svg\" alt=\"Open In Colab\"/></a>"
      ]
    },
    {
      "cell_type": "markdown",
      "source": [
        "[![Open In Colab](https://colab.research.google.com/assets/colab-badge.svg)](https://colab.research.google.com/github/MaxMitre/ML-AI-for-the-Working-Analyst/blob/main/Semana6/Survival_Analysis.ipynb)"
      ],
      "metadata": {
        "id": "RQqusLjHNfrl"
      }
    },
    {
      "cell_type": "code",
      "metadata": {
        "id": "xbSj8jGIwu4p"
      },
      "source": [
        "# Puede necesitar instalar alguna de estas librerías, solo descomentenlas a necesidad\n",
        "\n",
        "!pip install lifelines\n",
        "#!pip install plotly==4.14.3"
      ],
      "execution_count": null,
      "outputs": []
    },
    {
      "cell_type": "markdown",
      "metadata": {
        "id": "xPRUPkbftLVp"
      },
      "source": [
        "### Objetivo\n",
        "\n",
        "Implementar el análisis de supervivencia a datos sobre prestamos, para esto veremos:\n",
        "  1. Estimador Kaplan Meier\n",
        "  2. Modelo de Cox\n",
        "  3. Mención de Survival Random Forest"
      ]
    },
    {
      "cell_type": "markdown",
      "metadata": {
        "id": "l29_eJOmtHPE"
      },
      "source": [
        "### Carga"
      ]
    },
    {
      "cell_type": "code",
      "metadata": {
        "id": "1u0mEeBqrYtf"
      },
      "source": [
        "import numpy as np \n",
        "import pandas as pd \n",
        "\n",
        "import matplotlib.pyplot as plt\n",
        "import seaborn as sns \n",
        "\n",
        "from lifelines import KaplanMeierFitter\n",
        "from lifelines import CoxPHFitter\n",
        "from lifelines.statistics import logrank_test"
      ],
      "execution_count": null,
      "outputs": []
    },
    {
      "cell_type": "code",
      "metadata": {
        "id": "mjyP17VT0mwc"
      },
      "source": [
        "from google.colab import drive\n",
        "drive.mount('/content/drive') "
      ],
      "execution_count": null,
      "outputs": []
    },
    {
      "cell_type": "markdown",
      "source": [
        "Los datos de los prestamos pueden ser encontrados [aquí](https://www.kaggle.com/datasets/yousuf28/prosper-loan). La parte de las etiquetas fue obtenida [aquí](https://github.com/ketra21/prosperloan/blob/master/Prosper%20Loan%20Data%20-%20Variable%20Definitions.csv)."
      ],
      "metadata": {
        "id": "ERGc9jASFjsE"
      }
    },
    {
      "cell_type": "code",
      "metadata": {
        "id": "3_oi7Wes0vRL"
      },
      "source": [
        "df = pd.read_csv('/content/drive/MyDrive/Curso-WorkingAnalyst/semana6/prosperLoanData.csv')\n",
        "df_dict = pd.read_csv('/content/drive/MyDrive/Curso-WorkingAnalyst/semana6/Prosper Loan Data - Variable Definitions.csv')"
      ],
      "execution_count": null,
      "outputs": []
    },
    {
      "cell_type": "code",
      "metadata": {
        "id": "E6fmQrnH3FLD"
      },
      "source": [
        "df_dict"
      ],
      "execution_count": null,
      "outputs": []
    },
    {
      "cell_type": "code",
      "source": [
        "df_dict_reindex = df_dict.set_index('Variable')"
      ],
      "metadata": {
        "id": "6pvHN43UgHL8"
      },
      "execution_count": null,
      "outputs": []
    },
    {
      "cell_type": "code",
      "source": [
        "df_dict_reindex"
      ],
      "metadata": {
        "id": "rbI9FTPP3CYW"
      },
      "execution_count": null,
      "outputs": []
    },
    {
      "cell_type": "code",
      "metadata": {
        "id": "IkuQ6768185p"
      },
      "source": [
        "df.head()"
      ],
      "execution_count": null,
      "outputs": []
    },
    {
      "cell_type": "code",
      "metadata": {
        "id": "FKDsWC3y19wf"
      },
      "source": [
        "df.info()"
      ],
      "execution_count": null,
      "outputs": []
    },
    {
      "cell_type": "markdown",
      "metadata": {
        "id": "ERhpwl1O4dVO"
      },
      "source": [
        "#### Filtrando columnas"
      ]
    },
    {
      "cell_type": "code",
      "source": [
        "df_dict_reindex.loc[['LoanKey', 'ProsperRating (numeric)', 'EmploymentStatusDuration',\n",
        "                    'LoanOriginationDate', 'LoanStatus', 'EmploymentStatus',\n",
        "                    'ClosedDate', 'Occupation', 'BorrowerState', 'IsBorrowerHomeowner',\n",
        "                    'StatedMonthlyIncome', 'IncomeRange', 'LoanOriginalAmount'],:]"
      ],
      "metadata": {
        "id": "06HLudpdfejI"
      },
      "execution_count": null,
      "outputs": []
    },
    {
      "cell_type": "code",
      "metadata": {
        "id": "BVP3BCOr1-zA"
      },
      "source": [
        "df_sub = df.loc[:, ['LoanKey', 'ProsperRating (numeric)', 'EmploymentStatusDuration',\n",
        "                    'LoanOriginationDate', 'LoanStatus', 'EmploymentStatus',\n",
        "                    'ClosedDate', 'Occupation', 'BorrowerState', 'IsBorrowerHomeowner',\n",
        "                    'StatedMonthlyIncome', 'IncomeRange', 'LoanOriginalAmount']]\n",
        "df_sub.head()"
      ],
      "execution_count": null,
      "outputs": []
    },
    {
      "cell_type": "code",
      "metadata": {
        "id": "wOMHYSi6nznq"
      },
      "source": [
        "df_sub.info()"
      ],
      "execution_count": null,
      "outputs": []
    },
    {
      "cell_type": "code",
      "metadata": {
        "id": "-iCW83hbqw0R"
      },
      "source": [
        "df_sub['LoanOriginationDate'] = pd.to_datetime(df['LoanOriginationDate'])\n",
        "df_sub['ClosedDate'] = pd.to_datetime(df_sub['ClosedDate'], errors='ignore')"
      ],
      "execution_count": null,
      "outputs": []
    },
    {
      "cell_type": "code",
      "metadata": {
        "id": "q7mptpNDqJ7T"
      },
      "source": [
        "df_sub"
      ],
      "execution_count": null,
      "outputs": []
    },
    {
      "cell_type": "code",
      "metadata": {
        "id": "zQNMRRknq_5r"
      },
      "source": [
        "df_sub['LoanKey'].unique().shape"
      ],
      "execution_count": null,
      "outputs": []
    },
    {
      "cell_type": "code",
      "metadata": {
        "id": "Zi_9omJjudi8"
      },
      "source": [
        "df_sub = df_sub.drop_duplicates(subset='LoanKey').reset_index(drop=True)\n",
        "df_sub.shape"
      ],
      "execution_count": null,
      "outputs": []
    },
    {
      "cell_type": "markdown",
      "source": [
        "Revisando el rango máximo de tiempo e ingresos de usuarios"
      ],
      "metadata": {
        "id": "pVCQv9bov3eR"
      }
    },
    {
      "cell_type": "code",
      "metadata": {
        "id": "iJuGl9absvak"
      },
      "source": [
        "df_sub[['LoanOriginationDate', 'ClosedDate', 'StatedMonthlyIncome']].max()"
      ],
      "execution_count": null,
      "outputs": []
    },
    {
      "cell_type": "code",
      "metadata": {
        "id": "cwUeFEuGtdtz"
      },
      "source": [
        "df_sub[['LoanOriginationDate', 'ClosedDate', 'StatedMonthlyIncome']].min()"
      ],
      "execution_count": null,
      "outputs": []
    },
    {
      "cell_type": "markdown",
      "metadata": {
        "id": "Skhto2pU4iv-"
      },
      "source": [
        "#### Revisando la variable del evento -> LoanStatus"
      ]
    },
    {
      "cell_type": "code",
      "metadata": {
        "id": "XqCJD1st4vtq"
      },
      "source": [
        "df_sub.LoanStatus.unique()"
      ],
      "execution_count": null,
      "outputs": []
    },
    {
      "cell_type": "code",
      "metadata": {
        "id": "YsOptrr3u90c"
      },
      "source": [
        "df_status = df_sub[df_sub['LoanStatus'].isin([ 'Current', 'Chargedoff', 'Defaulted'])].copy()\n",
        "df_status.head()"
      ],
      "execution_count": null,
      "outputs": []
    },
    {
      "cell_type": "code",
      "metadata": {
        "id": "Yp8XWv_ub0JT"
      },
      "source": [
        "df_status.LoanStatus.unique()"
      ],
      "execution_count": null,
      "outputs": []
    },
    {
      "cell_type": "code",
      "metadata": {
        "id": "p6zF9L0M1Efh"
      },
      "source": [
        "df_status['LoanStatus_Censored'] = df_status['LoanStatus'].apply(lambda x: 0 if x == 'Current' else 1)"
      ],
      "execution_count": null,
      "outputs": []
    },
    {
      "cell_type": "code",
      "metadata": {
        "id": "T7ScgxnJb8aQ"
      },
      "source": [
        "df_status.head(10)"
      ],
      "execution_count": null,
      "outputs": []
    },
    {
      "cell_type": "code",
      "metadata": {
        "id": "0rqflg-tcCsw"
      },
      "source": [
        "max_date = df_status.ClosedDate.max()\n",
        "max_date"
      ],
      "execution_count": null,
      "outputs": []
    },
    {
      "cell_type": "markdown",
      "source": [
        "Vamos a arreglar los tiempos para los datos censurados"
      ],
      "metadata": {
        "id": "UjRqw1xB14DM"
      }
    },
    {
      "cell_type": "code",
      "metadata": {
        "id": "k_7y1RMucVgg"
      },
      "source": [
        "df_status.ClosedDate.fillna(max_date, inplace=True)"
      ],
      "execution_count": null,
      "outputs": []
    },
    {
      "cell_type": "code",
      "source": [
        "df_status"
      ],
      "metadata": {
        "id": "PZryNC8u2gW7"
      },
      "execution_count": null,
      "outputs": []
    },
    {
      "cell_type": "code",
      "metadata": {
        "id": "vFA6sBj7c2iJ"
      },
      "source": [
        "df_status['time'] = df_status['ClosedDate'] - df_status['LoanOriginationDate']"
      ],
      "execution_count": null,
      "outputs": []
    },
    {
      "cell_type": "code",
      "metadata": {
        "id": "Ygi1IVe9dj4_"
      },
      "source": [
        "df_status.head()"
      ],
      "execution_count": null,
      "outputs": []
    },
    {
      "cell_type": "markdown",
      "source": [
        "Veamos elementos que tiene problemas en la columna \"time\" (prestamos creados tarde)"
      ],
      "metadata": {
        "id": "dxQ0MHNCyAMj"
      }
    },
    {
      "cell_type": "code",
      "source": [
        "pd.to_timedelta(0, unit='D')"
      ],
      "metadata": {
        "id": "SNCGdXZLTMFj"
      },
      "execution_count": null,
      "outputs": []
    },
    {
      "cell_type": "code",
      "metadata": {
        "id": "kt8IpM2DeVqp"
      },
      "source": [
        "df_status[df_status['time'] < pd.to_timedelta(0, unit='D')]"
      ],
      "execution_count": null,
      "outputs": []
    },
    {
      "cell_type": "code",
      "metadata": {
        "id": "EHtBDLB9fgTp"
      },
      "source": [
        "df_status_clean = df_status[df_status['time'] > pd.to_timedelta(0, unit='D')]\n",
        "df_status_clean.head()"
      ],
      "execution_count": null,
      "outputs": []
    },
    {
      "cell_type": "code",
      "metadata": {
        "id": "AEsdOpMN1cKo"
      },
      "source": [
        "df_status_clean['time'] = df_status_clean.time.dt.days"
      ],
      "execution_count": null,
      "outputs": []
    },
    {
      "cell_type": "code",
      "source": [
        "df_status_clean"
      ],
      "metadata": {
        "id": "cwgxuFic8yg5"
      },
      "execution_count": null,
      "outputs": []
    },
    {
      "cell_type": "code",
      "metadata": {
        "id": "0CWe6IvzuAt4"
      },
      "source": [
        "df_status_clean.LoanStatus_Censored.value_counts(normalize=True)"
      ],
      "execution_count": null,
      "outputs": []
    },
    {
      "cell_type": "markdown",
      "source": [
        "Recordemos: 0 son datos censurados"
      ],
      "metadata": {
        "id": "81tJHcCfVaXM"
      }
    },
    {
      "cell_type": "markdown",
      "metadata": {
        "id": "xTI80LYlxEuf"
      },
      "source": [
        "### Kaplan-Meier"
      ]
    },
    {
      "cell_type": "code",
      "source": [
        "df_status_clean[['time', 'LoanStatus_Censored']]"
      ],
      "metadata": {
        "id": "XxMdfT1V1Zo7"
      },
      "execution_count": null,
      "outputs": []
    },
    {
      "cell_type": "code",
      "metadata": {
        "id": "ofALO38ExIsn"
      },
      "source": [
        "T = df_status_clean.time\n",
        "E = df_status_clean.LoanStatus_Censored\n",
        "\n",
        "model = KaplanMeierFitter()\n",
        "\n",
        "model.fit(T, event_observed=E)\n",
        "\n",
        "function = model.survival_function_"
      ],
      "execution_count": null,
      "outputs": []
    },
    {
      "cell_type": "code",
      "metadata": {
        "id": "iObRXYeU0kP1"
      },
      "source": [
        "function.plot(title='Kaplan Meier Estimator')"
      ],
      "execution_count": null,
      "outputs": []
    },
    {
      "cell_type": "code",
      "metadata": {
        "id": "R37dAubT0m7o"
      },
      "source": [
        "model.median_survival_time_"
      ],
      "execution_count": null,
      "outputs": []
    },
    {
      "cell_type": "code",
      "metadata": {
        "id": "Bv2HOqGW39Qt"
      },
      "source": [
        "model.event_table"
      ],
      "execution_count": null,
      "outputs": []
    },
    {
      "cell_type": "code",
      "source": [
        "print(model.predict(1000))\n",
        "print(model.predict(775))"
      ],
      "metadata": {
        "id": "32V9Z_pJkWlS"
      },
      "execution_count": null,
      "outputs": []
    },
    {
      "cell_type": "code",
      "metadata": {
        "id": "eo20ecABKj0X"
      },
      "source": [
        "borrower = (df_status_clean['IsBorrowerHomeowner'] == True)\n",
        "\n",
        "T = df_status_clean.time\n",
        "E = df_status_clean.LoanStatus_Censored\n",
        "\n",
        "model = KaplanMeierFitter()\n",
        "\n",
        "model.fit(T[borrower], event_observed=E[borrower], label='Homeowner')\n",
        "fig_1 = model.survival_function_\n",
        "\n",
        "model.fit(T[~borrower], event_observed=E[~borrower], label='Not Homeowner')\n",
        "fig_2 = model.survival_function_\n",
        "\n",
        "\n",
        "figure = pd.concat([fig_1, fig_2], axis=1)\n",
        "figure.plot(backend='plotly')"
      ],
      "execution_count": null,
      "outputs": []
    },
    {
      "cell_type": "code",
      "metadata": {
        "id": "IIW8pRb87VoH"
      },
      "source": [
        "results = logrank_test(T[borrower], T[~borrower], event_observed_A=E[borrower],\n",
        "                       event_observed_B=E[~borrower])\n",
        "results.print_summary()"
      ],
      "execution_count": null,
      "outputs": []
    },
    {
      "cell_type": "markdown",
      "source": [
        "Entonces se puede rechaza la hipótesis nula de que las funciones de riesgo son iguales (por lo tanto tampoco sus funciones de *supervivencia*) "
      ],
      "metadata": {
        "id": "x3_qE1QOmRTK"
      }
    },
    {
      "cell_type": "markdown",
      "source": [
        "Es importante señalar que siempre se supone falla!!!"
      ],
      "metadata": {
        "id": "f5DAQHpq9LFz"
      }
    },
    {
      "cell_type": "code",
      "metadata": {
        "id": "WtWqFRgkOlFf"
      },
      "source": [
        "def survival(data, group_field, time_field, event_field):\n",
        "  \"\"\"\n",
        "  Funcion que recibe un DataFrame y filtra por columna\n",
        "\n",
        "  Returns\n",
        "    gráfica de la función de supervivencia (Survival function)\n",
        "    Logrank Test\n",
        "  \"\"\"\n",
        "\n",
        "  model = KaplanMeierFitter()\n",
        "  results = []\n",
        "  con_exp = []\n",
        "\n",
        "  for i in data[group_field].dropna().unique():\n",
        "    group = data[data[group_field] == i]\n",
        "    T = group[time_field]\n",
        "    E = group[event_field]\n",
        "    con_exp.append([T, E])\n",
        "    model.fit(T, E, label=str(i))\n",
        "    results.append(model.survival_function_)\n",
        "\n",
        "  survival = pd.concat(results, axis=1)\n",
        "  \n",
        "  \n",
        "  return survival\n"
      ],
      "execution_count": null,
      "outputs": []
    },
    {
      "cell_type": "code",
      "metadata": {
        "id": "Ob3yPBm43s2u"
      },
      "source": [
        "rates = survival(df_status_clean, 'Occupation', 'time', 'LoanStatus_Censored')\n",
        "rates.plot(kind='scatter', title='Pago completo dependiendo de su ocupación', \n",
        "           backend='plotly')"
      ],
      "execution_count": null,
      "outputs": []
    },
    {
      "cell_type": "code",
      "source": [
        "ocupation1 = (df_status_clean['Occupation'] == 'Computer Programmer')\n",
        "ocupation2 = (df_status_clean['Occupation'] == 'Professor')\n",
        "\n",
        "T = df_status_clean.time\n",
        "E = df_status_clean.LoanStatus_Censored\n",
        "\n",
        "model = KaplanMeierFitter()\n",
        "\n",
        "model.fit(T[ocupation1], event_observed=E[ocupation1], label='Computer Programmer')\n",
        "fig_1 = model.survival_function_\n",
        "\n",
        "model.fit(T[ocupation2], event_observed=E[ocupation2], label='Professor')\n",
        "fig_2 = model.survival_function_\n",
        "\n",
        "\n",
        "figure = pd.concat([fig_1, fig_2], axis=1)\n",
        "figure.plot(backend='plotly',kind='scatter')"
      ],
      "metadata": {
        "id": "px4wyF3sw7aS"
      },
      "execution_count": null,
      "outputs": []
    },
    {
      "cell_type": "code",
      "source": [
        "results = logrank_test(T[ocupation1], T[ocupation2], event_observed_A=E[ocupation1],\n",
        "                       event_observed_B=E[ocupation2])\n",
        "results.print_summary()"
      ],
      "metadata": {
        "id": "RwdH7q5lwNuQ"
      },
      "execution_count": null,
      "outputs": []
    },
    {
      "cell_type": "markdown",
      "metadata": {
        "id": "1GemcWxm9RFJ"
      },
      "source": [
        "### Cox Model (Segunda Sesión)"
      ]
    },
    {
      "cell_type": "code",
      "metadata": {
        "id": "f2z8PdQD9yfn"
      },
      "source": [
        "df_status_clean.head()"
      ],
      "execution_count": null,
      "outputs": []
    },
    {
      "cell_type": "code",
      "metadata": {
        "id": "PhrmufN4-KLd"
      },
      "source": [
        "to_model = df_status_clean[['LoanOriginalAmount', 'IsBorrowerHomeowner', 'StatedMonthlyIncome', \n",
        "                    'time', 'LoanStatus_Censored']]"
      ],
      "execution_count": null,
      "outputs": []
    },
    {
      "cell_type": "code",
      "metadata": {
        "id": "S6rw-Cii8n40"
      },
      "source": [
        "model = CoxPHFitter()\n",
        "model.fit(to_model, duration_col='time', event_col='LoanStatus_Censored')"
      ],
      "execution_count": null,
      "outputs": []
    },
    {
      "cell_type": "code",
      "metadata": {
        "id": "OhaZghG6Btik"
      },
      "source": [
        "model.print_summary()"
      ],
      "execution_count": null,
      "outputs": []
    },
    {
      "cell_type": "code",
      "metadata": {
        "id": "yY2qJPjWCUZQ"
      },
      "source": [
        "model.plot()"
      ],
      "execution_count": null,
      "outputs": []
    },
    {
      "cell_type": "code",
      "metadata": {
        "id": "NV2IoLhoCsjI"
      },
      "source": [
        "model.plot_partial_effects_on_outcome(covariates='LoanOriginalAmount',\n",
        "                                      values=[1000, 10000, \n",
        "                                              20000], cmap='coolwarm',\n",
        "                                      figsize=(15, 10))"
      ],
      "execution_count": null,
      "outputs": []
    },
    {
      "cell_type": "markdown",
      "source": [
        "baseline es $h_0(t)$"
      ],
      "metadata": {
        "id": "iUPr1b2L0pbE"
      }
    },
    {
      "cell_type": "markdown",
      "source": [
        "Prediciendo riesgos"
      ],
      "metadata": {
        "id": "OadrdQ3m_bBK"
      }
    },
    {
      "cell_type": "code",
      "source": [
        "to_model[:5]"
      ],
      "metadata": {
        "id": "7i6TVHUuywzr"
      },
      "execution_count": null,
      "outputs": []
    },
    {
      "cell_type": "code",
      "source": [
        "model.predict_partial_hazard(to_model[:5])"
      ],
      "metadata": {
        "id": "B07rXeRw-u_d"
      },
      "execution_count": null,
      "outputs": []
    },
    {
      "cell_type": "markdown",
      "metadata": {
        "id": "pVXNKxrbgido"
      },
      "source": [
        "### DF filter 2009\n"
      ]
    },
    {
      "cell_type": "code",
      "metadata": {
        "id": "HFj8bH2n-0hO"
      },
      "source": [
        "df_2009 = df_status_clean[df_status_clean['LoanOriginationDate'].dt.year == 2009].reset_index(drop=True)\n",
        "df_2009.head()"
      ],
      "execution_count": null,
      "outputs": []
    },
    {
      "cell_type": "code",
      "metadata": {
        "id": "Tm8T2p-5iya7"
      },
      "source": [
        "df_2009.info()"
      ],
      "execution_count": null,
      "outputs": []
    },
    {
      "cell_type": "code",
      "source": [
        "# Valores distintos en la columna\n",
        "df_2009.EmploymentStatus.unique()"
      ],
      "metadata": {
        "id": "2bhnkUp0MdPv"
      },
      "execution_count": null,
      "outputs": []
    },
    {
      "cell_type": "code",
      "source": [
        "df_2009[['EmploymentStatus']]"
      ],
      "metadata": {
        "id": "sFhY3ru8MyII"
      },
      "execution_count": null,
      "outputs": []
    },
    {
      "cell_type": "code",
      "metadata": {
        "id": "kTWHzua1ipQu"
      },
      "source": [
        "dummies = pd.get_dummies(df_2009[['EmploymentStatus']], drop_first=True)\n",
        "dummies"
      ],
      "execution_count": null,
      "outputs": []
    },
    {
      "cell_type": "code",
      "source": [
        "dummies.sum()"
      ],
      "metadata": {
        "id": "zHxlL-wtNKD-"
      },
      "execution_count": null,
      "outputs": []
    },
    {
      "cell_type": "code",
      "metadata": {
        "id": "oG9_626wkXhG"
      },
      "source": [
        "df_2009.IncomeRange.unique()"
      ],
      "execution_count": null,
      "outputs": []
    },
    {
      "cell_type": "code",
      "metadata": {
        "id": "zQyPC9ink0pX"
      },
      "source": [
        "def income_range_ordinal(label: str):\n",
        "  if label in ('$0', 'Not employed'):\n",
        "    return 0\n",
        "  elif label == '$1-24,999':\n",
        "    return 1\n",
        "  elif label == '$75,000-99,999':\n",
        "    return 2\n",
        "  elif label == '$25,000-49,999':\n",
        "    return 3\n",
        "  elif label == '$50,000-74,999':\n",
        "    return 4\n",
        "  else:\n",
        "    return 5"
      ],
      "execution_count": null,
      "outputs": []
    },
    {
      "cell_type": "code",
      "metadata": {
        "id": "HXXewlj_lXTf"
      },
      "source": [
        "df_2009['IncomeRange_ord'] = df_2009.IncomeRange.apply(income_range_ordinal)"
      ],
      "execution_count": null,
      "outputs": []
    },
    {
      "cell_type": "code",
      "metadata": {
        "id": "odpZCVG3lh1V"
      },
      "source": [
        "df_2009.head()"
      ],
      "execution_count": null,
      "outputs": []
    },
    {
      "cell_type": "code",
      "metadata": {
        "id": "UpaJK0QIlluO"
      },
      "source": [
        "df_2009_dumm = pd.concat([df_2009, dummies], axis=1)\n",
        "df_2009_dumm.head()"
      ],
      "execution_count": null,
      "outputs": []
    },
    {
      "cell_type": "code",
      "metadata": {
        "id": "KK9bBc0yl4G3"
      },
      "source": [
        "df_2009_num = df_2009_dumm._get_numeric_data()\n",
        "df_2009_num"
      ],
      "execution_count": null,
      "outputs": []
    },
    {
      "cell_type": "code",
      "metadata": {
        "id": "UdkBfrUemuGc"
      },
      "source": [
        "null_col = df_2009_num.isnull().sum()\n",
        "null_col[null_col > 0]"
      ],
      "execution_count": null,
      "outputs": []
    },
    {
      "cell_type": "code",
      "metadata": {
        "id": "oidjo3PNm4QU"
      },
      "source": [
        "df_2009_num.dropna(inplace=True)"
      ],
      "execution_count": null,
      "outputs": []
    },
    {
      "cell_type": "code",
      "metadata": {
        "id": "z-miRpYKognK"
      },
      "source": [
        "df_2009_num.info()"
      ],
      "execution_count": null,
      "outputs": []
    },
    {
      "cell_type": "code",
      "metadata": {
        "id": "WYCbuEZFpuq7"
      },
      "source": [
        "df_2009_num.columns.duplicated()"
      ],
      "execution_count": null,
      "outputs": []
    },
    {
      "cell_type": "code",
      "source": [
        "df_2009_num"
      ],
      "metadata": {
        "id": "4rpwz33rWeUG"
      },
      "execution_count": null,
      "outputs": []
    },
    {
      "cell_type": "markdown",
      "metadata": {
        "id": "tXoIyft8mQV2"
      },
      "source": [
        "### Cox Model 2009"
      ]
    },
    {
      "cell_type": "code",
      "metadata": {
        "id": "lNjlKTuUorEc"
      },
      "source": [
        "to_model = df_2009_num #.iloc[:, 0:10]"
      ],
      "execution_count": null,
      "outputs": []
    },
    {
      "cell_type": "code",
      "source": [
        "to_model"
      ],
      "metadata": {
        "id": "NCZdZ-i8zM0H"
      },
      "execution_count": null,
      "outputs": []
    },
    {
      "cell_type": "code",
      "metadata": {
        "id": "QMoGZLDbmG_G"
      },
      "source": [
        "model = CoxPHFitter()\n",
        "model.fit(to_model, duration_col='time', event_col='LoanStatus_Censored')\n",
        "\n",
        "model.print_summary()"
      ],
      "execution_count": null,
      "outputs": []
    },
    {
      "cell_type": "code",
      "metadata": {
        "id": "6XQue0wemrg_"
      },
      "source": [
        "model.plot()"
      ],
      "execution_count": null,
      "outputs": []
    },
    {
      "cell_type": "code",
      "source": [
        "model.baseline_cumulative_hazard_.plot()"
      ],
      "metadata": {
        "id": "zDB5x0NA-hLL"
      },
      "execution_count": null,
      "outputs": []
    },
    {
      "cell_type": "code",
      "source": [
        "model.baseline_survival_.plot()"
      ],
      "metadata": {
        "id": "oCY4KJit_cDR"
      },
      "execution_count": null,
      "outputs": []
    },
    {
      "cell_type": "code",
      "source": [
        "to_model[100:105]"
      ],
      "metadata": {
        "id": "IDGkpYNw7weN"
      },
      "execution_count": null,
      "outputs": []
    },
    {
      "cell_type": "code",
      "source": [
        "model.predict_partial_hazard(to_model[100:105])"
      ],
      "metadata": {
        "id": "dtG6Rsfx7kdt"
      },
      "execution_count": null,
      "outputs": []
    },
    {
      "cell_type": "markdown",
      "source": [
        "## Caso con estimador paramétrico"
      ],
      "metadata": {
        "id": "EKQAsMkuAlsU"
      }
    },
    {
      "cell_type": "code",
      "metadata": {
        "id": "mXuxFfhKq-I_"
      },
      "source": [
        "model = CoxPHFitter(baseline_estimation_method='spline', n_baseline_knots=6)\n",
        "model.fit(to_model, duration_col='time', event_col='LoanStatus_Censored')\n",
        "\n",
        "# model.print_summary()\n",
        "model.baseline_cumulative_hazard_.plot()"
      ],
      "execution_count": null,
      "outputs": []
    },
    {
      "cell_type": "code",
      "source": [
        "model.baseline_survival_.plot()"
      ],
      "metadata": {
        "id": "jXLV39yR__u2"
      },
      "execution_count": null,
      "outputs": []
    },
    {
      "cell_type": "markdown",
      "source": [
        "# Random Survival Forest for 2010"
      ],
      "metadata": {
        "id": "kpWhfzqrQ8Ah"
      }
    },
    {
      "cell_type": "code",
      "source": [
        "!pip install scikit-survival"
      ],
      "metadata": {
        "id": "JDE-OAdZyMVg"
      },
      "execution_count": null,
      "outputs": []
    },
    {
      "cell_type": "code",
      "source": [
        "df_2010 = df_status_clean[df_status_clean['LoanOriginationDate'].dt.year == 2010].reset_index(drop=True)\n",
        "df_2010.head()"
      ],
      "metadata": {
        "id": "CJU621ojQ2tO"
      },
      "execution_count": null,
      "outputs": []
    },
    {
      "cell_type": "code",
      "source": [
        "to_model2 = df_2010[['LoanOriginalAmount', 'StatedMonthlyIncome', \n",
        "                  'time', 'LoanStatus_Censored']].copy()"
      ],
      "metadata": {
        "id": "1W54JU_bzwwb"
      },
      "execution_count": null,
      "outputs": []
    },
    {
      "cell_type": "code",
      "source": [
        "to_model2"
      ],
      "metadata": {
        "id": "Hn0YYSdPLDqq"
      },
      "execution_count": null,
      "outputs": []
    },
    {
      "cell_type": "code",
      "source": [
        "# Modificación de datos para alimentar el modelo Random Survival Forest\n",
        "Xt = to_model2[['LoanOriginalAmount', 'StatedMonthlyIncome']]\n",
        "y = np.array(to_model2[['LoanStatus_Censored', 'time']].apply(tuple, axis=1)).astype([('cens', '?'), ('time', '<f8')])"
      ],
      "metadata": {
        "id": "ajOZ3S4g1AvV"
      },
      "execution_count": null,
      "outputs": []
    },
    {
      "cell_type": "code",
      "source": [
        "to_model2[['LoanStatus_Censored', 'time']]"
      ],
      "metadata": {
        "id": "bFQFb_caRxB0"
      },
      "execution_count": null,
      "outputs": []
    },
    {
      "cell_type": "code",
      "source": [
        "from sklearn.model_selection import train_test_split\n",
        "\n",
        "from sksurv.ensemble import RandomSurvivalForest"
      ],
      "metadata": {
        "id": "mgp-JUiQyGc0"
      },
      "execution_count": null,
      "outputs": []
    },
    {
      "cell_type": "code",
      "source": [
        "random_state = 40\n",
        "\n",
        "X_train, X_test, y_train, y_test = train_test_split(Xt, y, test_size=0.25, random_state=random_state)"
      ],
      "metadata": {
        "id": "TUPz-i-yyGav"
      },
      "execution_count": null,
      "outputs": []
    },
    {
      "cell_type": "code",
      "source": [
        "y_train[:10]"
      ],
      "metadata": {
        "id": "PvgktPPf4wN9"
      },
      "execution_count": null,
      "outputs": []
    },
    {
      "cell_type": "code",
      "source": [
        "rsf = RandomSurvivalForest(n_estimators=1000,\n",
        "                           min_samples_split=10,\n",
        "                           min_samples_leaf=15,\n",
        "                           max_features=\"sqrt\",\n",
        "                           random_state=random_state)\n",
        "rsf.fit(X_train, y_train)"
      ],
      "metadata": {
        "id": "5ZwaTBGfRBKs"
      },
      "execution_count": null,
      "outputs": []
    },
    {
      "cell_type": "code",
      "source": [
        "# Concordance index\n",
        "rsf.score(X_train, y_train)"
      ],
      "metadata": {
        "id": "J66zRhGgyeUh"
      },
      "execution_count": null,
      "outputs": []
    },
    {
      "cell_type": "code",
      "source": [
        "rsf.score(X_test, y_test)"
      ],
      "metadata": {
        "id": "hQxKGnRm68m9"
      },
      "execution_count": null,
      "outputs": []
    },
    {
      "cell_type": "markdown",
      "source": [
        "## Como podemos ver de que servirían las predicciones"
      ],
      "metadata": {
        "id": "qgR98yjK7-Uv"
      }
    },
    {
      "cell_type": "markdown",
      "source": [
        "Haremos una predicción del riesgo"
      ],
      "metadata": {
        "id": "BqXBhRtbSbNZ"
      }
    },
    {
      "cell_type": "code",
      "source": [
        "rsf.predict(X_test[:5])"
      ],
      "metadata": {
        "id": "oGEJQty_6saG"
      },
      "execution_count": null,
      "outputs": []
    },
    {
      "cell_type": "code",
      "source": [
        "y_test[:5]"
      ],
      "metadata": {
        "id": "0Vj6kVlR6wjI"
      },
      "execution_count": null,
      "outputs": []
    },
    {
      "cell_type": "code",
      "source": [
        "X_test[:5]"
      ],
      "metadata": {
        "id": "3qv217517aKz"
      },
      "execution_count": null,
      "outputs": []
    }
  ]
}